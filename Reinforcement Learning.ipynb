{
 "cells": [
  {
   "cell_type": "markdown",
   "metadata": {},
   "source": [
    "**You may need to install [OpenCV](https://pypi.python.org/pypi/opencv-python) and [scikit-video](http://www.scikit-video.org/stable/).**"
   ]
  },
  {
   "cell_type": "code",
   "execution_count": 1,
   "metadata": {
    "collapsed": true
   },
   "outputs": [
    {
     "name": "stderr",
     "output_type": "stream",
     "text": [
      "Using TensorFlow backend.\n"
     ]
    }
   ],
   "source": [
    "import keras\n",
    "import numpy as np\n",
    "import io\n",
    "import base64\n",
    "from IPython.display import HTML\n",
    "import skvideo.io\n",
    "import cv2\n",
    "import json\n",
    "\n",
    "from keras.models import Sequential,model_from_json\n",
    "from keras.layers.core import Dense\n",
    "from keras.optimizers import sgd\n",
    "from keras.layers import Conv2D, MaxPooling2D, Activation, AveragePooling2D,Reshape,BatchNormalization"
   ]
  },
  {
   "cell_type": "markdown",
   "metadata": {},
   "source": [
    "# MiniProject #3: Deep Reinforcement Learning"
   ]
  },
  {
   "cell_type": "markdown",
   "metadata": {},
   "source": [
    "__Notations__: $E_p$ is the expectation under probability $p$. Please justify each of your answer and widely comment your code."
   ]
  },
  {
   "cell_type": "markdown",
   "metadata": {},
   "source": [
    "# Context"
   ]
  },
  {
   "cell_type": "markdown",
   "metadata": {},
   "source": [
    "In a reinforcement learning algorithm, we modelize each step $t$ as an action $a_t$ obtained from a state $s_t$, i.e. $\\{(a_{t},s_{t})_{t\\leq T}\\}$ having the Markov property. We consider a discount factor $\\gamma \\in [0,1]$ that ensures convergence. The goal is to find among all the policies $\\pi$, one that maximizes the expected reward:\n",
    "\n",
    "\\begin{equation*}\n",
    "R(\\pi)=\\sum_{t\\leq T}E_{p^{\\pi}}[\\gamma^t r(s_{t},a_{t})] \\> ,\n",
    "\\end{equation*}\n",
    "\n",
    "where: \n",
    "\\begin{equation*}p^{\\pi}(a_{0},a_{1},s_{1},...,a_{T},s_{T})=p(a_{0})\\prod_{t=1}^{T}\\pi(a_{t}|s_{t})p(s_{t+1}|s_{t},a_{t}) \\> .\n",
    "\\end{equation*}\n",
    "\n",
    "We note the $Q$-function:\n",
    "\n",
    "\\begin{equation*}Q^\\pi(s,a)=E_{p^{\\pi}}[\\sum_{t\\leq T}\\gamma^{t}r(s_{t},a_{t})|s_{0}=s,a_{0}=a] \\> .\n",
    "\\end{equation*}\n",
    "\n",
    "Thus, the optimal Q function is:\n",
    "\\begin{equation*}\n",
    "Q^*(s,a)=\\max_{\\pi}Q^\\pi(s,a) \\> .\n",
    "\\end{equation*}\n",
    "\n",
    "In this project, we will apply the deep reinforcement learning techniques to a simple game: an agent will have to learn from scratch a policy that will permit it maximizing a reward."
   ]
  },
  {
   "cell_type": "markdown",
   "metadata": {},
   "source": [
    "## The environment, the agent and the game"
   ]
  },
  {
   "cell_type": "markdown",
   "metadata": {},
   "source": [
    "### The environment"
   ]
  },
  {
   "cell_type": "markdown",
   "metadata": {},
   "source": [
    "```Environment``` is an abstract class that represents the states, rewards, and actions to obtain the new state."
   ]
  },
  {
   "cell_type": "code",
   "execution_count": 2,
   "metadata": {
    "collapsed": true
   },
   "outputs": [],
   "source": [
    "class Environment(object):\n",
    "    def __init__(self):\n",
    "        pass\n",
    "\n",
    "    def act(self, act):\n",
    "        \"\"\"\n",
    "        One can act on the environment and obtain its reaction:\n",
    "        - the new state\n",
    "        - the reward of the new state\n",
    "        - should we continue the game?\n",
    "\n",
    "        :return: state, reward, game_over\n",
    "        \"\"\"\n",
    "        pass\n",
    "\n",
    "\n",
    "    def reset(self):\n",
    "        \"\"\"\n",
    "        Reinitialize the environment to a random state and returns\n",
    "        the original state\n",
    "\n",
    "        :return: state\n",
    "        \"\"\"\n",
    "        pass\n",
    "    \n",
    "    def draw(self):\n",
    "        \"\"\"\n",
    "        Visualize in the console or graphically the current state\n",
    "        \"\"\"\n",
    "        pass"
   ]
  },
  {
   "cell_type": "markdown",
   "metadata": {},
   "source": [
    "The method ```act``` allows to act on the environment at a given state $s_t$ (stored internally), via action $a_t$. The method will return the new state $s_{t+1}$, the reward $r(s_{t},a_{t})$ and determines if $t\\leq T$ (*game_over*).\n",
    "\n",
    "The method ```reset``` simply reinitializes the environment to a random state $s_0$.\n",
    "\n",
    "The method ```draw``` displays the current state $s_t$ (this is useful to check the behavior of the Agent).\n",
    "\n",
    "We modelize $s_t$ as a tensor, while $a_t$ is an integer."
   ]
  },
  {
   "cell_type": "markdown",
   "metadata": {},
   "source": [
    "### The Agent"
   ]
  },
  {
   "cell_type": "markdown",
   "metadata": {},
   "source": [
    "The goal of the ```Agent``` is to interact with the ```Environment``` by proposing actions $a_t$ obtained from a given state $s_t$ to attempt to maximize its __reward__ $r(s_t,a_t)$. We propose the following abstract class:"
   ]
  },
  {
   "cell_type": "code",
   "execution_count": 3,
   "metadata": {
    "collapsed": true
   },
   "outputs": [],
   "source": [
    "class Agent(object):\n",
    "    def __init__(self, epsilon=0.1, n_action=4):\n",
    "        self.epsilon = epsilon\n",
    "        self.n_action = n_action\n",
    "    \n",
    "    def set_epsilon(self,e):\n",
    "        self.epsilon = e\n",
    "\n",
    "    def act(self,s,train=True):\n",
    "        \"\"\" This function should return the next action to do:\n",
    "        an integer between 0 and 4 (not included) with a random exploration of epsilon\"\"\"\n",
    "        if train:\n",
    "            if np.random.rand() <= self.epsilon:\n",
    "                a = np.random.randint(0, self.n_action, size=1)[0]\n",
    "            else:\n",
    "                a = self.learned_act(s)\n",
    "        else: # in some cases, this can improve the performance.. remove it if poor performances\n",
    "            a = self.learned_act(s)\n",
    "\n",
    "        return a\n",
    "\n",
    "    def learned_act(self,s):\n",
    "        \"\"\" Act via the policy of the agent, from a given state s\n",
    "        it proposes an action a\"\"\"\n",
    "        pass\n",
    "\n",
    "    def reinforce(self, s, n_s, a, r, game_over_):\n",
    "        \"\"\" This function is the core of the learning algorithm. \n",
    "        It takes as an input the current state s_, the next state n_s_\n",
    "        the action a_ used to move from s_ to n_s_ and the reward r_.\n",
    "        \n",
    "        Its goal is to learn a policy.\n",
    "        \"\"\"\n",
    "        pass\n",
    "\n",
    "    def save(self):\n",
    "        \"\"\" This function returns basic stats if applicable: the\n",
    "        loss and/or the model\"\"\"\n",
    "        pass\n",
    "\n",
    "    def load(self):\n",
    "        \"\"\" This function allows to restore a model\"\"\"\n",
    "        pass"
   ]
  },
  {
   "cell_type": "markdown",
   "metadata": {},
   "source": [
    "***\n",
    "__Question 1__:\n",
    "Explain the function act. Why is ```epsilon``` essential?"
   ]
  },
  {
   "cell_type": "markdown",
   "metadata": {},
   "source": [
    "> The function act is set to return the next action $a_t$ to be performed given the current state $s_t$, returing the rewad $r(s_t,a_t)$ from which the new state $s_{t+1}$ is determined and the game deemed over or not. As the agent is slowly learning its best chain of actions, the training phase is made up of exploration of the environment and exploitation. In a nutshell, the agent needs to explore unknown states of the game i.e. try new random actions in order to learn more about the environment and not just replicate the same chain of actions, as better moves can be available. \n",
    "\n",
    ">Epsilon is the medium through which exploration is done. At each state t, the agent performs the best known action based on previous information accumulated at time $t$ with probability ($1 - \\epsilon$) (exploitation) and a random action aimed at exploring the environment with probability $\\epsilon$ (exploration). The value of epsilon thus ensures the alternate switch from exploration and exploitation, and its value determines the degree of exploration of the game by the agent. $\\epsilon$ is thus usually set to be small so as to maintain decent expected rewards. "
   ]
  },
  {
   "cell_type": "markdown",
   "metadata": {},
   "source": [
    "***\n",
    "### The Game"
   ]
  },
  {
   "cell_type": "markdown",
   "metadata": {},
   "source": [
    "The ```Agent``` and the ```Environment``` work in an interlaced way as in the following (take some time to understand this code as it is the core of the project)\n",
    "\n",
    "```python\n",
    "\n",
    "epoch = 300\n",
    "env = Environment()\n",
    "agent = Agent()\n",
    "\n",
    "\n",
    "# Number of won games\n",
    "score = 0\n",
    "loss = 0\n",
    "\n",
    "\n",
    "for e in range(epoch):\n",
    "    # At each epoch, we restart to a fresh game and get the initial state\n",
    "    state = env.reset()\n",
    "    # This assumes that the games will end\n",
    "    game_over = False\n",
    "\n",
    "    win = 0\n",
    "    lose = 0\n",
    "    \n",
    "    while not game_over:\n",
    "        # The agent performs an action\n",
    "        action = agent.act(state)\n",
    "\n",
    "        # Apply an action to the environment, get the next state, the reward\n",
    "        # and if the games end\n",
    "        prev_state = state\n",
    "        state, reward, game_over = env.act(action)\n",
    "\n",
    "        # Update the counters\n",
    "        if reward > 0:\n",
    "            win = win + reward\n",
    "        if reward < 0:\n",
    "            lose = lose -reward\n",
    "\n",
    "        # Apply the reinforcement strategy\n",
    "        loss = agent.reinforce(prev_state, state,  action, reward, game_over)\n",
    "\n",
    "    # Save as a mp4\n",
    "    if e % 10 == 0:\n",
    "        env.draw(e)\n",
    "\n",
    "    # Update stats\n",
    "    score += win-lose\n",
    "\n",
    "    print(\"Epoch {:03d}/{:03d} | Loss {:.4f} | Win/lose count {}/{} ({})\"\n",
    "          .format(e, epoch, loss, win, lose, win-lose))\n",
    "    agent.save()\n",
    "```"
   ]
  },
  {
   "cell_type": "markdown",
   "metadata": {},
   "source": [
    "# The game, *eat cheese*"
   ]
  },
  {
   "cell_type": "markdown",
   "metadata": {},
   "source": [
    "A rat runs on an island and tries to eat as much as possible. The island is subdivided into $N\\times N$ cells, in which there are cheese (+0.5) and poisonous cells (-1). The rat has a visibility of 2 cells (thus it can see $5^2$ cells). The rat is given a time $T$ to accumulate as much food as possible. It can perform 4 actions: going up, down, left, right. \n",
    "\n",
    "The goal is to code an agent to solve this task that will learn by trial and error. We propose the following environment:"
   ]
  },
  {
   "cell_type": "code",
   "execution_count": 4,
   "metadata": {
    "collapsed": true
   },
   "outputs": [],
   "source": [
    "class Environment(object):\n",
    "    def __init__(self, grid_size=10, max_time=500, temperature=0.1):\n",
    "        grid_size = grid_size+4\n",
    "        self.grid_size = grid_size\n",
    "        self.max_time = max_time\n",
    "        self.temperature = temperature\n",
    "\n",
    "        #board on which one plays\n",
    "        self.board = np.zeros((grid_size,grid_size))\n",
    "        self.position = np.zeros((grid_size,grid_size))\n",
    "\n",
    "        # coordinate of the cat\n",
    "        self.x = 0\n",
    "        self.y = 1\n",
    "\n",
    "        # self time\n",
    "        self.t = 0\n",
    "\n",
    "        self.scale=16\n",
    "\n",
    "        self.to_draw = np.zeros((max_time+2, grid_size*self.scale, grid_size*self.scale, 3))\n",
    "\n",
    "\n",
    "    def draw(self,e):\n",
    "        skvideo.io.vwrite(str(e) + '.mp4', self.to_draw)\n",
    "\n",
    "    def get_frame(self,t):\n",
    "        b = np.zeros((self.grid_size,self.grid_size,3))+128\n",
    "        b[self.board>0,0] = 256\n",
    "        b[self.board < 0, 2] = 256\n",
    "        b[self.x,self.y,:]=256\n",
    "        b[-2:,:,:]=0\n",
    "        b[:,-2:,:]=0\n",
    "        b[:2,:,:]=0\n",
    "        b[:,:2,:]=0\n",
    "        \n",
    "        b =  cv2.resize(b, None, fx=self.scale, fy=self.scale, interpolation=cv2.INTER_NEAREST)\n",
    "\n",
    "        self.to_draw[t,:,:,:]=b\n",
    "\n",
    "\n",
    "    def act(self, action):\n",
    "        \"\"\"This function returns the new state, reward and decides if the\n",
    "        game ends.\"\"\"\n",
    "\n",
    "        self.get_frame(int(self.t))\n",
    "\n",
    "        self.position = np.zeros((self.grid_size, self.grid_size))\n",
    "\n",
    "        self.position[0:2,:]= -1\n",
    "        self.position[:,0:2] = -1\n",
    "        self.position[-2:, :] = -1\n",
    "        self.position[-2:, :] = -1\n",
    "\n",
    "        self.position[self.x, self.y] = 1\n",
    "        if action == 0:\n",
    "            if self.x == self.grid_size-3:\n",
    "                self.x = self.x-1\n",
    "            else:\n",
    "                self.x = self.x + 1\n",
    "        elif action == 1:\n",
    "            if self.x == 2:\n",
    "                self.x = self.x+1\n",
    "            else:\n",
    "                self.x = self.x-1\n",
    "        elif action == 2:\n",
    "            if self.y == self.grid_size - 3:\n",
    "                self.y = self.y - 1\n",
    "            else:\n",
    "                self.y = self.y + 1\n",
    "        elif action == 3:\n",
    "            if self.y == 2:\n",
    "                self.y = self.y + 1\n",
    "            else:\n",
    "                self.y = self.y - 1\n",
    "        else:\n",
    "            RuntimeError('Error: action not recognized')\n",
    "\n",
    "        self.t = self.t + 1\n",
    "        reward = self.board[self.x, self.y]\n",
    "        self.board[self.x, self.y] = 0\n",
    "        game_over = self.t > self.max_time\n",
    "        state = np.concatenate((self.board.reshape(self.grid_size, self.grid_size,1),\n",
    "                        self.position.reshape(self.grid_size, self.grid_size,1)),axis=2)\n",
    "        state = state[self.x-2:self.x+3,self.y-2:self.y+3,:]\n",
    "\n",
    "        return state, reward, game_over\n",
    "\n",
    "    def reset(self):\n",
    "        \"\"\"This function resets the game and returns the initial state\"\"\"\n",
    "\n",
    "        self.x = np.random.randint(3, self.grid_size-3, size=1)[0]\n",
    "        self.y = np.random.randint(3, self.grid_size-3, size=1)[0]\n",
    "\n",
    "\n",
    "        bonus = 0.5*np.random.binomial(1,self.temperature,size=self.grid_size**2)\n",
    "        bonus = bonus.reshape(self.grid_size,self.grid_size)\n",
    "\n",
    "        malus = -1.0*np.random.binomial(1,self.temperature,size=self.grid_size**2)\n",
    "        malus = malus.reshape(self.grid_size, self.grid_size)\n",
    "\n",
    "        self.to_draw = np.zeros((self.max_time+2, self.grid_size*self.scale, self.grid_size*self.scale, 3))\n",
    "\n",
    "\n",
    "        malus[bonus>0]=0\n",
    "\n",
    "        self.board = bonus + malus\n",
    "\n",
    "        self.position = np.zeros((self.grid_size, self.grid_size))\n",
    "        self.position[0:2,:]= -1\n",
    "        self.position[:,0:2] = -1\n",
    "        self.position[-2:, :] = -1\n",
    "        self.position[-2:, :] = -1\n",
    "        self.board[self.x,self.y] = 0\n",
    "        self.t = 0\n",
    "\n",
    "        state = np.concatenate((\n",
    "                               self.board.reshape(self.grid_size, self.grid_size,1),\n",
    "                        self.position.reshape(self.grid_size, self.grid_size,1)),axis=2)\n",
    "\n",
    "        state = state[self.x - 2:self.x + 3, self.y - 2:self.y + 3, :]\n",
    "        return state"
   ]
  },
  {
   "cell_type": "markdown",
   "metadata": {},
   "source": [
    "The following elements are important because they correspond to the hyper parameters for this project:"
   ]
  },
  {
   "cell_type": "code",
   "execution_count": null,
   "metadata": {},
   "outputs": [],
   "source": [
    "# parameters\n",
    "size = 13\n",
    "T=200\n",
    "temperature=0.15\n",
    "epochs_train= 75\n",
    "epochs_test= 15\n",
    "\n",
    "# display videos\n",
    "def display_videos(name):\n",
    "    video = io.open(name, 'r+b').read()\n",
    "    encoded = base64.b64encode(video)\n",
    "    return '''<video alt=\"test\" controls>\n",
    "                <source src=\"data:video/mp4;base64,{0}\" type=\"video/mp4\" />\n",
    "             </video>'''.format(encoded.decode('ascii'))"
   ]
  },
  {
   "cell_type": "markdown",
   "metadata": {},
   "source": [
    "__Question 2__ Explain the use of the arrays ```position``` and ```board```."
   ]
  },
  {
   "cell_type": "markdown",
   "metadata": {},
   "source": [
    ">The array \"position\" represents the island framework and thus describes the position of the rat and where it moves. The array is of size $(N+4 x Nx4)$: the position of the rat is 1, the edges of the board (where is rat cannot move) have value -1, all other cases have value 0. \n",
    "The array \"board\" describes the position of cheese with value 0.5 and of poison with value -1, 0 otherwise (either neither cheese nor poison, or when the rat gets to that position and takes its asociated reward, setting the value of that position to 0).\n",
    "Both arrays conjunctly form the environment of the game (with a layer of size 2 because of the rat's limited visibility) and are necessary to determine the state at time $t$."
   ]
  },
  {
   "cell_type": "markdown",
   "metadata": {},
   "source": [
    "## Random Agent"
   ]
  },
  {
   "cell_type": "markdown",
   "metadata": {},
   "source": [
    "***\n",
    "__Question 3__ Implement a random Agent (only ```learned_act``` needs to be implemented):"
   ]
  },
  {
   "cell_type": "code",
   "execution_count": 6,
   "metadata": {
    "collapsed": true
   },
   "outputs": [],
   "source": [
    "class RandomAgent(Agent):\n",
    "    def __init__(self):\n",
    "        super(RandomAgent, self).__init__()\n",
    "        pass\n",
    "\n",
    "    def learned_act(self, s):\n",
    "        l_a = np.random.randint(0,4,size = 1)[0]\n",
    "        return l_a"
   ]
  },
  {
   "cell_type": "markdown",
   "metadata": {},
   "source": [
    "***\n",
    "***\n",
    "__Question 4__ Visualize the game moves. You need to fill in the following function for the evaluation:"
   ]
  },
  {
   "cell_type": "code",
   "execution_count": 12,
   "metadata": {
    "collapsed": true
   },
   "outputs": [],
   "source": [
    "def test(agent,env,epochs,prefix=''):\n",
    "    # Number of won games\n",
    "    score = 0\n",
    "        \n",
    "    for e in range(epochs):\n",
    "        \n",
    "        state = env.reset() #Restart to a fresh game at each epoch and reinitialise the game at its initial state\n",
    "        game_over = False #Deactivate the option of game over i.e. of game ending\n",
    "        \n",
    "        win = 0\n",
    "        lose = 0\n",
    "        \n",
    "        while not game_over:\n",
    "            \n",
    "            action = agent.act(state) #Agent performs an action\n",
    "            \n",
    "            prev_state = state \n",
    "            state, reward, game_over = env.act(action) #Set action to the environment, get associated reward, move to next state (continue or game over)\n",
    "            \n",
    "            #Update score counter\n",
    "            if reward > 0:\n",
    "                win = win + reward\n",
    "            if reward < 0:\n",
    "                lose = lose - reward\n",
    "\n",
    "        # Apply the reinforcement strategy\n",
    "        loss = agent.reinforce(prev_state, state,  action, reward, game_over)\n",
    "\n",
    "        \n",
    "        # Save as a mp4\n",
    "        env.draw(prefix+str(e))\n",
    "\n",
    "        # Update stats\n",
    "        score = score + win-lose\n",
    "\n",
    "        print(\"Win/lose count {}/{}. Average score ({})\"\n",
    "              .format(win, lose, score/(1+e)))\n",
    "    print('Final score: '+str(score/epochs))"
   ]
  },
  {
   "cell_type": "code",
   "execution_count": 13,
   "metadata": {},
   "outputs": [
    {
     "name": "stdout",
     "output_type": "stream",
     "text": [
      "Win/lose count 10.0/16.0. Average score (-6.0)\n",
      "Win/lose count 9.5/12.0. Average score (-4.25)\n",
      "Win/lose count 7.0/14.0. Average score (-5.166666666666667)\n",
      "Win/lose count 8.5/20.0. Average score (-6.75)\n",
      "Win/lose count 13.5/21.0. Average score (-6.9)\n",
      "Win/lose count 16.5/17.0. Average score (-5.833333333333333)\n",
      "Win/lose count 8.5/19.0. Average score (-6.5)\n",
      "Win/lose count 14.5/10.0. Average score (-5.125)\n",
      "Win/lose count 10.0/8.0. Average score (-4.333333333333333)\n",
      "Win/lose count 11.0/14.0. Average score (-4.2)\n",
      "Win/lose count 7.0/13.0. Average score (-4.363636363636363)\n",
      "Win/lose count 10.0/16.0. Average score (-4.5)\n",
      "Win/lose count 11.0/12.0. Average score (-4.230769230769231)\n",
      "Win/lose count 8.5/8.0. Average score (-3.892857142857143)\n",
      "Win/lose count 7.5/9.0. Average score (-3.7333333333333334)\n",
      "Win/lose count 12.5/22.0. Average score (-4.09375)\n",
      "Win/lose count 13.0/15.0. Average score (-3.9705882352941178)\n",
      "Win/lose count 10.5/18.0. Average score (-4.166666666666667)\n",
      "Win/lose count 5.5/11.0. Average score (-4.2368421052631575)\n",
      "Win/lose count 10.0/18.0. Average score (-4.425)\n",
      "Win/lose count 8.5/20.0. Average score (-4.761904761904762)\n",
      "Win/lose count 7.0/16.0. Average score (-4.954545454545454)\n",
      "Win/lose count 13.5/15.0. Average score (-4.804347826086956)\n",
      "Win/lose count 11.5/15.0. Average score (-4.75)\n",
      "Win/lose count 10.5/15.0. Average score (-4.74)\n",
      "Final score: -4.74\n"
     ]
    },
    {
     "data": {
      "text/html": [
       "<video alt=\"test\" controls>\n",
       "                <source src=\"data:video/mp4;base64,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\" type=\"video/mp4\" />\n",
       "             </video>"
      ],
      "text/plain": [
       "<IPython.core.display.HTML object>"
      ]
     },
     "execution_count": 13,
     "metadata": {},
     "output_type": "execute_result"
    }
   ],
   "source": [
    "# Initialize the game\n",
    "env = Environment(grid_size=size, max_time=T,temperature=temperature)\n",
    "\n",
    "# Initialize the agent!\n",
    "agent = RandomAgent()\n",
    "\n",
    "test(agent,env,epochs_test,prefix='random')\n",
    "HTML(display_videos('random0.mp4'))"
   ]
  },
  {
   "cell_type": "markdown",
   "metadata": {},
   "source": [
    "***\n",
    "## DQN"
   ]
  },
  {
   "cell_type": "markdown",
   "metadata": {},
   "source": [
    "Let us assume here that $T=\\infty$.\n",
    "\n",
    "***\n",
    "__Question 5__ Let $\\pi$ be a policy, show that:\n",
    "\n",
    "\\begin{equation*}\n",
    "Q^{\\pi}(s,a)=E_{(s',a')\\sim p(.|s,a)}[r(s,a)+\\gamma Q^{\\pi}(s',a')]\n",
    "\\end{equation*}\n",
    "\n",
    "Then, show that for the optimal policy $\\pi^*$ (we assume its existence), the following holds: \n",
    "\n",
    "\\begin{equation*}\n",
    "Q^{*}(s,a)=E_{s'\\sim \\pi^*(.|s,a)}[r(s,a)+\\gamma\\max_{a'}Q^{*}(s',a')].\n",
    "\\end{equation*}\n",
    "Finally, deduce that a plausible objective is:\n",
    "\n",
    "\\begin{equation*}\n",
    "\\mathcal{L}(\\theta)=E_{s' \\sim \\pi^*(.|s,a)}\\Vert r+\\gamma\\max\\max_{a'}Q(s',a',\\theta)-Q(s,a,\\theta)\\Vert^{2}.\n",
    "\\end{equation*}\n",
    "\n",
    "\n"
   ]
  },
  {
   "cell_type": "markdown",
   "metadata": {},
   "source": [
    "> I. Starting from the definition of a policy $\\pi$, we use iterative epectation and the Markov property :\n",
    "\n",
    "$Q^\\pi(s,a) = E_\\pi \\Big[ \\overset{\\infty}{\\underset{k=0}{\\sum}} \\gamma^k r_{t+k} \\Big| s_t = s, a_t = a \\Big]$\n",
    "\n",
    "=> $Q^\\pi(s,a) = E\\Big[r(s,a) + \\overset{\\infty}{\\underset{k=1}{\\sum}} \\gamma^k r_{t+k} \\Big| s_t = s, a_t = a\\Big]$\n",
    "\n",
    "=> $Q^\\pi(s,a)  =  r(s,a) + \\gamma E\\left[E\\left[\\overset{\\infty}{\\underset{k=0}{\\sum}}[\\gamma^k r_{t+1+k}|s_{t+1}=s',a_{t+1}=a'\\right]|s_t = s, a_t = a\\right]$\n",
    "\n",
    "=> $Q^\\pi(s,a) = r(s,a) + \\gamma \\underset{(s',a')}{\\sum}(p(s_{t+1}=s',a_{t+1}=a' |s_t = s, a_t = a ))E[\\overset{\\infty}{\\underset{k=0}{\\sum}}\\gamma^k r_{t+1+k}|s_{t+1}=s',a_{t+1}=a']$\n",
    "\n",
    "=> $Q^\\pi(s,a) =  \\underset{(s',a')}{\\sum} (p(s_{t+1}=s',a_{t+1}=a' |s_t = s, a_t = a ) r(s,a) + \\underset{(s',a')}{\\sum}(p(s_{t+1}=s',a_{t+1}=a' |s_t = s, a_t = a ))E[\\sum_{k=0}^{\\infty}\\gamma^k r_{t+1+k}|s_{t+1}=s',a_{t+1}=a']$\n",
    "\n",
    "\n",
    "And thus:\n",
    "$ Q^\\pi(s,a) = E_{(s',a')\\sim p(.|s,a)}[r(s,a)+\\gamma Q^{\\pi}(s',a')]$\n",
    "\n",
    "> II. Based on the previous answer, and assuming the optimal policy is deterministic:\n",
    "\n",
    "$ Q^*(s,a)=\\max{\\pi}Q^\\pi(s,a) $\n",
    "\n",
    "=> $ Q^*(s,a)=\\max_{s', a'}E_{(s',a')\\sim p(.|s,a)}[r(s,a)+\\gamma Q^{\\pi}(s',a')]$\n",
    "\n",
    "=> $ Q^*(s,a)=\\max_{a'}E_{s'\\sim \\pi^*(.|s,a)}[ r(s,a)+\\gamma Q^{\\pi}(s',a') $\n",
    "\n",
    "=> $ Q^{*}(s,a)=E_{s'\\sim \\pi^*(.|s,a)}[r(s,a)+\\gamma\\max_{a'}Q^{*}(s',a')]$ \n",
    "\n",
    "\n",
    "> III. Given our assumption of deterministic distribution, a plausible objective is $\\mathcal{L}(\\theta) = || r(s,a) + \\gamma \\max_{a'} Q(s',a',\\theta) - Q(s,a,\\theta)||^{2}$. It is a sensible objective because minimizing this loss-value comes down to approaching the solution of the optimal policy $\\pi^*$'s $Q^{*}(s,a)$."
   ]
  },
  {
   "cell_type": "markdown",
   "metadata": {},
   "source": [
    "***\n",
    "The DQN-learning algorithm relies on these derivations to train the parameters $\\theta$ of a Deep Neural Network:\n",
    "\n",
    "1. At the state $s_t$, select the action $a_t$ with best reward using $Q_t$ and store the results;\n",
    "\n",
    "2. Obtain the new state $s_{t+1}$ from the environment $p$;\n",
    "\n",
    "3. Store $(s_t,a_t,s_{t+1})$;\n",
    "\n",
    "4. Obtain $Q_{t+1}$ by minimizing  $\\mathcal{L}$ from a recovered batch from the previously stored results.\n",
    "\n",
    "***\n",
    "__Question 6__ Implement the class ```Memory``` that stores moves (in a replay buffer) via ```remember``` and provides a ```random_access``` to these. Specify a maximum memory size to avoid side effects. You can for example use a ```list()``` and set by default ```max_memory=100```."
   ]
  },
  {
   "cell_type": "code",
   "execution_count": 14,
   "metadata": {
    "collapsed": true
   },
   "outputs": [],
   "source": [
    "class Memory(object):\n",
    "    def __init__(self, max_memory=100):\n",
    "        self.max_memory = max_memory\n",
    "        self.memory = list()\n",
    "\n",
    "    def remember(self, m):\n",
    "        if len(self.memory) < self.max_memory:self.memory.append(m)\n",
    "        else: self.memory = self.memory[1:]+[m]\n",
    "\n",
    "    def random_access(self):\n",
    "        return self.memory[np.random.randint(0,len(self.memory))]"
   ]
  },
  {
   "cell_type": "markdown",
   "metadata": {},
   "source": [
    "***\n",
    "The pipeline we will use for training is given below:"
   ]
  },
  {
   "cell_type": "code",
   "execution_count": 15,
   "metadata": {
    "collapsed": true
   },
   "outputs": [],
   "source": [
    "def train(agent,env,epoch,prefix=''):\n",
    "    # Number of won games\n",
    "    score = 0\n",
    "    loss = 0\n",
    "\n",
    "    for e in range(epoch):\n",
    "        # At each epoch, we restart to a fresh game and get the initial state\n",
    "        state = env.reset()\n",
    "        # This assumes that the games will terminate\n",
    "        game_over = False\n",
    "\n",
    "        win = 0 \n",
    "        lose = 0\n",
    "\n",
    "        while not game_over:\n",
    "            # The agent performs an action\n",
    "            action = agent.act(state)\n",
    "\n",
    "            # Apply an action to the environment, get the next state, the reward\n",
    "            # and if the games end\n",
    "            prev_state = state\n",
    "            state, reward, game_over = env.act(action)\n",
    "\n",
    "            # Update the counters\n",
    "            if reward > 0:\n",
    "                win = win + reward\n",
    "            if reward < 0:\n",
    "                lose = lose -reward\n",
    "\n",
    "            # Apply the reinforcement strategy\n",
    "            loss = agent.reinforce(prev_state, state,  action, reward, game_over)\n",
    "\n",
    "        # Save as a mp4\n",
    "        if e % 10 == 0:\n",
    "            env.draw(prefix+str(e))\n",
    "\n",
    "        # Update stats\n",
    "        score += win-lose\n",
    "\n",
    "        print(\"Epoch {:03d}/{:03d} | Loss {:.4f} | Win/lose count {}/{} ({})\"\n",
    "              .format(e, epoch, loss, win, lose, win-lose))\n",
    "        agent.save(name_weights=prefix+'model.h5',name_model=prefix+'model.json')"
   ]
  },
  {
   "cell_type": "markdown",
   "metadata": {},
   "source": [
    "***\n",
    "__Question 7__ Implement the DQN training algorithm using a cascade of fully connected layers. You can use different learning rate, batch size or memory size parameters. In particular, the loss might oscillate while the player will start to win the games. You have to find a good criterium."
   ]
  },
  {
   "cell_type": "code",
   "execution_count": 16,
   "metadata": {
    "collapsed": true
   },
   "outputs": [],
   "source": [
    "class DQN(Agent):\n",
    "    def __init__(self, grid_size,  epsilon = 0.1, memory_size=100, batch_size = 16,n_state=2):\n",
    "        super(DQN, self).__init__(epsilon = epsilon)\n",
    "\n",
    "        # Discount for Q learning\n",
    "        self.discount = 0.99\n",
    "        \n",
    "        self.grid_size = grid_size\n",
    "        \n",
    "        # number of state\n",
    "        self.n_state = n_state\n",
    "\n",
    "        # Memory\n",
    "        self.memory = Memory(memory_size)\n",
    "        \n",
    "        # Batch size when learning\n",
    "        self.batch_size = batch_size\n",
    "\n",
    "    def learned_act(self, s):\n",
    "        pass\n",
    "\n",
    "    def reinforce(self, s_, n_s_, a_, r_, game_over_):\n",
    "        # Two steps: first memorize the states, second learn from the pool\n",
    "\n",
    "        self.memory.remember([s_, n_s_, a_, r_, game_over_])\n",
    "        \n",
    "        input_states = np.zeros((self.batch_size, 5,5,self.n_state))\n",
    "        target_q = np.zeros((self.batch_size, 4))\n",
    "        \n",
    "        for i in range(self.batch_size):\n",
    "            ###### START FILL #######\n",
    "            s_, n_s_, a_, r_, game_over_ = self.memory.random_access()\n",
    "            target_q[i] =self.model.predict(s_.reshape([1,s_.shape[0],s_.shape[1],s_.shape[2]]))[0]\n",
    "            \n",
    "            if game_over_:\n",
    "                input_states[i] = s_\n",
    "                target_q[i,a_] = r_\n",
    "            else:\n",
    "                input_states[i] = s_\n",
    "                target_q[i,a_] = r_  + self.discount*max(self.model.predict(n_s_.reshape([1,s_.shape[0],s_.shape[1],s_.shape[2]]))[0])\n",
    "            ####### END FILL ########\n",
    "   \n",
    "        # HINT: Clip the target to avoid exploiding gradients.. -- clipping is a bit tighter\n",
    "        target_q = np.clip(target_q, -3, 3)\n",
    "\n",
    "        l = self.model.train_on_batch(input_states, target_q)\n",
    "\n",
    "\n",
    "        return l\n",
    "\n",
    "    def save(self,name_weights='model.h5',name_model='model.json'):\n",
    "        self.model.save_weights(name_weights, overwrite=True)\n",
    "        with open(name_model, \"w\") as outfile:\n",
    "            json.dump(self.model.to_json(), outfile)\n",
    "            \n",
    "    def load(self,name_weights='model.h5',name_model='model.json'):\n",
    "        with open(name_model, \"r\") as jfile:\n",
    "            model = model_from_json(json.load(jfile))\n",
    "        model.load_weights(name_weights)\n",
    "        model.compile(\"sgd\", \"mse\")\n",
    "        self.model = model\n",
    "        \n",
    "class DQN_FC(DQN):\n",
    "    def __init__(self, *args, lr=0.1,**kwargs):\n",
    "        super(DQN_FC, self).__init__( *args,**kwargs)\n",
    "        \n",
    "        # NN Model\n",
    "        \n",
    "        ####### START FILL #######\n",
    "        model = Sequential()\n",
    "        model.add(Reshape((5*5*self.n_state,), input_shape=(5,5,self.n_state)))\n",
    "        model.add(Dense(16, activation = 'relu'))\n",
    "        model.add(Dense(16, activation = 'relu'))\n",
    "        model.add(Dense(4))\n",
    "        model.add(Dense(self.n_action))\n",
    "        model.compile(sgd(lr=lr, decay=1e-4, momentum=0.0), \"mse\")\n",
    "        self.model = model\n",
    "        ####### END FILL #######\n",
    "        "
   ]
  },
  {
   "cell_type": "code",
   "execution_count": 27,
   "metadata": {
    "collapsed": true
   },
   "outputs": [
    {
     "name": "stdout",
     "output_type": "stream",
     "text": [
      "Epoch 000/075 | Loss 0.0021 | Win/lose count 0/4.0 (-4.0)\n",
      "Epoch 001/075 | Loss 0.0114 | Win/lose count 1.0/2.0 (-1.0)\n",
      "Epoch 002/075 | Loss 0.0134 | Win/lose count 2.5/3.0 (-0.5)\n",
      "Epoch 003/075 | Loss 0.0078 | Win/lose count 2.5/3.0 (-0.5)\n",
      "Epoch 004/075 | Loss 0.0497 | Win/lose count 3.5/2.0 (1.5)\n",
      "Epoch 005/075 | Loss 0.0083 | Win/lose count 1.0/4.0 (-3.0)\n",
      "Epoch 006/075 | Loss 0.0032 | Win/lose count 1.5/1.0 (0.5)\n",
      "Epoch 007/075 | Loss 0.0117 | Win/lose count 1.0/1.0 (0.0)\n",
      "Epoch 008/075 | Loss 0.0018 | Win/lose count 2.0/3.0 (-1.0)\n",
      "Epoch 009/075 | Loss 0.0019 | Win/lose count 0.5/3.0 (-2.5)\n",
      "Epoch 010/075 | Loss 0.0059 | Win/lose count 2.0/1.0 (1.0)\n",
      "Epoch 011/075 | Loss 0.0129 | Win/lose count 2.0/3.0 (-1.0)\n",
      "Epoch 012/075 | Loss 0.0326 | Win/lose count 2.0/0 (2.0)\n",
      "Epoch 013/075 | Loss 0.0029 | Win/lose count 2.5/0 (2.5)\n",
      "Epoch 014/075 | Loss 0.0118 | Win/lose count 4.0/3.0 (1.0)\n",
      "Epoch 015/075 | Loss 0.0016 | Win/lose count 1.5/3.0 (-1.5)\n",
      "Epoch 016/075 | Loss 0.0054 | Win/lose count 2.0/2.0 (0.0)\n",
      "Epoch 017/075 | Loss 0.0132 | Win/lose count 3.0/4.0 (-1.0)\n",
      "Epoch 018/075 | Loss 0.0065 | Win/lose count 2.5/5.0 (-2.5)\n",
      "Epoch 019/075 | Loss 0.0008 | Win/lose count 2.5/4.0 (-1.5)\n",
      "Epoch 020/075 | Loss 0.0148 | Win/lose count 1.5/3.0 (-1.5)\n",
      "Epoch 021/075 | Loss 0.0195 | Win/lose count 2.0/2.0 (0.0)\n",
      "Epoch 022/075 | Loss 0.0018 | Win/lose count 4.0/2.0 (2.0)\n",
      "Epoch 023/075 | Loss 0.0098 | Win/lose count 3.0/2.0 (1.0)\n",
      "Epoch 024/075 | Loss 0.0063 | Win/lose count 1.5/5.0 (-3.5)\n",
      "Epoch 025/075 | Loss 0.0420 | Win/lose count 1.5/4.0 (-2.5)\n",
      "Epoch 026/075 | Loss 0.0089 | Win/lose count 3.0/2.0 (1.0)\n",
      "Epoch 027/075 | Loss 0.0255 | Win/lose count 1.0/1.0 (0.0)\n",
      "Epoch 028/075 | Loss 0.0054 | Win/lose count 3.0/2.0 (1.0)\n",
      "Epoch 029/075 | Loss 0.0186 | Win/lose count 1.5/2.0 (-0.5)\n",
      "Epoch 030/075 | Loss 0.0024 | Win/lose count 2.5/4.0 (-1.5)\n",
      "Epoch 031/075 | Loss 0.0273 | Win/lose count 1.5/4.0 (-2.5)\n",
      "Epoch 032/075 | Loss 0.0133 | Win/lose count 3.0/3.0 (0.0)\n",
      "Epoch 033/075 | Loss 0.0197 | Win/lose count 3.0/2.0 (1.0)\n",
      "Epoch 034/075 | Loss 0.0060 | Win/lose count 3.5/6.0 (-2.5)\n",
      "Epoch 035/075 | Loss 0.0031 | Win/lose count 4.5/3.0 (1.5)\n",
      "Epoch 036/075 | Loss 0.0189 | Win/lose count 2.5/2.0 (0.5)\n",
      "Epoch 037/075 | Loss 0.0008 | Win/lose count 5.0/3.0 (2.0)\n",
      "Epoch 038/075 | Loss 0.0068 | Win/lose count 2.0/1.0 (1.0)\n",
      "Epoch 039/075 | Loss 0.0187 | Win/lose count 2.0/2.0 (0.0)\n",
      "Epoch 040/075 | Loss 0.0096 | Win/lose count 0.5/0 (0.5)\n",
      "Epoch 041/075 | Loss 0.0220 | Win/lose count 3.0/2.0 (1.0)\n",
      "Epoch 042/075 | Loss 0.0209 | Win/lose count 1.0/3.0 (-2.0)\n",
      "Epoch 043/075 | Loss 0.0033 | Win/lose count 2.0/2.0 (0.0)\n",
      "Epoch 044/075 | Loss 0.0367 | Win/lose count 0.5/4.0 (-3.5)\n",
      "Epoch 045/075 | Loss 0.0046 | Win/lose count 1.5/4.0 (-2.5)\n",
      "Epoch 046/075 | Loss 0.0322 | Win/lose count 1.5/2.0 (-0.5)\n",
      "Epoch 047/075 | Loss 0.0073 | Win/lose count 3.0/2.0 (1.0)\n",
      "Epoch 048/075 | Loss 0.0020 | Win/lose count 1.0/3.0 (-2.0)\n",
      "Epoch 049/075 | Loss 0.0150 | Win/lose count 4.5/5.0 (-0.5)\n",
      "Epoch 050/075 | Loss 0.0019 | Win/lose count 1.5/6.0 (-4.5)\n",
      "Epoch 051/075 | Loss 0.0035 | Win/lose count 2.0/5.0 (-3.0)\n",
      "Epoch 052/075 | Loss 0.0023 | Win/lose count 4.0/3.0 (1.0)\n",
      "Epoch 053/075 | Loss 0.0046 | Win/lose count 2.0/4.0 (-2.0)\n",
      "Epoch 054/075 | Loss 0.0032 | Win/lose count 3.5/3.0 (0.5)\n",
      "Epoch 055/075 | Loss 0.0017 | Win/lose count 2.0/2.0 (0.0)\n",
      "Epoch 056/075 | Loss 0.0074 | Win/lose count 2.0/2.0 (0.0)\n",
      "Epoch 057/075 | Loss 0.0039 | Win/lose count 2.5/5.0 (-2.5)\n",
      "Epoch 058/075 | Loss 0.0057 | Win/lose count 1.5/1.0 (0.5)\n",
      "Epoch 059/075 | Loss 0.0342 | Win/lose count 2.0/7.0 (-5.0)\n",
      "Epoch 060/075 | Loss 0.0011 | Win/lose count 2.5/3.0 (-0.5)\n",
      "Epoch 061/075 | Loss 0.0045 | Win/lose count 3.0/1.0 (2.0)\n",
      "Epoch 062/075 | Loss 0.0218 | Win/lose count 2.5/4.0 (-1.5)\n",
      "Epoch 063/075 | Loss 0.0007 | Win/lose count 4.5/1.0 (3.5)\n",
      "Epoch 064/075 | Loss 0.0377 | Win/lose count 2.5/0 (2.5)\n",
      "Epoch 065/075 | Loss 0.0034 | Win/lose count 4.0/1.0 (3.0)\n",
      "Epoch 066/075 | Loss 0.0003 | Win/lose count 1.5/2.0 (-0.5)\n",
      "Epoch 067/075 | Loss 0.0048 | Win/lose count 2.0/7.0 (-5.0)\n",
      "Epoch 068/075 | Loss 0.0069 | Win/lose count 3.5/2.0 (1.5)\n",
      "Epoch 069/075 | Loss 0.0096 | Win/lose count 6.0/1.0 (5.0)\n",
      "Epoch 070/075 | Loss 0.0064 | Win/lose count 1.5/5.0 (-3.5)\n",
      "Epoch 071/075 | Loss 0.0106 | Win/lose count 2.0/4.0 (-2.0)\n",
      "Epoch 072/075 | Loss 0.0130 | Win/lose count 2.0/5.0 (-3.0)\n",
      "Epoch 073/075 | Loss 0.0007 | Win/lose count 1.5/1.0 (0.5)\n",
      "Epoch 074/075 | Loss 0.0016 | Win/lose count 3.0/3.0 (0.0)\n"
     ]
    },
    {
     "data": {
      "text/html": [
       "<video alt=\"test\" controls>\n",
       "                <source src=\"data:video/mp4;base64,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\" type=\"video/mp4\" />\n",
       "             </video>"
      ],
      "text/plain": [
       "<IPython.core.display.HTML object>"
      ]
     },
     "execution_count": 27,
     "metadata": {},
     "output_type": "execute_result"
    }
   ],
   "source": [
    "env = Environment(grid_size=size, max_time=T, temperature=0.4)\n",
    "agent = DQN_FC(size, lr=.1, epsilon = 0.1, memory_size=2000, batch_size = 32)\n",
    "train(agent, env, epochs_train, prefix='fc_train')\n",
    "HTML(display_videos('fc_train10.mp4'))"
   ]
  },
  {
   "cell_type": "markdown",
   "metadata": {},
   "source": [
    "***\n",
    "***\n",
    "__Question 8__ Implement the DQN training algorithm using a CNN (for example, 2 convolutional layers and one final fully connected layer)."
   ]
  },
  {
   "cell_type": "code",
   "execution_count": 28,
   "metadata": {
    "collapsed": true
   },
   "outputs": [],
   "source": [
    "from keras.layers.convolutional import Conv2D, MaxPooling2D\n",
    "from keras.models import Sequential\n",
    "from keras.layers import Dense, Activation, Flatten, Dropout\n",
    "\n",
    "class DQN_CNN(DQN):\n",
    "    def __init__(self, *args,lr=0.1,**kwargs):\n",
    "        super(DQN_CNN, self).__init__(*args,**kwargs)\n",
    "        ###### START FILL ######\n",
    "        model = Sequential()\n",
    "        model.add(Conv2D(64, kernel_size=(3, 3),activation='relu',input_shape=(5,5,self.n_state)))\n",
    "        model.add(Dropout(rate=0.1))\n",
    "        model.add(Conv2D(32, (2, 2), activation='relu'))\n",
    "        model.add(Flatten())\n",
    "        model.add(Dense(32))\n",
    "        model.add(Dropout(rate=0.1))\n",
    "        model.add(Dense(4))\n",
    "        ###### END FILL ######\n",
    "        model.compile(sgd(lr=lr, decay=1e-4, momentum=0.0), \"mse\")\n",
    "        self.model = model"
   ]
  },
  {
   "cell_type": "code",
   "execution_count": 29,
   "metadata": {
    "collapsed": true
   },
   "outputs": [
    {
     "name": "stdout",
     "output_type": "stream",
     "text": [
      "Epoch 000/075 | Loss 0.0259 | Win/lose count 1.5/4.0 (-2.5)\n",
      "Epoch 001/075 | Loss 0.0075 | Win/lose count 2.5/2.0 (0.5)\n",
      "Epoch 002/075 | Loss 0.0029 | Win/lose count 1.5/1.0 (0.5)\n",
      "Epoch 003/075 | Loss 0.0014 | Win/lose count 3.0/4.0 (-1.0)\n",
      "Epoch 004/075 | Loss 0.0071 | Win/lose count 2.5/2.0 (0.5)\n",
      "Epoch 005/075 | Loss 0.0010 | Win/lose count 3.0/3.0 (0.0)\n",
      "Epoch 006/075 | Loss 0.0121 | Win/lose count 1.0/6.0 (-5.0)\n",
      "Epoch 007/075 | Loss 0.0009 | Win/lose count 2.0/4.0 (-2.0)\n",
      "Epoch 008/075 | Loss 0.0044 | Win/lose count 0.5/0 (0.5)\n",
      "Epoch 009/075 | Loss 0.0159 | Win/lose count 1.5/2.0 (-0.5)\n",
      "Epoch 010/075 | Loss 0.0051 | Win/lose count 1.0/5.0 (-4.0)\n",
      "Epoch 011/075 | Loss 0.0028 | Win/lose count 1.5/3.0 (-1.5)\n",
      "Epoch 012/075 | Loss 0.0145 | Win/lose count 1.5/5.0 (-3.5)\n",
      "Epoch 013/075 | Loss 0.0158 | Win/lose count 3.5/1.0 (2.5)\n",
      "Epoch 014/075 | Loss 0.0005 | Win/lose count 3.0/2.0 (1.0)\n",
      "Epoch 015/075 | Loss 0.0019 | Win/lose count 2.0/2.0 (0.0)\n",
      "Epoch 016/075 | Loss 0.0003 | Win/lose count 3.0/2.0 (1.0)\n",
      "Epoch 017/075 | Loss 0.0084 | Win/lose count 1.0/1.0 (0.0)\n",
      "Epoch 018/075 | Loss 0.0064 | Win/lose count 1.5/3.0 (-1.5)\n",
      "Epoch 019/075 | Loss 0.0102 | Win/lose count 2.0/2.0 (0.0)\n",
      "Epoch 020/075 | Loss 0.0035 | Win/lose count 1.0/3.0 (-2.0)\n",
      "Epoch 021/075 | Loss 0.0003 | Win/lose count 1.5/2.0 (-0.5)\n",
      "Epoch 022/075 | Loss 0.0003 | Win/lose count 2.0/3.0 (-1.0)\n",
      "Epoch 023/075 | Loss 0.0003 | Win/lose count 1.0/3.0 (-2.0)\n",
      "Epoch 024/075 | Loss 0.0020 | Win/lose count 1.5/0 (1.5)\n",
      "Epoch 025/075 | Loss 0.0021 | Win/lose count 3.0/4.0 (-1.0)\n",
      "Epoch 026/075 | Loss 0.0081 | Win/lose count 3.5/5.0 (-1.5)\n",
      "Epoch 027/075 | Loss 0.0018 | Win/lose count 2.5/2.0 (0.5)\n",
      "Epoch 028/075 | Loss 0.0040 | Win/lose count 3.0/1.0 (2.0)\n",
      "Epoch 029/075 | Loss 0.0003 | Win/lose count 1.5/5.0 (-3.5)\n",
      "Epoch 030/075 | Loss 0.0020 | Win/lose count 4.0/1.0 (3.0)\n",
      "Epoch 031/075 | Loss 0.0130 | Win/lose count 5.5/3.0 (2.5)\n",
      "Epoch 032/075 | Loss 0.0096 | Win/lose count 2.5/7.0 (-4.5)\n",
      "Epoch 033/075 | Loss 0.0083 | Win/lose count 3.5/3.0 (0.5)\n",
      "Epoch 034/075 | Loss 0.0007 | Win/lose count 5.0/3.0 (2.0)\n",
      "Epoch 035/075 | Loss 0.0026 | Win/lose count 5.5/0 (5.5)\n",
      "Epoch 036/075 | Loss 0.0182 | Win/lose count 2.5/3.0 (-0.5)\n",
      "Epoch 037/075 | Loss 0.0049 | Win/lose count 4.0/1.0 (3.0)\n",
      "Epoch 038/075 | Loss 0.0083 | Win/lose count 1.5/0 (1.5)\n",
      "Epoch 039/075 | Loss 0.0185 | Win/lose count 2.5/2.0 (0.5)\n",
      "Epoch 040/075 | Loss 0.0041 | Win/lose count 2.0/3.0 (-1.0)\n",
      "Epoch 041/075 | Loss 0.0059 | Win/lose count 2.0/1.0 (1.0)\n",
      "Epoch 042/075 | Loss 0.0100 | Win/lose count 2.0/2.0 (0.0)\n",
      "Epoch 043/075 | Loss 0.0035 | Win/lose count 3.5/2.0 (1.5)\n",
      "Epoch 044/075 | Loss 0.0006 | Win/lose count 3.5/2.0 (1.5)\n",
      "Epoch 045/075 | Loss 0.0020 | Win/lose count 2.5/2.0 (0.5)\n",
      "Epoch 046/075 | Loss 0.0225 | Win/lose count 1.0/8.0 (-7.0)\n",
      "Epoch 047/075 | Loss 0.0167 | Win/lose count 2.0/1.0 (1.0)\n",
      "Epoch 048/075 | Loss 0.0296 | Win/lose count 2.0/4.0 (-2.0)\n",
      "Epoch 049/075 | Loss 0.0019 | Win/lose count 2.5/2.0 (0.5)\n",
      "Epoch 050/075 | Loss 0.0233 | Win/lose count 3.0/5.0 (-2.0)\n",
      "Epoch 051/075 | Loss 0.0020 | Win/lose count 1.0/3.0 (-2.0)\n",
      "Epoch 052/075 | Loss 0.0007 | Win/lose count 1.5/4.0 (-2.5)\n",
      "Epoch 053/075 | Loss 0.0196 | Win/lose count 2.0/2.0 (0.0)\n",
      "Epoch 054/075 | Loss 0.0033 | Win/lose count 2.5/2.0 (0.5)\n",
      "Epoch 055/075 | Loss 0.0195 | Win/lose count 1.0/8.0 (-7.0)\n",
      "Epoch 056/075 | Loss 0.0023 | Win/lose count 2.0/2.0 (0.0)\n",
      "Epoch 057/075 | Loss 0.0004 | Win/lose count 2.0/2.0 (0.0)\n",
      "Epoch 058/075 | Loss 0.0005 | Win/lose count 2.0/2.0 (0.0)\n",
      "Epoch 059/075 | Loss 0.0019 | Win/lose count 1.5/2.0 (-0.5)\n",
      "Epoch 060/075 | Loss 0.0007 | Win/lose count 3.0/2.0 (1.0)\n",
      "Epoch 061/075 | Loss 0.0043 | Win/lose count 2.5/3.0 (-0.5)\n",
      "Epoch 062/075 | Loss 0.0143 | Win/lose count 1.5/8.0 (-6.5)\n",
      "Epoch 063/075 | Loss 0.0007 | Win/lose count 3.5/1.0 (2.5)\n",
      "Epoch 064/075 | Loss 0.0008 | Win/lose count 3.5/1.0 (2.5)\n",
      "Epoch 065/075 | Loss 0.0026 | Win/lose count 2.5/3.0 (-0.5)\n",
      "Epoch 066/075 | Loss 0.0023 | Win/lose count 3.0/3.0 (0.0)\n",
      "Epoch 067/075 | Loss 0.0079 | Win/lose count 0.5/2.0 (-1.5)\n",
      "Epoch 068/075 | Loss 0.0186 | Win/lose count 2.5/2.0 (0.5)\n",
      "Epoch 069/075 | Loss 0.0044 | Win/lose count 3.5/5.0 (-1.5)\n",
      "Epoch 070/075 | Loss 0.0014 | Win/lose count 2.0/2.0 (0.0)\n",
      "Epoch 071/075 | Loss 0.0071 | Win/lose count 2.5/5.0 (-2.5)\n",
      "Epoch 072/075 | Loss 0.0007 | Win/lose count 2.5/3.0 (-0.5)\n",
      "Epoch 073/075 | Loss 0.0037 | Win/lose count 1.0/4.0 (-3.0)\n",
      "Epoch 074/075 | Loss 0.0091 | Win/lose count 2.0/1.0 (1.0)\n"
     ]
    },
    {
     "data": {
      "text/html": [
       "<video alt=\"test\" controls>\n",
       "                <source src=\"data:video/mp4;base64,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\" type=\"video/mp4\" />\n",
       "             </video>"
      ],
      "text/plain": [
       "<IPython.core.display.HTML object>"
      ]
     },
     "execution_count": 29,
     "metadata": {},
     "output_type": "execute_result"
    }
   ],
   "source": [
    "env = Environment(grid_size=size, max_time=T, temperature=0.4)\n",
    "agent = DQN_CNN(size, lr=.1, epsilon = 0.1, memory_size=2000, batch_size = 32)\n",
    "train(agent,env,epochs_train,prefix='cnn_train')\n",
    "HTML(display_videos('cnn_train10.mp4'))"
   ]
  },
  {
   "cell_type": "markdown",
   "metadata": {},
   "source": [
    "***\n",
    "***\n",
    "__Question 9__ Test both algorithms and compare their performances. Which issue(s) do you observe? Observe also different behaviors by changing the temperature."
   ]
  },
  {
   "cell_type": "code",
   "execution_count": 26,
   "metadata": {
    "collapsed": true
   },
   "outputs": [
    {
     "name": "stdout",
     "output_type": "stream",
     "text": [
      "Test of the CNN\n",
      "Win/lose count 5.5/4.0. Average score (1.5)\n",
      "Win/lose count 4.0/5.0. Average score (0.25)\n",
      "Win/lose count 3.0/2.0. Average score (0.5)\n",
      "Win/lose count 2.0/4.0. Average score (-0.125)\n",
      "Win/lose count 4.5/2.0. Average score (0.4)\n",
      "Win/lose count 3.0/3.0. Average score (0.3333333333333333)\n",
      "Win/lose count 4.5/3.0. Average score (0.5)\n",
      "Win/lose count 2.5/4.0. Average score (0.25)\n",
      "Win/lose count 4.5/3.0. Average score (0.3888888888888889)\n",
      "Win/lose count 4.5/2.0. Average score (0.6)\n",
      "Win/lose count 1.5/3.0. Average score (0.4090909090909091)\n",
      "Win/lose count 4.0/1.0. Average score (0.625)\n",
      "Win/lose count 2.0/3.0. Average score (0.5)\n",
      "Win/lose count 1.5/5.0. Average score (0.21428571428571427)\n",
      "Win/lose count 2.0/2.0. Average score (0.2)\n",
      "Win/lose count 2.5/2.0. Average score (0.21875)\n",
      "Win/lose count 2.0/6.0. Average score (-0.029411764705882353)\n",
      "Win/lose count 4.5/3.0. Average score (0.05555555555555555)\n",
      "Win/lose count 3.0/2.0. Average score (0.10526315789473684)\n",
      "Win/lose count 4.0/3.0. Average score (0.15)\n",
      "Win/lose count 1.5/5.0. Average score (-0.023809523809523808)\n",
      "Win/lose count 2.5/3.0. Average score (-0.045454545454545456)\n",
      "Win/lose count 3.5/5.0. Average score (-0.10869565217391304)\n",
      "Win/lose count 5.0/3.0. Average score (-0.020833333333333332)\n",
      "Win/lose count 2.5/4.0. Average score (-0.08)\n",
      "Final score: -0.08\n",
      "Test of the FC\n",
      "Win/lose count 3.5/3.0. Average score (0.5)\n",
      "Win/lose count 1.5/4.0. Average score (-1.0)\n",
      "Win/lose count 4.0/2.0. Average score (0.0)\n",
      "Win/lose count 4.5/5.0. Average score (-0.125)\n",
      "Win/lose count 2.5/4.0. Average score (-0.4)\n",
      "Win/lose count 3.0/6.0. Average score (-0.8333333333333334)\n",
      "Win/lose count 4.0/2.0. Average score (-0.42857142857142855)\n",
      "Win/lose count 3.5/5.0. Average score (-0.5625)\n",
      "Win/lose count 0.5/0. Average score (-0.4444444444444444)\n",
      "Win/lose count 3.0/3.0. Average score (-0.4)\n",
      "Win/lose count 2.0/2.0. Average score (-0.36363636363636365)\n",
      "Win/lose count 4.0/0. Average score (0.0)\n",
      "Win/lose count 1.5/2.0. Average score (-0.038461538461538464)\n",
      "Win/lose count 1.5/1.0. Average score (0.0)\n",
      "Win/lose count 4.0/1.0. Average score (0.2)\n",
      "Win/lose count 6.5/2.0. Average score (0.46875)\n",
      "Win/lose count 2.5/4.0. Average score (0.35294117647058826)\n",
      "Win/lose count 2.5/2.0. Average score (0.3611111111111111)\n",
      "Win/lose count 2.0/0. Average score (0.4473684210526316)\n",
      "Win/lose count 2.5/4.0. Average score (0.35)\n",
      "Win/lose count 4.5/1.0. Average score (0.5)\n",
      "Win/lose count 1.5/1.0. Average score (0.5)\n",
      "Win/lose count 1.0/2.0. Average score (0.43478260869565216)\n",
      "Win/lose count 3.0/5.0. Average score (0.3333333333333333)\n",
      "Win/lose count 0.5/3.0. Average score (0.22)\n",
      "Final score: 0.22\n"
     ]
    }
   ],
   "source": [
    "env = Environment(grid_size=size, max_time=T,temperature=0.5)\n",
    "agent_cnn = DQN_CNN(size, lr=.1, epsilon = 0.1, memory_size=2000, batch_size = 32)\n",
    "agent_cnn.load(name_weights='cnn_trainmodel.h5',name_model='cnn_trainmodel.json')\n",
    "\n",
    "agent_fc = DQN_FC(size, lr=.1, epsilon = 0.1, memory_size=2000, batch_size = 32)\n",
    "agent_cnn.load(name_weights='fc_trainmodel.h5',name_model='fc_trainmodel.json')\n",
    "print('Test of the CNN')\n",
    "test(agent_cnn,env,epochs_test,prefix='cnn_test')\n",
    "print('Test of the FC')\n",
    "test(agent_fc,env,epochs_test,prefix='fc_test')"
   ]
  },
  {
   "cell_type": "code",
   "execution_count": 21,
   "metadata": {
    "collapsed": true
   },
   "outputs": [
    {
     "data": {
      "text/html": [
       "<video alt=\"test\" controls>\n",
       "                <source src=\"data:video/mp4;base64,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\" type=\"video/mp4\" />\n",
       "             </video>"
      ],
      "text/plain": [
       "<IPython.core.display.HTML object>"
      ]
     },
     "execution_count": 21,
     "metadata": {},
     "output_type": "execute_result"
    }
   ],
   "source": [
    "HTML(display_videos('cnn_test10.mp4'))"
   ]
  },
  {
   "cell_type": "code",
   "execution_count": 22,
   "metadata": {
    "collapsed": true
   },
   "outputs": [
    {
     "data": {
      "text/html": [
       "<video alt=\"test\" controls>\n",
       "                <source src=\"data:video/mp4;base64,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\" type=\"video/mp4\" />\n",
       "             </video>"
      ],
      "text/plain": [
       "<IPython.core.display.HTML object>"
      ]
     },
     "execution_count": 22,
     "metadata": {},
     "output_type": "execute_result"
    }
   ],
   "source": [
    "HTML(display_videos('fc_test10.mp4'))"
   ]
  },
  {
   "cell_type": "markdown",
   "metadata": {},
   "source": [
    ">Both algorithms seem to have roughly the same performance. The score gets higher when we increase temperature, but that is due to the fact that it is easier to win. The CNN agents takes longer to train. The agent seem to get stuck very quickly in both cases. When changing the temperature, this behaviour doesn't improve.\n",
    "\n",
    ">Observations:\n",
    "> - The CNN model is more time consuming in the training phase\n",
    "> - Neither scores are very high: it seems like the exploration phase is not performed really well in the algorithm as the agent remains in the same area (corners?) of the grid\n",
    "\n",
    "> As the temperature parameter impacts the rewards/maluses on the board, the higher this parameter, the more bonuses there is (with distribution he probability of a reward on a given cell of the board is $P(\\text{bonus}) = Temp$, while $P(\\text{malus}) = Temp(1-Temp)$) and so the easier it is to win."
   ]
  },
  {
   "cell_type": "markdown",
   "metadata": {},
   "source": [
    "***\n",
    "\n",
    "The algorithm tends to not explore the map which can be an issue. We propose two ideas in order to encourage exploration:\n",
    "1. Incorporating a decreasing $\\epsilon$-greedy exploration. You can use the method ```set_epsilon```\n",
    "2. Append via the environment a new state that describes if a cell has been visited or not\n",
    "\n",
    "***\n",
    "__Question 10__ Design a new ```train_explore``` function and environment class ```EnvironmentExploring``` to tackle the issue of exploration.\n",
    "\n"
   ]
  },
  {
   "cell_type": "code",
   "execution_count": 30,
   "metadata": {
    "collapsed": true
   },
   "outputs": [],
   "source": [
    "def train_explore(agent,env,epoch,prefix=''):\n",
    "    # Number of won games\n",
    "    score = 0\n",
    "    loss = 0\n",
    "    agent.epsilon = 1.\n",
    "\n",
    "    for e in range(epoch):\n",
    "        # At each epoch, we restart to a fresh game and get the initial state\n",
    "        state = env.reset()\n",
    "        # This assumes that the games will terminate\n",
    "        game_over = False\n",
    "        win = 0\n",
    "        lose = 0\n",
    "        \n",
    "        agent.epsilon = agent.epsilon*0.95\n",
    "        while not game_over:\n",
    "            # The agent performs an action\n",
    "            action = agent.act(state)\n",
    "\n",
    "            # Apply an action to the environment, get the next state, the reward\n",
    "            # and if the games end\n",
    "            prev_state = state\n",
    "            state, reward, game_over = env.act(action, train =True)\n",
    "\n",
    "            # Update the counters\n",
    "            if reward > 0:\n",
    "                win = win + reward\n",
    "            if reward < 0:\n",
    "                lose = lose -reward\n",
    "\n",
    "            # Apply the reinforcement strategy\n",
    "            loss = agent.reinforce(prev_state, state,  action, reward, game_over)\n",
    "            \n",
    "        # Save as a mp4\n",
    "        if e % 10 == 0:\n",
    "            env.draw(prefix+str(e))\n",
    "\n",
    "        # Update stats\n",
    "        score += win-lose\n",
    "\n",
    "        print(\"Epoch {:03d}/{:03d} | Loss {:.4f} | Win/lose count {}/{} ({})\"\n",
    "              .format(e, epoch, loss, win, lose, win-lose))\n",
    "        agent.save(name_weights=prefix+'model.h5',name_model=prefix+'model.json')\n",
    "        \n",
    "class EnvironmentExploring(object):\n",
    "    def __init__(self, grid_size=13, max_time=500, temperature=0.3):\n",
    "        grid_size = grid_size+4\n",
    "        self.grid_size = grid_size\n",
    "        self.max_time = max_time\n",
    "        self.temperature = temperature\n",
    "\n",
    "        #board on which one plays\n",
    "        self.board = np.zeros((grid_size,grid_size))\n",
    "        self.position = np.zeros((grid_size,grid_size))\n",
    "        self.malus_position = np.zeros((grid_size,grid_size))\n",
    "        # coordinate of the rat\n",
    "        self.x = 0\n",
    "        self.y = 1\n",
    "\n",
    "        # self time\n",
    "        self.t = 0\n",
    "\n",
    "        self.scale=16\n",
    "\n",
    "        self.to_draw = np.zeros((max_time+2, grid_size*self.scale, grid_size*self.scale, 3))\n",
    "\n",
    "\n",
    "    def draw(self,e):\n",
    "        skvideo.io.vwrite(str(e) + '.mp4', self.to_draw)\n",
    "\n",
    "    def get_frame(self,t):\n",
    "        b = np.zeros((self.grid_size,self.grid_size,3))+128\n",
    "        b[self.board>0,0] = 256\n",
    "        b[self.board < 0, 2] = 256\n",
    "        b[self.x,self.y,:]=256\n",
    "        b[-2:,:,:]=0\n",
    "        b[:,-2:,:]=0\n",
    "        b[:2,:,:]=0\n",
    "        b[:,:2,:]=0\n",
    "        \n",
    "        b =  cv2.resize(b, None, fx=self.scale, fy=self.scale, interpolation=cv2.INTER_NEAREST)\n",
    "\n",
    "        self.to_draw[t,:,:,:]=b\n",
    "\n",
    "    def act(self, action, train=False):\n",
    "        \"\"\"This function returns the new state, reward and decides if the\n",
    "        game ends.\"\"\"\n",
    "\n",
    "        self.get_frame(int(self.t))\n",
    "\n",
    "        self.position = np.zeros((self.grid_size, self.grid_size))\n",
    "        \n",
    "        self.position[0:2,:]= -1\n",
    "        self.position[:,0:2] = -1\n",
    "        self.position[-2:, :] = -1\n",
    "        #error : twice same line ?\n",
    "        self.position[:, -2:] = -1\n",
    "        \n",
    "        self.position[self.x, self.y] = 1\n",
    "        if action == 0:\n",
    "            #Right\n",
    "            if self.x == self.grid_size-3:\n",
    "                self.x = self.x-1\n",
    "            else:\n",
    "                self.x = self.x + 1\n",
    "        elif action == 1:\n",
    "            #Left\n",
    "            if self.x == 2:\n",
    "                self.x = self.x+1\n",
    "            else:\n",
    "                self.x = self.x-1\n",
    "        elif action == 2:\n",
    "            #Up\n",
    "            if self.y == self.grid_size - 3:\n",
    "                self.y = self.y - 1\n",
    "            else:\n",
    "                self.y = self.y + 1\n",
    "        elif action == 3:\n",
    "            #Down\n",
    "            if self.y == 2:\n",
    "                self.y = self.y + 1\n",
    "            else:\n",
    "                self.y = self.y - 1\n",
    "                \n",
    "        else:\n",
    "            RuntimeError('Error: action not recognized')\n",
    "\n",
    "        self.t = self.t + 1\n",
    "        reward = 0\n",
    "        if train:\n",
    "            reward = -self.malus_position[self.x, self.y]\n",
    "        self.malus_position[self.x, self.y] = 0.1\n",
    "\n",
    "        reward = reward + self.board[self.x, self.y]\n",
    "        self.board[self.x, self.y] = 0\n",
    "        game_over = self.t > self.max_time\n",
    "        state = np.concatenate((self.malus_position.reshape(self.grid_size, self.grid_size,1),\n",
    "                                self.board.reshape(self.grid_size, self.grid_size,1),\n",
    "                        self.position.reshape(self.grid_size, self.grid_size,1)),axis=2)\n",
    "        state = state[self.x-2:self.x+3,self.y-2:self.y+3,:]\n",
    "\n",
    "        return state, reward, game_over\n",
    "\n",
    "    \n",
    "    def reset(self):\n",
    "        \"\"\"This function resets the game and returns the initial state\"\"\"\n",
    "\n",
    "        self.x = np.random.randint(3, self.grid_size-3, size=1)[0]\n",
    "        self.y = np.random.randint(3, self.grid_size-3, size=1)[0]\n",
    "        self.malus_position[self.x,self.y] = -0.1\n",
    "\n",
    "        bonus = 0.5*np.random.binomial(1,self.temperature,size=self.grid_size**2)\n",
    "        bonus = bonus.reshape(self.grid_size,self.grid_size)\n",
    "\n",
    "        malus = -1.0*np.random.binomial(1,self.temperature,size=self.grid_size**2)\n",
    "        malus = malus.reshape(self.grid_size, self.grid_size)\n",
    "\n",
    "        self.to_draw = np.zeros((self.max_time+2, self.grid_size*self.scale, self.grid_size*self.scale, 3))\n",
    "\n",
    "\n",
    "        malus[bonus>0]=0\n",
    "\n",
    "        self.board = bonus + malus\n",
    "\n",
    "        self.position = np.zeros((self.grid_size, self.grid_size))\n",
    "        self.position[0:2,:]= -1\n",
    "        self.position[:,0:2] = -1\n",
    "        self.position[-2:, :] = -1\n",
    "        self.position[-2:, :] = -1\n",
    "        self.board[self.x,self.y] = 0\n",
    "        self.t = 0\n",
    "\n",
    "        state = np.concatenate((self.malus_position.reshape(self.grid_size, self.grid_size,1),\n",
    "                                self.board.reshape(self.grid_size, self.grid_size,1),\n",
    "                        self.position.reshape(self.grid_size, self.grid_size,1)),axis=2)\n",
    "\n",
    "        state = state[self.x - 2:self.x + 3, self.y - 2:self.y + 3, :]\n",
    "        return state\n"
   ]
  },
  {
   "cell_type": "code",
   "execution_count": null,
   "metadata": {
    "collapsed": true
   },
   "outputs": [],
   "source": [
    "# Training\n",
    "env = EnvironmentExploring(grid_size=size, max_time=T, temperature=0.3)\n",
    "agent = DQN_CNN(size, lr=.1, epsilon = 0.1, memory_size=2000, batch_size = 32,n_state=3)\n",
    "train_explore(agent, env, epochs_train, prefix='cnn_train_explore')\n",
    "HTML(display_videos('cnn_train_explore10.mp4'))"
   ]
  },
  {
   "cell_type": "code",
   "execution_count": null,
   "metadata": {
    "collapsed": true
   },
   "outputs": [],
   "source": [
    "# Evaluation\n",
    "test(agent,env,epochs_test,prefix='cnn_test_explore')\n",
    "HTML(display_videos('cnn_test_explore10.mp4'))"
   ]
  },
  {
   "cell_type": "markdown",
   "metadata": {},
   "source": [
    "***\n",
    "***\n",
    "__BONUS question__ Use the expert DQN from the previous question to generate some winning games. Train a model that mimicks its behavior. Compare the performances."
   ]
  },
  {
   "cell_type": "markdown",
   "metadata": {},
   "source": []
  },
  {
   "cell_type": "markdown",
   "metadata": {},
   "source": [
    "***"
   ]
  }
 ],
 "metadata": {
  "kernelspec": {
   "display_name": "Python 3",
   "language": "python",
   "name": "python3"
  },
  "language_info": {
   "codemirror_mode": {
    "name": "ipython",
    "version": 3
   },
   "file_extension": ".py",
   "mimetype": "text/x-python",
   "name": "python",
   "nbconvert_exporter": "python",
   "pygments_lexer": "ipython3",
   "version": "3.7.1"
  }
 },
 "nbformat": 4,
 "nbformat_minor": 2
}
