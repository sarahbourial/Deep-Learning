{
 "cells": [
  {
   "cell_type": "markdown",
   "metadata": {},
   "source": [
    "Project: Image Classification and Regression\n",
    "MVA - CentraleSupelec \n",
    "\n",
    "Sarah Bourial"
   ]
  },
  {
   "cell_type": "markdown",
   "metadata": {},
   "source": [
    "The functions below are used to generate a disk, a rectangle and a triangle with an optional noise parameter. All 3 functions have the generate_a_drawing function embedded."
   ]
  },
  {
   "cell_type": "code",
   "execution_count": 5,
   "metadata": {},
   "outputs": [],
   "source": [
    "import matplotlib.pyplot as plt\n",
    "%matplotlib inline\n",
    "import numpy as np\n",
    "\n",
    "# On some implementations of matplotlib, you may need to change this value\n",
    "IMAGE_SIZE = 72\n",
    "\n",
    "def generate_a_drawing(figsize, U, V, noise=0.0):\n",
    "    fig = plt.figure(figsize=(figsize,figsize))\n",
    "    ax = plt.subplot(111)\n",
    "    plt.axis('Off')\n",
    "    ax.set_xlim(0,figsize)\n",
    "    ax.set_ylim(0,figsize)\n",
    "    ax.fill(U, V, \"k\")\n",
    "    fig.canvas.draw()\n",
    "    imdata = np.frombuffer(fig.canvas.tostring_rgb(), dtype=np.uint8)[::3].astype(np.float32)\n",
    "    imdata = imdata + noise * np.random.random(imdata.size)\n",
    "    plt.close(fig)\n",
    "    return imdata"
   ]
  },
  {
   "cell_type": "markdown",
   "metadata": {},
   "source": [
    "Rectangle Figure:"
   ]
  },
  {
   "cell_type": "code",
   "execution_count": 6,
   "metadata": {},
   "outputs": [],
   "source": [
    "def generate_a_rectangle(noise=0.0, free_location=False):\n",
    "    figsize = 1.0    \n",
    "    U = np.zeros(4)\n",
    "    V = np.zeros(4)\n",
    "    if free_location:\n",
    "        corners = np.random.random(4)\n",
    "        top = max(corners[0], corners[1])\n",
    "        bottom = min(corners[0], corners[1])\n",
    "        left = min(corners[2], corners[3])\n",
    "        right = max(corners[2], corners[3])\n",
    "    else:\n",
    "        side = (0.3 + 0.7 * np.random.random()) * figsize\n",
    "        top = figsize/2 + side/2\n",
    "        bottom = figsize/2 - side/2\n",
    "        left = bottom\n",
    "        right = top\n",
    "    U[0] = U[1] = top\n",
    "    U[2] = U[3] = bottom\n",
    "    V[0] = V[3] = left\n",
    "    V[1] = V[2] = right\n",
    "    return generate_a_drawing(figsize, U, V, noise)"
   ]
  },
  {
   "cell_type": "markdown",
   "metadata": {},
   "source": [
    "Disk Figure:"
   ]
  },
  {
   "cell_type": "code",
   "execution_count": 7,
   "metadata": {},
   "outputs": [],
   "source": [
    "def generate_a_disk(noise=0.0, free_location=False):\n",
    "    figsize = 1.0\n",
    "    if free_location:\n",
    "        center = np.random.random(2)\n",
    "    else:\n",
    "        center = (figsize/2, figsize/2)\n",
    "    radius = (0.3 + 0.7 * np.random.random()) * figsize/2\n",
    "    N = 50\n",
    "    U = np.zeros(N)\n",
    "    V = np.zeros(N)\n",
    "    i = 0\n",
    "    for t in np.linspace(0, 2*np.pi, N):\n",
    "        U[i] = center[0] + np.cos(t) * radius\n",
    "        V[i] = center[1] + np.sin(t) * radius\n",
    "        i = i + 1\n",
    "    return generate_a_drawing(figsize, U, V, noise)"
   ]
  },
  {
   "cell_type": "markdown",
   "metadata": {},
   "source": [
    "Triangle Figure:"
   ]
  },
  {
   "cell_type": "code",
   "execution_count": 8,
   "metadata": {},
   "outputs": [],
   "source": [
    "def generate_a_triangle(noise=0.0, free_location=False):\n",
    "    figsize = 1.0\n",
    "    if free_location:\n",
    "        U = np.random.random(3)\n",
    "        V = np.random.random(3)\n",
    "    else:\n",
    "        size = (0.3 + 0.7 * np.random.random())*figsize/2\n",
    "        middle = figsize/2\n",
    "        U = (middle, middle+size, middle-size)\n",
    "        V = (middle+size, middle-size, middle-size)\n",
    "    imdata = generate_a_drawing(figsize, U, V, noise)\n",
    "    return [imdata, [U[0], V[0], U[1], V[1], U[2], V[2]]]"
   ]
  },
  {
   "cell_type": "code",
   "execution_count": 9,
   "metadata": {},
   "outputs": [
    {
     "data": {
      "text/plain": [
       "<matplotlib.image.AxesImage at 0xb2563f0b8>"
      ]
     },
     "execution_count": 9,
     "metadata": {},
     "output_type": "execute_result"
    },
    {
     "data": {
      "image/png": "[encoded data removed]",
      "text/plain": [
       "<Figure size 432x288 with 1 Axes>"
      ]
     },
     "metadata": {},
     "output_type": "display_data"
    }
   ],
   "source": [
    "im = generate_a_rectangle(10, True)\n",
    "plt.imshow(im.reshape(IMAGE_SIZE,IMAGE_SIZE), cmap='gray')"
   ]
  },
  {
   "cell_type": "code",
   "execution_count": 10,
   "metadata": {},
   "outputs": [
    {
     "data": {
      "text/plain": [
       "<matplotlib.image.AxesImage at 0xb25797b38>"
      ]
     },
     "execution_count": 10,
     "metadata": {},
     "output_type": "execute_result"
    },
    {
     "data": {
      "image/png": "[encoded data removed]",
      "text/plain": [
       "<Figure size 432x288 with 1 Axes>"
      ]
     },
     "metadata": {},
     "output_type": "display_data"
    }
   ],
   "source": [
    "im = generate_a_disk(10)\n",
    "plt.imshow(im.reshape(IMAGE_SIZE,IMAGE_SIZE), cmap='gray')"
   ]
  },
  {
   "cell_type": "code",
   "execution_count": 11,
   "metadata": {},
   "outputs": [
    {
     "data": {
      "text/plain": [
       "<matplotlib.image.AxesImage at 0xb258c2898>"
      ]
     },
     "execution_count": 11,
     "metadata": {},
     "output_type": "execute_result"
    },
    {
     "data": {
      "image/png": "[encoded data removed]",
      "text/plain": [
       "<Figure size 432x288 with 1 Axes>"
      ]
     },
     "metadata": {},
     "output_type": "display_data"
    }
   ],
   "source": [
    "[im, v] = generate_a_triangle(20, False)\n",
    "plt.imshow(im.reshape(IMAGE_SIZE,IMAGE_SIZE), cmap='gray')"
   ]
  },
  {
   "cell_type": "markdown",
   "metadata": {},
   "source": [
    "The following function randomly generate images datasets made of (either) triangles, rectangles or disks."
   ]
  },
  {
   "cell_type": "code",
   "execution_count": 12,
   "metadata": {},
   "outputs": [],
   "source": [
    "def generate_dataset_classification(nb_samples, noise=0.0, free_location=False):\n",
    "    # Getting im_size:\n",
    "    im_size = generate_a_rectangle().shape[0]\n",
    "    X = np.zeros([nb_samples,im_size])\n",
    "    Y = np.zeros(nb_samples)\n",
    "    print('Creating data:')\n",
    "    for i in range(nb_samples):\n",
    "        if i % 10 == 0:\n",
    "            print(i)\n",
    "        category = np.random.randint(3)\n",
    "        if category == 0:\n",
    "            X[i] = generate_a_rectangle(noise, free_location)\n",
    "        elif category == 1: \n",
    "            X[i] = generate_a_disk(noise, free_location)\n",
    "        else:\n",
    "            [X[i], V] = generate_a_triangle(noise, free_location)\n",
    "        Y[i] = category\n",
    "    X = (X + noise) / (255 + 2 * noise)\n",
    "    return [X, Y]"
   ]
  },
  {
   "cell_type": "markdown",
   "metadata": {},
   "source": [
    "These last two functions are going to be used later in the rest of our project."
   ]
  },
  {
   "cell_type": "code",
   "execution_count": 13,
   "metadata": {},
   "outputs": [],
   "source": [
    "def generate_test_set_classification():\n",
    "    np.random.seed(42)\n",
    "    [X_test, Y_test] = generate_dataset_classification(300, 20, True)\n",
    "    Y_test = np_utils.to_categorical(Y_test, 3) \n",
    "    return [X_test, Y_test]"
   ]
  },
  {
   "cell_type": "code",
   "execution_count": 14,
   "metadata": {},
   "outputs": [],
   "source": [
    "def generate_dataset_regression(nb_samples, noise=0.0):\n",
    "    # Getting im_size:\n",
    "    im_size = generate_a_triangle()[0].shape[0]\n",
    "    X = np.zeros([nb_samples,im_size])\n",
    "    Y = np.zeros([nb_samples, 6])\n",
    "    print('Creating data:')\n",
    "    for i in range(nb_samples):\n",
    "        if i % 10 == 0:\n",
    "            print(i)\n",
    "        [X[i], Y[i]] = generate_a_triangle(noise, True)\n",
    "    X = (X + noise) / (255 + 2 * noise)\n",
    "    return [X, Y]"
   ]
  },
  {
   "cell_type": "code",
   "execution_count": 15,
   "metadata": {},
   "outputs": [],
   "source": [
    "import matplotlib.patches as patches\n",
    "\n",
    "def visualize_prediction(x, y):\n",
    "    fig, ax = plt.subplots(figsize=(5, 5))\n",
    "    I = x.reshape((IMAGE_SIZE,IMAGE_SIZE))\n",
    "    ax.imshow(I, extent=[-0.15,1.15,-0.15,1.15],cmap='gray')\n",
    "    ax.set_xlim([0,1])\n",
    "    ax.set_ylim([0,1])\n",
    "\n",
    "    xy = y.reshape(3,2)\n",
    "    tri = patches.Polygon(xy, closed=True, fill = False, edgecolor = 'r', linewidth = 5, alpha = 0.5)\n",
    "    ax.add_patch(tri)\n",
    "\n",
    "    plt.show()"
   ]
  },
  {
   "cell_type": "code",
   "execution_count": 16,
   "metadata": {},
   "outputs": [],
   "source": [
    "def generate_test_set_regression():\n",
    "    np.random.seed(42)\n",
    "    [X_test, Y_test] = generate_dataset_regression(300, 20)\n",
    "    return [X_test, Y_test]"
   ]
  },
  {
   "cell_type": "markdown",
   "metadata": {},
   "source": [
    "I. Simple Classification"
   ]
  },
  {
   "cell_type": "markdown",
   "metadata": {},
   "source": [
    "Build and train a linear classifier in Keras to classify a image (like one generated above) into one of the three possible categories (i.e. rectangle, disk, triangle)."
   ]
  },
  {
   "cell_type": "markdown",
   "metadata": {},
   "source": [
    "Importing packages"
   ]
  },
  {
   "cell_type": "code",
   "execution_count": 1,
   "metadata": {},
   "outputs": [
    {
     "name": "stderr",
     "output_type": "stream",
     "text": [
      "/Users/Boubou/anaconda3/lib/python3.6/site-packages/h5py/__init__.py:36: FutureWarning: Conversion of the second argument of issubdtype from `float` to `np.floating` is deprecated. In future, it will be treated as `np.float64 == np.dtype(float).type`.\n",
      "  from ._conv import register_converters as _register_converters\n",
      "Using TensorFlow backend.\n"
     ]
    }
   ],
   "source": [
    "import tensorflow as tf\n",
    "import numpy as np\n",
    "import keras\n",
    "\n",
    "import keras.models\n",
    "from keras.models import Sequential\n",
    "\n",
    "from keras.layers import Activation, Dense\n",
    "\n",
    "from keras import optimizers\n",
    "from keras.optimizers import SGD, Adagrad, RMSprop, Adam\n",
    "\n",
    "import keras.utils\n",
    "from keras import utils as np_utils\n",
    "\n"
   ]
  },
  {
   "cell_type": "markdown",
   "metadata": {},
   "source": [
    "1.1. Generate a training set of images of simple geometric shapes (rectangle, disk, triangle)\n",
    "centered in the image"
   ]
  },
  {
   "cell_type": "code",
   "execution_count": 14,
   "metadata": {},
   "outputs": [
    {
     "name": "stdout",
     "output_type": "stream",
     "text": [
      "Creating data:\n",
      "0\n",
      "10\n",
      "20\n",
      "30\n",
      "40\n",
      "50\n",
      "60\n",
      "70\n",
      "80\n",
      "90\n",
      "100\n",
      "110\n",
      "120\n",
      "130\n",
      "140\n",
      "150\n",
      "160\n",
      "170\n",
      "180\n",
      "190\n",
      "200\n",
      "210\n",
      "220\n",
      "230\n",
      "240\n",
      "250\n",
      "260\n",
      "270\n",
      "280\n",
      "290\n"
     ]
    }
   ],
   "source": [
    "[X_train, Y_train] = generate_dataset_classification(300, 20)\n",
    "Y_train = np_utils.to_categorical(Y_train,3)"
   ]
  },
  {
   "cell_type": "markdown",
   "metadata": {},
   "source": [
    "1.2. Linear Classifiers"
   ]
  },
  {
   "cell_type": "markdown",
   "metadata": {},
   "source": [
    "The models used below are simple sequential model with 1 Dense layer and 1 Activation layer with ReLu and Softmax parameters. The Categorical Crossentropy function is used as a loss function."
   ]
  },
  {
   "cell_type": "markdown",
   "metadata": {},
   "source": [
    "1.2.1. Stochastic Gradient Descend Optimizer (SGD)"
   ]
  },
  {
   "cell_type": "markdown",
   "metadata": {},
   "source": [
    "1.2.1.1. Using the Relu parameter"
   ]
  },
  {
   "cell_type": "code",
   "execution_count": 15,
   "metadata": {},
   "outputs": [],
   "source": [
    "#Building our model\n",
    "modelSGD = Sequential()\n",
    "classes = 3\n",
    "\n",
    "modelSGD.add(Dense(classes, input_dim=X_train.shape[1]))\n",
    "modelSGD.add(Activation('relu'))"
   ]
  },
  {
   "cell_type": "code",
   "execution_count": 16,
   "metadata": {},
   "outputs": [],
   "source": [
    "#Building the optimizer \n",
    "sgd = optimizers.SGD(lr=0.05, decay=1e-6, momentum=0.9,nesterov=True)\n",
    "modelSGD.compile(optimizer='sgd',loss='categorical_crossentropy',metrics=['accuracy'])"
   ]
  },
  {
   "cell_type": "code",
   "execution_count": 18,
   "metadata": {},
   "outputs": [
    {
     "name": "stdout",
     "output_type": "stream",
     "text": [
      "Train on 270 samples, validate on 30 samples\n",
      "Epoch 1/100\n",
      "270/270 [==============================] - 0s 131us/step - loss: 6.6331 - acc: 0.3444 - val_loss: 5.8555 - val_acc: 0.1000\n",
      "Epoch 2/100\n",
      "270/270 [==============================] - 0s 111us/step - loss: 6.6320 - acc: 0.3444 - val_loss: 5.8527 - val_acc: 0.1000\n",
      "Epoch 3/100\n",
      "270/270 [==============================] - 0s 114us/step - loss: 6.6307 - acc: 0.3444 - val_loss: 5.8500 - val_acc: 0.1000\n",
      "Epoch 4/100\n",
      "270/270 [==============================] - 0s 126us/step - loss: 6.6296 - acc: 0.3444 - val_loss: 5.8473 - val_acc: 0.1000\n",
      "Epoch 5/100\n",
      "270/270 [==============================] - 0s 229us/step - loss: 6.6284 - acc: 0.3444 - val_loss: 5.8447 - val_acc: 0.1000\n",
      "Epoch 6/100\n",
      "270/270 [==============================] - 0s 149us/step - loss: 6.6273 - acc: 0.3444 - val_loss: 5.8421 - val_acc: 0.1000\n",
      "Epoch 7/100\n",
      "270/270 [==============================] - 0s 150us/step - loss: 6.6262 - acc: 0.3444 - val_loss: 5.8396 - val_acc: 0.1000\n",
      "Epoch 8/100\n",
      "270/270 [==============================] - 0s 120us/step - loss: 6.6251 - acc: 0.3444 - val_loss: 5.8370 - val_acc: 0.1000\n",
      "Epoch 9/100\n",
      "270/270 [==============================] - 0s 142us/step - loss: 6.6240 - acc: 0.3444 - val_loss: 5.8344 - val_acc: 0.1000\n",
      "Epoch 10/100\n",
      "270/270 [==============================] - 0s 145us/step - loss: 6.6229 - acc: 0.3444 - val_loss: 5.8321 - val_acc: 0.1000\n",
      "Epoch 11/100\n",
      "270/270 [==============================] - 0s 131us/step - loss: 6.6218 - acc: 0.3444 - val_loss: 5.8296 - val_acc: 0.1000\n",
      "Epoch 12/100\n",
      "270/270 [==============================] - 0s 130us/step - loss: 6.6208 - acc: 0.3444 - val_loss: 5.8271 - val_acc: 0.1000\n",
      "Epoch 13/100\n",
      "270/270 [==============================] - 0s 123us/step - loss: 6.6197 - acc: 0.3444 - val_loss: 5.8247 - val_acc: 0.1000\n",
      "Epoch 14/100\n",
      "270/270 [==============================] - 0s 120us/step - loss: 6.6187 - acc: 0.3444 - val_loss: 5.8224 - val_acc: 0.1000\n",
      "Epoch 15/100\n",
      "270/270 [==============================] - 0s 104us/step - loss: 6.6176 - acc: 0.3444 - val_loss: 5.8200 - val_acc: 0.1000\n",
      "Epoch 16/100\n",
      "270/270 [==============================] - 0s 107us/step - loss: 6.6166 - acc: 0.3444 - val_loss: 5.8177 - val_acc: 0.1000\n",
      "Epoch 17/100\n",
      "270/270 [==============================] - 0s 113us/step - loss: 6.6156 - acc: 0.3444 - val_loss: 5.8153 - val_acc: 0.1000\n",
      "Epoch 18/100\n",
      "270/270 [==============================] - 0s 123us/step - loss: 6.6146 - acc: 0.3444 - val_loss: 5.8130 - val_acc: 0.1000\n",
      "Epoch 19/100\n",
      "270/270 [==============================] - 0s 129us/step - loss: 6.6136 - acc: 0.3444 - val_loss: 5.8107 - val_acc: 0.1000\n",
      "Epoch 20/100\n",
      "270/270 [==============================] - 0s 113us/step - loss: 6.6126 - acc: 0.3444 - val_loss: 5.8084 - val_acc: 0.1000\n",
      "Epoch 21/100\n",
      "270/270 [==============================] - 0s 112us/step - loss: 6.6116 - acc: 0.3444 - val_loss: 5.8060 - val_acc: 0.1000\n",
      "Epoch 22/100\n",
      "270/270 [==============================] - 0s 125us/step - loss: 6.6106 - acc: 0.3444 - val_loss: 5.8038 - val_acc: 0.1000\n",
      "Epoch 23/100\n",
      "270/270 [==============================] - 0s 126us/step - loss: 6.6096 - acc: 0.3444 - val_loss: 5.8015 - val_acc: 0.1000\n",
      "Epoch 24/100\n",
      "270/270 [==============================] - 0s 124us/step - loss: 6.6086 - acc: 0.3444 - val_loss: 5.7992 - val_acc: 0.1000\n",
      "Epoch 25/100\n",
      "270/270 [==============================] - 0s 111us/step - loss: 6.6077 - acc: 0.3444 - val_loss: 5.7971 - val_acc: 0.1000\n",
      "Epoch 26/100\n",
      "270/270 [==============================] - 0s 120us/step - loss: 6.6067 - acc: 0.3444 - val_loss: 5.7949 - val_acc: 0.1000\n",
      "Epoch 27/100\n",
      "270/270 [==============================] - 0s 122us/step - loss: 6.6058 - acc: 0.3444 - val_loss: 5.7926 - val_acc: 0.1000\n",
      "Epoch 28/100\n",
      "270/270 [==============================] - 0s 131us/step - loss: 6.6048 - acc: 0.3444 - val_loss: 5.7904 - val_acc: 0.1000\n",
      "Epoch 29/100\n",
      "270/270 [==============================] - 0s 132us/step - loss: 6.6039 - acc: 0.3444 - val_loss: 5.7882 - val_acc: 0.1000\n",
      "Epoch 30/100\n",
      "270/270 [==============================] - 0s 116us/step - loss: 6.6029 - acc: 0.3444 - val_loss: 5.7861 - val_acc: 0.1000\n",
      "Epoch 31/100\n",
      "270/270 [==============================] - 0s 121us/step - loss: 6.6020 - acc: 0.3444 - val_loss: 5.7840 - val_acc: 0.1000\n",
      "Epoch 32/100\n",
      "270/270 [==============================] - 0s 133us/step - loss: 6.6011 - acc: 0.3444 - val_loss: 5.7820 - val_acc: 0.1000\n",
      "Epoch 33/100\n",
      "270/270 [==============================] - 0s 130us/step - loss: 6.6002 - acc: 0.3444 - val_loss: 5.7798 - val_acc: 0.1000\n",
      "Epoch 34/100\n",
      "270/270 [==============================] - 0s 113us/step - loss: 6.5993 - acc: 0.3444 - val_loss: 5.7777 - val_acc: 0.1000\n",
      "Epoch 35/100\n",
      "270/270 [==============================] - 0s 119us/step - loss: 6.5984 - acc: 0.3444 - val_loss: 5.7757 - val_acc: 0.1000\n",
      "Epoch 36/100\n",
      "270/270 [==============================] - 0s 114us/step - loss: 6.5975 - acc: 0.3444 - val_loss: 5.7736 - val_acc: 0.1000\n",
      "Epoch 37/100\n",
      "270/270 [==============================] - 0s 160us/step - loss: 6.5967 - acc: 0.3444 - val_loss: 5.7716 - val_acc: 0.1000\n",
      "Epoch 38/100\n",
      "270/270 [==============================] - 0s 124us/step - loss: 6.5958 - acc: 0.3444 - val_loss: 5.7696 - val_acc: 0.1000\n",
      "Epoch 39/100\n",
      "270/270 [==============================] - 0s 105us/step - loss: 6.5949 - acc: 0.3444 - val_loss: 5.7677 - val_acc: 0.1000\n",
      "Epoch 40/100\n",
      "270/270 [==============================] - 0s 107us/step - loss: 6.5941 - acc: 0.3444 - val_loss: 5.7657 - val_acc: 0.1000\n",
      "Epoch 41/100\n",
      "270/270 [==============================] - 0s 128us/step - loss: 6.5932 - acc: 0.3444 - val_loss: 5.7637 - val_acc: 0.1000\n",
      "Epoch 42/100\n",
      "270/270 [==============================] - 0s 127us/step - loss: 6.5924 - acc: 0.3444 - val_loss: 5.7617 - val_acc: 0.1000\n",
      "Epoch 43/100\n",
      "270/270 [==============================] - 0s 117us/step - loss: 6.5915 - acc: 0.3444 - val_loss: 5.7598 - val_acc: 0.1000\n",
      "Epoch 44/100\n",
      "270/270 [==============================] - 0s 110us/step - loss: 6.5907 - acc: 0.3444 - val_loss: 5.7578 - val_acc: 0.1000\n",
      "Epoch 45/100\n",
      "270/270 [==============================] - 0s 131us/step - loss: 6.5899 - acc: 0.3444 - val_loss: 5.7559 - val_acc: 0.1000\n",
      "Epoch 46/100\n",
      "270/270 [==============================] - 0s 126us/step - loss: 6.5890 - acc: 0.3444 - val_loss: 5.7540 - val_acc: 0.1000\n",
      "Epoch 47/100\n",
      "270/270 [==============================] - 0s 108us/step - loss: 6.5882 - acc: 0.3444 - val_loss: 5.7521 - val_acc: 0.1000\n",
      "Epoch 48/100\n",
      "270/270 [==============================] - 0s 109us/step - loss: 6.5874 - acc: 0.3444 - val_loss: 5.7503 - val_acc: 0.1000\n",
      "Epoch 49/100\n",
      "270/270 [==============================] - 0s 119us/step - loss: 6.5866 - acc: 0.3444 - val_loss: 5.7485 - val_acc: 0.1000\n",
      "Epoch 50/100\n",
      "270/270 [==============================] - 0s 119us/step - loss: 6.5858 - acc: 0.3444 - val_loss: 5.7466 - val_acc: 0.1000\n",
      "Epoch 51/100\n",
      "270/270 [==============================] - 0s 151us/step - loss: 6.5850 - acc: 0.3444 - val_loss: 5.7448 - val_acc: 0.1000\n",
      "Epoch 52/100\n",
      "270/270 [==============================] - 0s 115us/step - loss: 6.5843 - acc: 0.3444 - val_loss: 5.7430 - val_acc: 0.1000\n",
      "Epoch 53/100\n",
      "270/270 [==============================] - 0s 111us/step - loss: 6.5835 - acc: 0.3444 - val_loss: 5.7412 - val_acc: 0.1000\n",
      "Epoch 54/100\n",
      "270/270 [==============================] - 0s 111us/step - loss: 6.5827 - acc: 0.3444 - val_loss: 5.7394 - val_acc: 0.1000\n",
      "Epoch 55/100\n",
      "270/270 [==============================] - 0s 104us/step - loss: 6.5819 - acc: 0.3444 - val_loss: 5.7376 - val_acc: 0.1000\n",
      "Epoch 56/100\n",
      "270/270 [==============================] - 0s 138us/step - loss: 6.5812 - acc: 0.3444 - val_loss: 5.7357 - val_acc: 0.1000\n",
      "Epoch 57/100\n",
      "270/270 [==============================] - 0s 130us/step - loss: 6.5804 - acc: 0.3444 - val_loss: 5.7339 - val_acc: 0.1000\n",
      "Epoch 58/100\n",
      "270/270 [==============================] - 0s 118us/step - loss: 6.5796 - acc: 0.3444 - val_loss: 5.7321 - val_acc: 0.1000\n",
      "Epoch 59/100\n",
      "270/270 [==============================] - 0s 106us/step - loss: 6.5788 - acc: 0.3444 - val_loss: 5.7303 - val_acc: 0.1000\n",
      "Epoch 60/100\n",
      "270/270 [==============================] - 0s 116us/step - loss: 6.5781 - acc: 0.3444 - val_loss: 5.7286 - val_acc: 0.1000\n",
      "Epoch 61/100\n",
      "270/270 [==============================] - 0s 158us/step - loss: 6.5773 - acc: 0.3444 - val_loss: 5.7270 - val_acc: 0.1000\n",
      "Epoch 62/100\n",
      "270/270 [==============================] - 0s 122us/step - loss: 6.5766 - acc: 0.3444 - val_loss: 5.7253 - val_acc: 0.1000\n",
      "Epoch 63/100\n",
      "270/270 [==============================] - 0s 110us/step - loss: 6.5759 - acc: 0.3444 - val_loss: 5.7236 - val_acc: 0.1000\n",
      "Epoch 64/100\n",
      "270/270 [==============================] - 0s 113us/step - loss: 6.5752 - acc: 0.3444 - val_loss: 5.7219 - val_acc: 0.1000\n",
      "Epoch 65/100\n",
      "270/270 [==============================] - 0s 117us/step - loss: 6.5745 - acc: 0.3444 - val_loss: 5.7202 - val_acc: 0.1000\n",
      "Epoch 66/100\n",
      "270/270 [==============================] - 0s 169us/step - loss: 6.5737 - acc: 0.3444 - val_loss: 5.7186 - val_acc: 0.1000\n",
      "Epoch 67/100\n",
      "270/270 [==============================] - 0s 148us/step - loss: 6.5730 - acc: 0.3444 - val_loss: 5.7169 - val_acc: 0.1000\n",
      "Epoch 68/100\n",
      "270/270 [==============================] - 0s 126us/step - loss: 6.5723 - acc: 0.3444 - val_loss: 5.7153 - val_acc: 0.1000\n",
      "Epoch 69/100\n",
      "270/270 [==============================] - 0s 158us/step - loss: 6.5716 - acc: 0.3444 - val_loss: 5.7136 - val_acc: 0.1000\n",
      "Epoch 70/100\n",
      "270/270 [==============================] - 0s 232us/step - loss: 6.5709 - acc: 0.3444 - val_loss: 5.7119 - val_acc: 0.1000\n",
      "Epoch 71/100\n",
      "270/270 [==============================] - 0s 233us/step - loss: 6.5702 - acc: 0.3444 - val_loss: 5.7102 - val_acc: 0.1000\n",
      "Epoch 72/100\n",
      "270/270 [==============================] - 0s 184us/step - loss: 6.5694 - acc: 0.3444 - val_loss: 5.7086 - val_acc: 0.1000\n",
      "Epoch 73/100\n",
      "270/270 [==============================] - 0s 145us/step - loss: 6.5687 - acc: 0.3444 - val_loss: 5.7069 - val_acc: 0.1000\n",
      "Epoch 74/100\n",
      "270/270 [==============================] - 0s 155us/step - loss: 6.5680 - acc: 0.3444 - val_loss: 5.7053 - val_acc: 0.1000\n",
      "Epoch 75/100\n",
      "270/270 [==============================] - 0s 148us/step - loss: 6.5673 - acc: 0.3444 - val_loss: 5.7037 - val_acc: 0.1000\n",
      "Epoch 76/100\n",
      "270/270 [==============================] - 0s 152us/step - loss: 6.5667 - acc: 0.3444 - val_loss: 5.7020 - val_acc: 0.1000\n",
      "Epoch 77/100\n",
      "270/270 [==============================] - 0s 155us/step - loss: 6.5660 - acc: 0.3444 - val_loss: 5.7004 - val_acc: 0.1000\n",
      "Epoch 78/100\n",
      "270/270 [==============================] - 0s 175us/step - loss: 6.5653 - acc: 0.3444 - val_loss: 5.6989 - val_acc: 0.1000\n",
      "Epoch 79/100\n",
      "270/270 [==============================] - 0s 141us/step - loss: 6.5646 - acc: 0.3444 - val_loss: 5.6973 - val_acc: 0.1000\n",
      "Epoch 80/100\n",
      "270/270 [==============================] - 0s 164us/step - loss: 6.5639 - acc: 0.3444 - val_loss: 5.6958 - val_acc: 0.1000\n",
      "Epoch 81/100\n",
      "270/270 [==============================] - 0s 156us/step - loss: 6.5633 - acc: 0.3444 - val_loss: 5.6943 - val_acc: 0.1000\n",
      "Epoch 82/100\n",
      "270/270 [==============================] - 0s 150us/step - loss: 6.5626 - acc: 0.3444 - val_loss: 5.6927 - val_acc: 0.1000\n",
      "Epoch 83/100\n",
      "270/270 [==============================] - 0s 145us/step - loss: 6.5620 - acc: 0.3444 - val_loss: 5.6912 - val_acc: 0.1000\n",
      "Epoch 84/100\n",
      "270/270 [==============================] - 0s 128us/step - loss: 6.5613 - acc: 0.3444 - val_loss: 5.6897 - val_acc: 0.1000\n",
      "Epoch 85/100\n",
      "270/270 [==============================] - 0s 155us/step - loss: 6.5607 - acc: 0.3444 - val_loss: 5.6882 - val_acc: 0.1000\n",
      "Epoch 86/100\n",
      "270/270 [==============================] - 0s 130us/step - loss: 6.5600 - acc: 0.3444 - val_loss: 5.6866 - val_acc: 0.1000\n",
      "Epoch 87/100\n",
      "270/270 [==============================] - 0s 123us/step - loss: 6.5594 - acc: 0.3444 - val_loss: 5.6851 - val_acc: 0.1000\n",
      "Epoch 88/100\n",
      "270/270 [==============================] - 0s 122us/step - loss: 6.5587 - acc: 0.3444 - val_loss: 5.6836 - val_acc: 0.1000\n",
      "Epoch 89/100\n",
      "270/270 [==============================] - 0s 121us/step - loss: 6.5581 - acc: 0.3444 - val_loss: 5.6822 - val_acc: 0.1000\n",
      "Epoch 90/100\n",
      "270/270 [==============================] - 0s 187us/step - loss: 6.5575 - acc: 0.3444 - val_loss: 5.6807 - val_acc: 0.1000\n",
      "Epoch 91/100\n",
      "270/270 [==============================] - 0s 176us/step - loss: 6.5568 - acc: 0.3444 - val_loss: 5.6792 - val_acc: 0.1000\n",
      "Epoch 92/100\n",
      "270/270 [==============================] - 0s 175us/step - loss: 6.5562 - acc: 0.3444 - val_loss: 5.6777 - val_acc: 0.1000\n",
      "Epoch 93/100\n",
      "270/270 [==============================] - 0s 156us/step - loss: 6.5555 - acc: 0.3444 - val_loss: 5.6762 - val_acc: 0.1000\n",
      "Epoch 94/100\n",
      "270/270 [==============================] - 0s 143us/step - loss: 6.5549 - acc: 0.3444 - val_loss: 5.6747 - val_acc: 0.1000\n",
      "Epoch 95/100\n",
      "270/270 [==============================] - 0s 154us/step - loss: 6.5543 - acc: 0.3444 - val_loss: 5.6733 - val_acc: 0.1000\n",
      "Epoch 96/100\n",
      "270/270 [==============================] - 0s 126us/step - loss: 6.5537 - acc: 0.3444 - val_loss: 5.6718 - val_acc: 0.1000\n",
      "Epoch 97/100\n",
      "270/270 [==============================] - 0s 124us/step - loss: 6.5530 - acc: 0.3444 - val_loss: 5.6703 - val_acc: 0.1000\n",
      "Epoch 98/100\n",
      "270/270 [==============================] - 0s 126us/step - loss: 6.5524 - acc: 0.3444 - val_loss: 5.6689 - val_acc: 0.1000\n",
      "Epoch 99/100\n",
      "270/270 [==============================] - 0s 126us/step - loss: 6.5518 - acc: 0.3444 - val_loss: 5.6675 - val_acc: 0.1000\n",
      "Epoch 100/100\n",
      "270/270 [==============================] - 0s 141us/step - loss: 6.5512 - acc: 0.3444 - val_loss: 5.6660 - val_acc: 0.1000\n"
     ]
    },
    {
     "data": {
      "text/plain": [
       "<keras.callbacks.History at 0xb22099f98>"
      ]
     },
     "execution_count": 18,
     "metadata": {},
     "output_type": "execute_result"
    }
   ],
   "source": [
    "#Training the model\n",
    "modelSGD.fit(X_train, Y_train, epochs=100, batch_size=32, validation_split=0.1)"
   ]
  },
  {
   "cell_type": "markdown",
   "metadata": {},
   "source": [
    "1.2.1.2. Using Softmax Parameter"
   ]
  },
  {
   "cell_type": "code",
   "execution_count": 19,
   "metadata": {},
   "outputs": [],
   "source": [
    "#Building our model\n",
    "modelSGD1 = Sequential()\n",
    "classes = 3\n",
    "\n",
    "modelSGD1.add(Dense(classes, input_dim=X_train.shape[1]))\n",
    "modelSGD1.add(Activation(tf.nn.softmax))"
   ]
  },
  {
   "cell_type": "code",
   "execution_count": 20,
   "metadata": {},
   "outputs": [],
   "source": [
    "#Building the optimizer \n",
    "sgd = optimizers.SGD(lr=0.05,decay=1e-6, momentum=0.9,nesterov=True)\n",
    "modelSGD1.compile(optimizer='sgd', loss='categorical_crossentropy', metrics=['accuracy'])"
   ]
  },
  {
   "cell_type": "code",
   "execution_count": 21,
   "metadata": {},
   "outputs": [
    {
     "name": "stdout",
     "output_type": "stream",
     "text": [
      "Train on 270 samples, validate on 30 samples\n",
      "Epoch 1/100\n",
      "270/270 [==============================] - 0s 763us/step - loss: 7.8254 - acc: 0.3296 - val_loss: 5.3727 - val_acc: 0.6667\n",
      "Epoch 2/100\n",
      "270/270 [==============================] - 0s 116us/step - loss: 11.2230 - acc: 0.3037 - val_loss: 5.3727 - val_acc: 0.6667\n",
      "Epoch 3/100\n",
      "270/270 [==============================] - 0s 133us/step - loss: 11.2230 - acc: 0.3037 - val_loss: 5.3727 - val_acc: 0.6667\n",
      "Epoch 4/100\n",
      "270/270 [==============================] - 0s 143us/step - loss: 11.2230 - acc: 0.3037 - val_loss: 5.3727 - val_acc: 0.6667\n",
      "Epoch 5/100\n",
      "270/270 [==============================] - 0s 114us/step - loss: 11.2230 - acc: 0.3037 - val_loss: 5.3727 - val_acc: 0.6667\n",
      "Epoch 6/100\n",
      "270/270 [==============================] - 0s 152us/step - loss: 11.2230 - acc: 0.3037 - val_loss: 5.3727 - val_acc: 0.6667\n",
      "Epoch 7/100\n",
      "270/270 [==============================] - 0s 144us/step - loss: 11.2230 - acc: 0.3037 - val_loss: 5.3727 - val_acc: 0.6667\n",
      "Epoch 8/100\n",
      "270/270 [==============================] - 0s 121us/step - loss: 11.2230 - acc: 0.3037 - val_loss: 5.3727 - val_acc: 0.6667\n",
      "Epoch 9/100\n",
      "270/270 [==============================] - 0s 139us/step - loss: 11.2230 - acc: 0.3037 - val_loss: 5.3727 - val_acc: 0.6667\n",
      "Epoch 10/100\n",
      "270/270 [==============================] - 0s 129us/step - loss: 11.2230 - acc: 0.3037 - val_loss: 5.3727 - val_acc: 0.6667\n",
      "Epoch 11/100\n",
      "270/270 [==============================] - 0s 123us/step - loss: 11.2230 - acc: 0.3037 - val_loss: 5.3727 - val_acc: 0.6667\n",
      "Epoch 12/100\n",
      "270/270 [==============================] - 0s 127us/step - loss: 11.2230 - acc: 0.3037 - val_loss: 5.3727 - val_acc: 0.6667\n",
      "Epoch 13/100\n",
      "270/270 [==============================] - 0s 136us/step - loss: 11.2230 - acc: 0.3037 - val_loss: 5.3727 - val_acc: 0.6667\n",
      "Epoch 14/100\n",
      "270/270 [==============================] - 0s 120us/step - loss: 11.2230 - acc: 0.3037 - val_loss: 5.3727 - val_acc: 0.6667\n",
      "Epoch 15/100\n",
      "270/270 [==============================] - 0s 116us/step - loss: 11.2230 - acc: 0.3037 - val_loss: 5.3727 - val_acc: 0.6667\n",
      "Epoch 16/100\n",
      "270/270 [==============================] - 0s 152us/step - loss: 11.2230 - acc: 0.3037 - val_loss: 5.3727 - val_acc: 0.6667\n",
      "Epoch 17/100\n",
      "270/270 [==============================] - 0s 116us/step - loss: 11.2230 - acc: 0.3037 - val_loss: 5.3727 - val_acc: 0.6667\n",
      "Epoch 18/100\n",
      "270/270 [==============================] - 0s 133us/step - loss: 11.2230 - acc: 0.3037 - val_loss: 5.3727 - val_acc: 0.6667\n",
      "Epoch 19/100\n",
      "270/270 [==============================] - 0s 154us/step - loss: 11.2230 - acc: 0.3037 - val_loss: 5.3727 - val_acc: 0.6667\n",
      "Epoch 20/100\n",
      "270/270 [==============================] - 0s 147us/step - loss: 11.2230 - acc: 0.3037 - val_loss: 5.3727 - val_acc: 0.6667\n",
      "Epoch 21/100\n",
      "270/270 [==============================] - 0s 122us/step - loss: 11.2230 - acc: 0.3037 - val_loss: 5.3727 - val_acc: 0.6667\n",
      "Epoch 22/100\n",
      "270/270 [==============================] - 0s 147us/step - loss: 11.2230 - acc: 0.3037 - val_loss: 5.3727 - val_acc: 0.6667\n",
      "Epoch 23/100\n",
      "270/270 [==============================] - 0s 141us/step - loss: 11.2230 - acc: 0.3037 - val_loss: 5.3727 - val_acc: 0.6667\n",
      "Epoch 24/100\n",
      "270/270 [==============================] - 0s 124us/step - loss: 11.2230 - acc: 0.3037 - val_loss: 5.3727 - val_acc: 0.6667\n",
      "Epoch 25/100\n",
      "270/270 [==============================] - 0s 135us/step - loss: 11.2230 - acc: 0.3037 - val_loss: 5.3727 - val_acc: 0.6667\n",
      "Epoch 26/100\n",
      "270/270 [==============================] - 0s 170us/step - loss: 11.2230 - acc: 0.3037 - val_loss: 5.3727 - val_acc: 0.6667\n",
      "Epoch 27/100\n",
      "270/270 [==============================] - 0s 187us/step - loss: 11.2230 - acc: 0.3037 - val_loss: 5.3727 - val_acc: 0.6667\n",
      "Epoch 28/100\n",
      "270/270 [==============================] - 0s 216us/step - loss: 11.2230 - acc: 0.3037 - val_loss: 5.3727 - val_acc: 0.6667\n",
      "Epoch 29/100\n",
      "270/270 [==============================] - 0s 182us/step - loss: 11.2230 - acc: 0.3037 - val_loss: 5.3727 - val_acc: 0.6667\n",
      "Epoch 30/100\n",
      "270/270 [==============================] - 0s 158us/step - loss: 11.2230 - acc: 0.3037 - val_loss: 5.3727 - val_acc: 0.6667\n",
      "Epoch 31/100\n",
      "270/270 [==============================] - 0s 168us/step - loss: 11.2230 - acc: 0.3037 - val_loss: 5.3727 - val_acc: 0.6667\n",
      "Epoch 32/100\n",
      "270/270 [==============================] - 0s 147us/step - loss: 11.2230 - acc: 0.3037 - val_loss: 5.3727 - val_acc: 0.6667\n",
      "Epoch 33/100\n",
      "270/270 [==============================] - 0s 147us/step - loss: 11.2230 - acc: 0.3037 - val_loss: 5.3727 - val_acc: 0.6667\n",
      "Epoch 34/100\n",
      "270/270 [==============================] - 0s 257us/step - loss: 11.2230 - acc: 0.3037 - val_loss: 5.3727 - val_acc: 0.6667\n",
      "Epoch 35/100\n",
      "270/270 [==============================] - 0s 156us/step - loss: 11.2230 - acc: 0.3037 - val_loss: 5.3727 - val_acc: 0.6667\n",
      "Epoch 36/100\n",
      "270/270 [==============================] - 0s 157us/step - loss: 11.2230 - acc: 0.3037 - val_loss: 5.3727 - val_acc: 0.6667\n",
      "Epoch 37/100\n",
      "270/270 [==============================] - 0s 142us/step - loss: 11.2230 - acc: 0.3037 - val_loss: 5.3727 - val_acc: 0.6667\n",
      "Epoch 38/100\n",
      "270/270 [==============================] - 0s 132us/step - loss: 11.2230 - acc: 0.3037 - val_loss: 5.3727 - val_acc: 0.6667\n",
      "Epoch 39/100\n",
      "270/270 [==============================] - 0s 117us/step - loss: 11.2230 - acc: 0.3037 - val_loss: 5.3727 - val_acc: 0.6667\n",
      "Epoch 40/100\n",
      "270/270 [==============================] - 0s 122us/step - loss: 11.2230 - acc: 0.3037 - val_loss: 5.3727 - val_acc: 0.6667\n",
      "Epoch 41/100\n",
      "270/270 [==============================] - 0s 133us/step - loss: 11.2230 - acc: 0.3037 - val_loss: 5.3727 - val_acc: 0.6667\n",
      "Epoch 42/100\n",
      "270/270 [==============================] - 0s 142us/step - loss: 11.2230 - acc: 0.3037 - val_loss: 5.3727 - val_acc: 0.6667\n",
      "Epoch 43/100\n",
      "270/270 [==============================] - 0s 150us/step - loss: 11.2230 - acc: 0.3037 - val_loss: 5.3727 - val_acc: 0.6667\n",
      "Epoch 44/100\n",
      "270/270 [==============================] - 0s 158us/step - loss: 11.2230 - acc: 0.3037 - val_loss: 5.3727 - val_acc: 0.6667\n",
      "Epoch 45/100\n",
      "270/270 [==============================] - 0s 181us/step - loss: 11.2230 - acc: 0.3037 - val_loss: 5.3727 - val_acc: 0.6667\n",
      "Epoch 46/100\n",
      "270/270 [==============================] - 0s 201us/step - loss: 11.2230 - acc: 0.3037 - val_loss: 5.3727 - val_acc: 0.6667\n",
      "Epoch 47/100\n",
      "270/270 [==============================] - 0s 163us/step - loss: 11.2230 - acc: 0.3037 - val_loss: 5.3727 - val_acc: 0.6667\n",
      "Epoch 48/100\n",
      "270/270 [==============================] - 0s 151us/step - loss: 11.2230 - acc: 0.3037 - val_loss: 5.3727 - val_acc: 0.6667\n",
      "Epoch 49/100\n",
      "270/270 [==============================] - 0s 147us/step - loss: 11.2230 - acc: 0.3037 - val_loss: 5.3727 - val_acc: 0.6667\n",
      "Epoch 50/100\n",
      "270/270 [==============================] - 0s 158us/step - loss: 11.2230 - acc: 0.3037 - val_loss: 5.3727 - val_acc: 0.6667\n",
      "Epoch 51/100\n",
      "270/270 [==============================] - 0s 132us/step - loss: 11.2230 - acc: 0.3037 - val_loss: 5.3727 - val_acc: 0.6667\n",
      "Epoch 52/100\n",
      "270/270 [==============================] - 0s 213us/step - loss: 11.2230 - acc: 0.3037 - val_loss: 5.3727 - val_acc: 0.6667\n",
      "Epoch 53/100\n",
      "270/270 [==============================] - 0s 167us/step - loss: 11.2230 - acc: 0.3037 - val_loss: 5.3727 - val_acc: 0.6667\n",
      "Epoch 54/100\n",
      "270/270 [==============================] - 0s 150us/step - loss: 11.2230 - acc: 0.3037 - val_loss: 5.3727 - val_acc: 0.6667\n",
      "Epoch 55/100\n",
      "270/270 [==============================] - 0s 136us/step - loss: 11.2230 - acc: 0.3037 - val_loss: 5.3727 - val_acc: 0.6667\n",
      "Epoch 56/100\n",
      "270/270 [==============================] - 0s 145us/step - loss: 11.2230 - acc: 0.3037 - val_loss: 5.3727 - val_acc: 0.6667\n",
      "Epoch 57/100\n",
      "270/270 [==============================] - 0s 188us/step - loss: 11.2230 - acc: 0.3037 - val_loss: 5.3727 - val_acc: 0.6667\n",
      "Epoch 58/100\n",
      "270/270 [==============================] - 0s 160us/step - loss: 11.2230 - acc: 0.3037 - val_loss: 5.3727 - val_acc: 0.6667\n",
      "Epoch 59/100\n",
      "270/270 [==============================] - 0s 160us/step - loss: 11.2230 - acc: 0.3037 - val_loss: 5.3727 - val_acc: 0.6667\n",
      "Epoch 60/100\n",
      "270/270 [==============================] - 0s 126us/step - loss: 11.2230 - acc: 0.3037 - val_loss: 5.3727 - val_acc: 0.6667\n",
      "Epoch 61/100\n",
      "270/270 [==============================] - 0s 123us/step - loss: 11.2230 - acc: 0.3037 - val_loss: 5.3727 - val_acc: 0.6667\n",
      "Epoch 62/100\n",
      "270/270 [==============================] - 0s 120us/step - loss: 11.2230 - acc: 0.3037 - val_loss: 5.3727 - val_acc: 0.6667\n",
      "Epoch 63/100\n",
      "270/270 [==============================] - 0s 124us/step - loss: 11.2230 - acc: 0.3037 - val_loss: 5.3727 - val_acc: 0.6667\n",
      "Epoch 64/100\n",
      "270/270 [==============================] - 0s 124us/step - loss: 11.2230 - acc: 0.3037 - val_loss: 5.3727 - val_acc: 0.6667\n",
      "Epoch 65/100\n",
      "270/270 [==============================] - 0s 140us/step - loss: 11.2230 - acc: 0.3037 - val_loss: 5.3727 - val_acc: 0.6667\n",
      "Epoch 66/100\n",
      "270/270 [==============================] - 0s 153us/step - loss: 11.2230 - acc: 0.3037 - val_loss: 5.3727 - val_acc: 0.6667\n",
      "Epoch 67/100\n",
      "270/270 [==============================] - 0s 159us/step - loss: 11.2230 - acc: 0.3037 - val_loss: 5.3727 - val_acc: 0.6667\n",
      "Epoch 68/100\n",
      "270/270 [==============================] - 0s 180us/step - loss: 11.2230 - acc: 0.3037 - val_loss: 5.3727 - val_acc: 0.6667\n",
      "Epoch 69/100\n",
      "270/270 [==============================] - 0s 155us/step - loss: 11.2230 - acc: 0.3037 - val_loss: 5.3727 - val_acc: 0.6667\n",
      "Epoch 70/100\n",
      "270/270 [==============================] - 0s 153us/step - loss: 11.2230 - acc: 0.3037 - val_loss: 5.3727 - val_acc: 0.6667\n",
      "Epoch 71/100\n",
      "270/270 [==============================] - 0s 132us/step - loss: 11.2230 - acc: 0.3037 - val_loss: 5.3727 - val_acc: 0.6667\n",
      "Epoch 72/100\n",
      "270/270 [==============================] - 0s 137us/step - loss: 11.2230 - acc: 0.3037 - val_loss: 5.3727 - val_acc: 0.6667\n",
      "Epoch 73/100\n",
      "270/270 [==============================] - 0s 142us/step - loss: 11.2230 - acc: 0.3037 - val_loss: 5.3727 - val_acc: 0.6667\n",
      "Epoch 74/100\n",
      "270/270 [==============================] - 0s 144us/step - loss: 11.2230 - acc: 0.3037 - val_loss: 5.3727 - val_acc: 0.6667\n",
      "Epoch 75/100\n",
      "270/270 [==============================] - 0s 139us/step - loss: 11.2230 - acc: 0.3037 - val_loss: 5.3727 - val_acc: 0.6667\n",
      "Epoch 76/100\n",
      "270/270 [==============================] - 0s 157us/step - loss: 11.2230 - acc: 0.3037 - val_loss: 5.3727 - val_acc: 0.6667\n",
      "Epoch 77/100\n",
      "270/270 [==============================] - 0s 153us/step - loss: 11.2230 - acc: 0.3037 - val_loss: 5.3727 - val_acc: 0.6667\n",
      "Epoch 78/100\n",
      "270/270 [==============================] - 0s 134us/step - loss: 11.2230 - acc: 0.3037 - val_loss: 5.3727 - val_acc: 0.6667\n",
      "Epoch 79/100\n",
      "270/270 [==============================] - 0s 130us/step - loss: 11.2230 - acc: 0.3037 - val_loss: 5.3727 - val_acc: 0.6667\n",
      "Epoch 80/100\n",
      "270/270 [==============================] - 0s 123us/step - loss: 11.2230 - acc: 0.3037 - val_loss: 5.3727 - val_acc: 0.6667\n",
      "Epoch 81/100\n",
      "270/270 [==============================] - 0s 131us/step - loss: 11.2230 - acc: 0.3037 - val_loss: 5.3727 - val_acc: 0.6667\n",
      "Epoch 82/100\n",
      "270/270 [==============================] - 0s 127us/step - loss: 11.2230 - acc: 0.3037 - val_loss: 5.3727 - val_acc: 0.6667\n",
      "Epoch 83/100\n",
      "270/270 [==============================] - 0s 168us/step - loss: 11.2230 - acc: 0.3037 - val_loss: 5.3727 - val_acc: 0.6667\n",
      "Epoch 84/100\n",
      "270/270 [==============================] - 0s 146us/step - loss: 11.2230 - acc: 0.3037 - val_loss: 5.3727 - val_acc: 0.6667\n",
      "Epoch 85/100\n",
      "270/270 [==============================] - 0s 140us/step - loss: 11.2230 - acc: 0.3037 - val_loss: 5.3727 - val_acc: 0.6667\n",
      "Epoch 86/100\n",
      "270/270 [==============================] - 0s 129us/step - loss: 11.2230 - acc: 0.3037 - val_loss: 5.3727 - val_acc: 0.6667\n",
      "Epoch 87/100\n",
      "270/270 [==============================] - 0s 125us/step - loss: 11.2230 - acc: 0.3037 - val_loss: 5.3727 - val_acc: 0.6667\n",
      "Epoch 88/100\n",
      "270/270 [==============================] - 0s 212us/step - loss: 11.2230 - acc: 0.3037 - val_loss: 5.3727 - val_acc: 0.6667\n",
      "Epoch 89/100\n",
      "270/270 [==============================] - 0s 179us/step - loss: 11.2230 - acc: 0.3037 - val_loss: 5.3727 - val_acc: 0.6667\n",
      "Epoch 90/100\n",
      "270/270 [==============================] - 0s 181us/step - loss: 11.2230 - acc: 0.3037 - val_loss: 5.3727 - val_acc: 0.6667\n",
      "Epoch 91/100\n",
      "270/270 [==============================] - 0s 165us/step - loss: 11.2230 - acc: 0.3037 - val_loss: 5.3727 - val_acc: 0.6667\n",
      "Epoch 92/100\n",
      "270/270 [==============================] - 0s 188us/step - loss: 11.2230 - acc: 0.3037 - val_loss: 5.3727 - val_acc: 0.6667\n",
      "Epoch 93/100\n",
      "270/270 [==============================] - 0s 147us/step - loss: 11.2230 - acc: 0.3037 - val_loss: 5.3727 - val_acc: 0.6667\n",
      "Epoch 94/100\n",
      "270/270 [==============================] - 0s 180us/step - loss: 11.2230 - acc: 0.3037 - val_loss: 5.3727 - val_acc: 0.6667\n",
      "Epoch 95/100\n",
      "270/270 [==============================] - 0s 147us/step - loss: 11.2230 - acc: 0.3037 - val_loss: 5.3727 - val_acc: 0.6667\n",
      "Epoch 96/100\n",
      "270/270 [==============================] - 0s 155us/step - loss: 11.2230 - acc: 0.3037 - val_loss: 5.3727 - val_acc: 0.6667\n",
      "Epoch 97/100\n",
      "270/270 [==============================] - 0s 171us/step - loss: 11.2230 - acc: 0.3037 - val_loss: 5.3727 - val_acc: 0.6667\n",
      "Epoch 98/100\n",
      "270/270 [==============================] - 0s 182us/step - loss: 11.2230 - acc: 0.3037 - val_loss: 5.3727 - val_acc: 0.6667\n",
      "Epoch 99/100\n",
      "270/270 [==============================] - 0s 140us/step - loss: 11.2230 - acc: 0.3037 - val_loss: 5.3727 - val_acc: 0.6667\n",
      "Epoch 100/100\n",
      "270/270 [==============================] - 0s 121us/step - loss: 11.2230 - acc: 0.3037 - val_loss: 5.3727 - val_acc: 0.6667\n"
     ]
    },
    {
     "data": {
      "text/plain": [
       "<keras.callbacks.History at 0x11201e4e0>"
      ]
     },
     "execution_count": 21,
     "metadata": {},
     "output_type": "execute_result"
    }
   ],
   "source": [
    "#Training the model\n",
    "modelSGD1.fit(X_train, Y_train, epochs=100, batch_size=32, validation_split=0.1)"
   ]
  },
  {
   "cell_type": "markdown",
   "metadata": {},
   "source": [
    "1.2.2. Checking results on test sets using SGD Optimizer with Softmax Parameter"
   ]
  },
  {
   "cell_type": "code",
   "execution_count": 22,
   "metadata": {},
   "outputs": [
    {
     "data": {
      "text/plain": [
       "array([[1., 0., 0.]], dtype=float32)"
      ]
     },
     "execution_count": 22,
     "metadata": {},
     "output_type": "execute_result"
    }
   ],
   "source": [
    "#On a disk shape\n",
    "X_test = generate_a_disk()\n",
    "X_test = X_test.reshape(1, X_test.shape[0])\n",
    "\n",
    "prediction = modelSGD1.predict(X_test) #generate predicted Y\n",
    "prediction"
   ]
  },
  {
   "cell_type": "code",
   "execution_count": 23,
   "metadata": {},
   "outputs": [
    {
     "data": {
      "text/plain": [
       "array([[1., 0., 0.]], dtype=float32)"
      ]
     },
     "execution_count": 23,
     "metadata": {},
     "output_type": "execute_result"
    }
   ],
   "source": [
    "#On a rectangle shape\n",
    "X_test = generate_a_rectangle()\n",
    "X_test = X_test.reshape(1, X_test.shape[0])\n",
    "\n",
    "prediction = modelSGD1.predict(X_test) #generate predicted Y\n",
    "prediction"
   ]
  },
  {
   "cell_type": "code",
   "execution_count": 24,
   "metadata": {},
   "outputs": [
    {
     "data": {
      "text/plain": [
       "array([[1., 0., 0.]], dtype=float32)"
      ]
     },
     "execution_count": 24,
     "metadata": {},
     "output_type": "execute_result"
    }
   ],
   "source": [
    "#On a triangle shape\n",
    "X_test, _ = generate_a_triangle()\n",
    "X_test = X_test.reshape(1, X_test.shape[0])\n",
    "\n",
    "prediction = modelSGD1.predict(X_test) #generate predicted Y\n",
    "prediction"
   ]
  },
  {
   "cell_type": "markdown",
   "metadata": {},
   "source": [
    "1.2.2. Adam Optimizer"
   ]
  },
  {
   "cell_type": "code",
   "execution_count": 25,
   "metadata": {},
   "outputs": [],
   "source": [
    "#Building our model\n",
    "modelAdam = Sequential()\n",
    "nb_classes = 3\n",
    "\n",
    "modelAdam.add(Dense(nb_classes, input_dim=X_train.shape[1]))\n",
    "modelAdam.add(Activation(tf.nn.softmax))"
   ]
  },
  {
   "cell_type": "code",
   "execution_count": 26,
   "metadata": {},
   "outputs": [],
   "source": [
    "#Building the optimizer \n",
    "modelAdam.compile(optimizer='adam',loss='categorical_crossentropy', metrics=['accuracy'])"
   ]
  },
  {
   "cell_type": "code",
   "execution_count": 27,
   "metadata": {},
   "outputs": [
    {
     "name": "stdout",
     "output_type": "stream",
     "text": [
      "Train on 270 samples, validate on 30 samples\n",
      "Epoch 1/50\n",
      "270/270 [==============================] - 0s 906us/step - loss: 2.3057 - acc: 0.3778 - val_loss: 1.0837 - val_acc: 0.5000\n",
      "Epoch 2/50\n",
      "270/270 [==============================] - 0s 126us/step - loss: 1.0905 - acc: 0.5333 - val_loss: 0.5069 - val_acc: 0.7667\n",
      "Epoch 3/50\n",
      "270/270 [==============================] - 0s 124us/step - loss: 0.6336 - acc: 0.7630 - val_loss: 0.5085 - val_acc: 0.9000\n",
      "Epoch 4/50\n",
      "270/270 [==============================] - 0s 152us/step - loss: 0.4141 - acc: 0.8889 - val_loss: 0.4198 - val_acc: 0.9000\n",
      "Epoch 5/50\n",
      "270/270 [==============================] - 0s 142us/step - loss: 0.3491 - acc: 0.9259 - val_loss: 0.5192 - val_acc: 0.8667\n",
      "Epoch 6/50\n",
      "270/270 [==============================] - 0s 121us/step - loss: 0.3068 - acc: 0.9556 - val_loss: 0.6934 - val_acc: 0.6000\n",
      "Epoch 7/50\n",
      "270/270 [==============================] - 0s 141us/step - loss: 0.3039 - acc: 0.8926 - val_loss: 0.8321 - val_acc: 0.4333\n",
      "Epoch 8/50\n",
      "270/270 [==============================] - 0s 143us/step - loss: 0.2852 - acc: 0.8889 - val_loss: 0.3371 - val_acc: 0.9000\n",
      "Epoch 9/50\n",
      "270/270 [==============================] - 0s 138us/step - loss: 0.2957 - acc: 0.8815 - val_loss: 0.3661 - val_acc: 0.9000\n",
      "Epoch 10/50\n",
      "270/270 [==============================] - 0s 128us/step - loss: 0.2654 - acc: 0.8778 - val_loss: 0.3145 - val_acc: 0.9000\n",
      "Epoch 11/50\n",
      "270/270 [==============================] - 0s 150us/step - loss: 0.1851 - acc: 0.9704 - val_loss: 0.3280 - val_acc: 0.9000\n",
      "Epoch 12/50\n",
      "270/270 [==============================] - 0s 146us/step - loss: 0.1546 - acc: 0.9889 - val_loss: 0.3554 - val_acc: 0.9000\n",
      "Epoch 13/50\n",
      "270/270 [==============================] - 0s 149us/step - loss: 0.1398 - acc: 0.9926 - val_loss: 0.2479 - val_acc: 0.9000\n",
      "Epoch 14/50\n",
      "270/270 [==============================] - 0s 127us/step - loss: 0.1283 - acc: 0.9889 - val_loss: 0.2231 - val_acc: 0.9000\n",
      "Epoch 15/50\n",
      "270/270 [==============================] - 0s 152us/step - loss: 0.1214 - acc: 0.9926 - val_loss: 0.3399 - val_acc: 0.9000\n",
      "Epoch 16/50\n",
      "270/270 [==============================] - 0s 142us/step - loss: 0.1248 - acc: 0.9852 - val_loss: 0.1791 - val_acc: 0.9333\n",
      "Epoch 17/50\n",
      "270/270 [==============================] - 0s 132us/step - loss: 0.1202 - acc: 0.9852 - val_loss: 0.1528 - val_acc: 0.9667\n",
      "Epoch 18/50\n",
      "270/270 [==============================] - 0s 138us/step - loss: 0.1077 - acc: 0.9889 - val_loss: 0.1793 - val_acc: 0.9000\n",
      "Epoch 19/50\n",
      "270/270 [==============================] - 0s 150us/step - loss: 0.0980 - acc: 0.9963 - val_loss: 0.2125 - val_acc: 0.9000\n",
      "Epoch 20/50\n",
      "270/270 [==============================] - 0s 150us/step - loss: 0.1060 - acc: 0.9926 - val_loss: 0.2400 - val_acc: 0.9000\n",
      "Epoch 21/50\n",
      "270/270 [==============================] - 0s 126us/step - loss: 0.0883 - acc: 0.9926 - val_loss: 0.2057 - val_acc: 0.9000\n",
      "Epoch 22/50\n",
      "270/270 [==============================] - 0s 121us/step - loss: 0.0779 - acc: 0.9926 - val_loss: 0.1625 - val_acc: 0.9333\n",
      "Epoch 23/50\n",
      "270/270 [==============================] - 0s 146us/step - loss: 0.0726 - acc: 0.9963 - val_loss: 0.1367 - val_acc: 0.9667\n",
      "Epoch 24/50\n",
      "270/270 [==============================] - 0s 152us/step - loss: 0.0710 - acc: 0.9963 - val_loss: 0.1304 - val_acc: 0.9667\n",
      "Epoch 25/50\n",
      "270/270 [==============================] - 0s 138us/step - loss: 0.0839 - acc: 0.9926 - val_loss: 0.1574 - val_acc: 0.9333\n",
      "Epoch 26/50\n",
      "270/270 [==============================] - 0s 139us/step - loss: 0.0795 - acc: 0.9963 - val_loss: 0.2707 - val_acc: 0.9000\n",
      "Epoch 27/50\n",
      "270/270 [==============================] - 0s 172us/step - loss: 0.0723 - acc: 0.9926 - val_loss: 0.2930 - val_acc: 0.9000\n",
      "Epoch 28/50\n",
      "270/270 [==============================] - 0s 123us/step - loss: 0.0675 - acc: 0.9963 - val_loss: 0.2516 - val_acc: 0.9000\n",
      "Epoch 29/50\n",
      "270/270 [==============================] - 0s 145us/step - loss: 0.0578 - acc: 0.9963 - val_loss: 0.1971 - val_acc: 0.9000\n",
      "Epoch 30/50\n",
      "270/270 [==============================] - 0s 135us/step - loss: 0.0541 - acc: 0.9926 - val_loss: 0.1173 - val_acc: 0.9667\n",
      "Epoch 31/50\n",
      "270/270 [==============================] - 0s 160us/step - loss: 0.0483 - acc: 0.9963 - val_loss: 0.1599 - val_acc: 0.9000\n",
      "Epoch 32/50\n",
      "270/270 [==============================] - 0s 119us/step - loss: 0.0457 - acc: 0.9963 - val_loss: 0.1541 - val_acc: 0.9000\n",
      "Epoch 33/50\n",
      "270/270 [==============================] - 0s 131us/step - loss: 0.0489 - acc: 0.9963 - val_loss: 0.1340 - val_acc: 0.9333\n",
      "Epoch 34/50\n",
      "270/270 [==============================] - 0s 156us/step - loss: 0.0494 - acc: 0.9963 - val_loss: 0.0682 - val_acc: 1.0000\n",
      "Epoch 35/50\n",
      "270/270 [==============================] - 0s 143us/step - loss: 0.0505 - acc: 0.9963 - val_loss: 0.0845 - val_acc: 1.0000\n",
      "Epoch 36/50\n",
      "270/270 [==============================] - 0s 129us/step - loss: 0.0420 - acc: 0.9963 - val_loss: 0.1280 - val_acc: 0.9333\n",
      "Epoch 37/50\n",
      "270/270 [==============================] - 0s 137us/step - loss: 0.0382 - acc: 0.9963 - val_loss: 0.0816 - val_acc: 1.0000\n",
      "Epoch 38/50\n",
      "270/270 [==============================] - 0s 157us/step - loss: 0.0393 - acc: 0.9963 - val_loss: 0.0773 - val_acc: 1.0000\n",
      "Epoch 39/50\n",
      "270/270 [==============================] - 0s 156us/step - loss: 0.0350 - acc: 1.0000 - val_loss: 0.1647 - val_acc: 0.9000\n",
      "Epoch 40/50\n",
      "270/270 [==============================] - 0s 126us/step - loss: 0.0362 - acc: 0.9963 - val_loss: 0.1324 - val_acc: 0.9333\n",
      "Epoch 41/50\n",
      "270/270 [==============================] - 0s 113us/step - loss: 0.0351 - acc: 0.9963 - val_loss: 0.0547 - val_acc: 1.0000\n",
      "Epoch 42/50\n",
      "270/270 [==============================] - 0s 127us/step - loss: 0.0354 - acc: 1.0000 - val_loss: 0.0898 - val_acc: 0.9667\n",
      "Epoch 43/50\n",
      "270/270 [==============================] - 0s 156us/step - loss: 0.0312 - acc: 1.0000 - val_loss: 0.1176 - val_acc: 0.9667\n",
      "Epoch 44/50\n",
      "270/270 [==============================] - 0s 176us/step - loss: 0.0305 - acc: 0.9963 - val_loss: 0.1083 - val_acc: 0.9667\n",
      "Epoch 45/50\n",
      "270/270 [==============================] - 0s 146us/step - loss: 0.0293 - acc: 0.9963 - val_loss: 0.0639 - val_acc: 1.0000\n",
      "Epoch 46/50\n",
      "270/270 [==============================] - 0s 201us/step - loss: 0.0276 - acc: 1.0000 - val_loss: 0.1050 - val_acc: 0.9667\n",
      "Epoch 47/50\n",
      "270/270 [==============================] - 0s 318us/step - loss: 0.0266 - acc: 1.0000 - val_loss: 0.0730 - val_acc: 1.0000\n",
      "Epoch 48/50\n",
      "270/270 [==============================] - 0s 222us/step - loss: 0.0260 - acc: 0.9963 - val_loss: 0.0844 - val_acc: 1.0000\n",
      "Epoch 49/50\n",
      "270/270 [==============================] - 0s 203us/step - loss: 0.0254 - acc: 0.9963 - val_loss: 0.0626 - val_acc: 1.0000\n",
      "Epoch 50/50\n",
      "270/270 [==============================] - 0s 190us/step - loss: 0.0257 - acc: 1.0000 - val_loss: 0.0572 - val_acc: 1.0000\n"
     ]
    },
    {
     "data": {
      "text/plain": [
       "<keras.callbacks.History at 0xb1d87b5f8>"
      ]
     },
     "execution_count": 27,
     "metadata": {},
     "output_type": "execute_result"
    }
   ],
   "source": [
    "#Training the model\n",
    "modelAdam.fit(X_train, Y_train, batch_size=32, epochs=50, validation_split=0.1)"
   ]
  },
  {
   "cell_type": "markdown",
   "metadata": {},
   "source": [
    "Checking results using Adam Optimizer"
   ]
  },
  {
   "cell_type": "code",
   "execution_count": 28,
   "metadata": {},
   "outputs": [
    {
     "data": {
      "text/plain": [
       "array([[0., 1., 0.]], dtype=float32)"
      ]
     },
     "execution_count": 28,
     "metadata": {},
     "output_type": "execute_result"
    }
   ],
   "source": [
    "#On a disk shape\n",
    "X_test = generate_a_disk()\n",
    "X_test = X_test.reshape(1, X_test.shape[0])\n",
    "\n",
    "prediction = modelAdam.predict(X_test) \n",
    "prediction"
   ]
  },
  {
   "cell_type": "code",
   "execution_count": 29,
   "metadata": {},
   "outputs": [
    {
     "data": {
      "text/plain": [
       "array([[1., 0., 0.]], dtype=float32)"
      ]
     },
     "execution_count": 29,
     "metadata": {},
     "output_type": "execute_result"
    }
   ],
   "source": [
    "#On a rectangle shape\n",
    "X_test = generate_a_rectangle()\n",
    "X_test = X_test.reshape(1, X_test.shape[0])\n",
    "\n",
    "prediction = modelAdam.predict(X_test) #generate predicted Y\n",
    "prediction"
   ]
  },
  {
   "cell_type": "code",
   "execution_count": 30,
   "metadata": {},
   "outputs": [
    {
     "data": {
      "text/plain": [
       "array([[0., 0., 1.]], dtype=float32)"
      ]
     },
     "execution_count": 30,
     "metadata": {},
     "output_type": "execute_result"
    }
   ],
   "source": [
    "#On a triangle shape\n",
    "X_test,_ = generate_a_triangle()\n",
    "X_test = X_test.reshape(1, X_test.shape[0])\n",
    "\n",
    "prediction = modelAdam.predict(X_test) #generate predicted Y\n",
    "prediction"
   ]
  },
  {
   "cell_type": "markdown",
   "metadata": {},
   "source": [
    "Comments:\n",
    "\n",
    "Using the Relu parameter, none of the two optimizers seems to be able to get past a 0.1 and 0.4 accuracy score threshold, respectively for SGd and Adam optimizer. Switching to a Softmax parameter, it seems like only the Adam optimizers performs very well as it reaches an accuracy score of 1 at the 34th epoch. However, the SGD classifier seems to remain stuck at a local minima of 0.667 accuracy score. A potential solution here for SGD could be to shuffle the training set before each epoch. "
   ]
  },
  {
   "cell_type": "markdown",
   "metadata": {},
   "source": [
    "II. Visualization Weights of the Linear Classifiers"
   ]
  },
  {
   "cell_type": "code",
   "execution_count": 31,
   "metadata": {},
   "outputs": [],
   "source": [
    "#Importing packages\n",
    "import matplotlib.pyplot as plt\n",
    "import matplotlib.cm as cm \n",
    "%matplotlib inline"
   ]
  },
  {
   "cell_type": "markdown",
   "metadata": {},
   "source": [
    "SGD"
   ]
  },
  {
   "cell_type": "code",
   "execution_count": 34,
   "metadata": {},
   "outputs": [
    {
     "data": {
      "image/png": "[encoded data removed]",
      "text/plain": [
       "<Figure size 432x288 with 1 Axes>"
      ]
     },
     "metadata": {},
     "output_type": "display_data"
    },
    {
     "data": {
      "image/png": "[encoded data removed]",
      "text/plain": [
       "<Figure size 432x288 with 1 Axes>"
      ]
     },
     "metadata": {},
     "output_type": "display_data"
    },
    {
     "data": {
      "image/png": "[encoded data removed]",
      "text/plain": [
       "<Figure size 432x288 with 1 Axes>"
      ]
     },
     "metadata": {},
     "output_type": "display_data"
    }
   ],
   "source": [
    "w = modelSGD.get_weights()\n",
    "\n",
    "#Rectangle\n",
    "plt.title('First Column Results for Rectangle Shapes')\n",
    "plt.imshow(w[:,0].reshape(IMAGE_SIZE,IMAGE_SIZE), cmap='ocean')\n",
    "plt.show()\n",
    "\n",
    "\n",
    "#Disk\n",
    "plt.title('Second Column Results for Disk Shapes')\n",
    "plt.imshow(w[:,1].reshape(IMAGE_SIZE,IMAGE_SIZE), cmap='ocean')\n",
    "plt.show()\n",
    "\n",
    "\n",
    "#Triangle\n",
    "plt.title('Third Column Results for Triangle Shapes')\n",
    "plt.imshow(w[:,2].reshape(IMAGE_SIZE,IMAGE_SIZE), cmap='ocean')\n",
    "plt.show()\n"
   ]
  },
  {
   "cell_type": "markdown",
   "metadata": {},
   "source": [
    "These unprecise results (mainly for rectangle and triangle shapes) are unsurprisingly disappointing given our SGD classifier has failed to perform well on the training set. "
   ]
  },
  {
   "cell_type": "markdown",
   "metadata": {},
   "source": [
    "Adam Optimizer"
   ]
  },
  {
   "cell_type": "code",
   "execution_count": 38,
   "metadata": {},
   "outputs": [
    {
     "data": {
      "image/png": "[encoded data removed]",
      "text/plain": [
       "<Figure size 432x288 with 1 Axes>"
      ]
     },
     "metadata": {},
     "output_type": "display_data"
    },
    {
     "data": {
      "image/png": "[encoded data removed]",
      "text/plain": [
       "<Figure size 432x288 with 1 Axes>"
      ]
     },
     "metadata": {},
     "output_type": "display_data"
    },
    {
     "data": {
      "image/png": "[encoded data removed]",
      "text/plain": [
       "<Figure size 432x288 with 1 Axes>"
      ]
     },
     "metadata": {},
     "output_type": "display_data"
    }
   ],
   "source": [
    "w = modelAdam.get_weights()[0]\n",
    "\n",
    "#Rectangle\n",
    "plt.title('First Column Results for Rectangle Shapes')\n",
    "plt.imshow(w[:,0].reshape(IMAGE_SIZE,IMAGE_SIZE), cmap='ocean')\n",
    "plt.show()\n",
    "\n",
    "\n",
    "#Disk\n",
    "plt.title('Second Column Results for Disk Shapes')\n",
    "plt.imshow(w[:,1].reshape(IMAGE_SIZE,IMAGE_SIZE), cmap='ocean')\n",
    "plt.show()\n",
    "\n",
    "\n",
    "#Triangle\n",
    "plt.title('Third Column Results for Triangle Shapes')\n",
    "plt.imshow(w[:,2].reshape(IMAGE_SIZE,IMAGE_SIZE), cmap='ocean')\n",
    "plt.show()"
   ]
  },
  {
   "cell_type": "markdown",
   "metadata": {},
   "source": [
    "Comments\n",
    "\n",
    "Visualising the 3 classes shows that the model identifies rectangle shapes by finding the shades around the corners. It recognizes triangle when these corners are not to be found at the top but present at the bottom; and similarly, it classifies shapes as disks when these corners are absent but there points where the shape touches the defined frame at the diameter. "
   ]
  },
  {
   "cell_type": "markdown",
   "metadata": {},
   "source": [
    "III. A more difficult classification problem"
   ]
  },
  {
   "cell_type": "markdown",
   "metadata": {},
   "source": [
    "We retrain the same two linear classifiers as before on the new training set. Let us test their performance on the test set. "
   ]
  },
  {
   "cell_type": "code",
   "execution_count": 39,
   "metadata": {},
   "outputs": [
    {
     "name": "stdout",
     "output_type": "stream",
     "text": [
      "Creating data:\n",
      "0\n",
      "10\n",
      "20\n",
      "30\n",
      "40\n",
      "50\n",
      "60\n",
      "70\n",
      "80\n",
      "90\n",
      "100\n",
      "110\n",
      "120\n",
      "130\n",
      "140\n",
      "150\n",
      "160\n",
      "170\n",
      "180\n",
      "190\n",
      "200\n",
      "210\n",
      "220\n",
      "230\n",
      "240\n",
      "250\n",
      "260\n",
      "270\n",
      "280\n",
      "290\n",
      "Creating data:\n",
      "0\n",
      "10\n",
      "20\n",
      "30\n",
      "40\n",
      "50\n",
      "60\n",
      "70\n",
      "80\n",
      "90\n",
      "100\n",
      "110\n",
      "120\n",
      "130\n",
      "140\n",
      "150\n",
      "160\n",
      "170\n",
      "180\n",
      "190\n",
      "200\n",
      "210\n",
      "220\n",
      "230\n",
      "240\n",
      "250\n",
      "260\n",
      "270\n",
      "280\n",
      "290\n"
     ]
    }
   ],
   "source": [
    "#Generating dataset\n",
    "[X_train, Y_train] = generate_dataset_classification(300, 20, True)\n",
    "Y_train = np_utils.to_categorical(Y_train)\n",
    "\n",
    "#Generating tests set\n",
    "[X_test, Y_test] = generate_test_set_classification()"
   ]
  },
  {
   "cell_type": "markdown",
   "metadata": {},
   "source": [
    "3.1. Evaluating SGD"
   ]
  },
  {
   "cell_type": "code",
   "execution_count": 40,
   "metadata": {},
   "outputs": [
    {
     "name": "stdout",
     "output_type": "stream",
     "text": [
      "Train on 270 samples, validate on 30 samples\n",
      "Epoch 1/100\n",
      "270/270 [==============================] - 0s 1ms/step - loss: 8.0148 - acc: 0.3333 - val_loss: 8.9228 - val_acc: 0.1667\n",
      "Epoch 2/100\n",
      "270/270 [==============================] - 0s 168us/step - loss: 10.2840 - acc: 0.3333 - val_loss: 13.4317 - val_acc: 0.1667\n",
      "Epoch 3/100\n",
      "270/270 [==============================] - 0s 131us/step - loss: 10.6260 - acc: 0.3407 - val_loss: 13.4317 - val_acc: 0.1667\n",
      "Epoch 4/100\n",
      "270/270 [==============================] - 0s 121us/step - loss: 10.6260 - acc: 0.3407 - val_loss: 13.4317 - val_acc: 0.1667\n",
      "Epoch 5/100\n",
      "270/270 [==============================] - 0s 102us/step - loss: 10.6260 - acc: 0.3407 - val_loss: 13.4317 - val_acc: 0.1667\n",
      "Epoch 6/100\n",
      "270/270 [==============================] - 0s 119us/step - loss: 10.6260 - acc: 0.3407 - val_loss: 13.4317 - val_acc: 0.1667\n",
      "Epoch 7/100\n",
      "270/270 [==============================] - 0s 128us/step - loss: 10.6260 - acc: 0.3407 - val_loss: 13.4317 - val_acc: 0.1667\n",
      "Epoch 8/100\n",
      "270/270 [==============================] - 0s 151us/step - loss: 10.6260 - acc: 0.3407 - val_loss: 13.4317 - val_acc: 0.1667\n",
      "Epoch 9/100\n",
      "270/270 [==============================] - 0s 115us/step - loss: 10.6260 - acc: 0.3407 - val_loss: 13.4317 - val_acc: 0.1667\n",
      "Epoch 10/100\n",
      "270/270 [==============================] - 0s 136us/step - loss: 10.6260 - acc: 0.3407 - val_loss: 13.4317 - val_acc: 0.1667\n",
      "Epoch 11/100\n",
      "270/270 [==============================] - 0s 139us/step - loss: 10.6260 - acc: 0.3407 - val_loss: 13.4317 - val_acc: 0.1667\n",
      "Epoch 12/100\n",
      "270/270 [==============================] - 0s 144us/step - loss: 10.6260 - acc: 0.3407 - val_loss: 13.4317 - val_acc: 0.1667\n",
      "Epoch 13/100\n",
      "270/270 [==============================] - 0s 136us/step - loss: 10.6260 - acc: 0.3407 - val_loss: 13.4317 - val_acc: 0.1667\n",
      "Epoch 14/100\n",
      "270/270 [==============================] - 0s 127us/step - loss: 10.6260 - acc: 0.3407 - val_loss: 13.4317 - val_acc: 0.1667\n",
      "Epoch 15/100\n",
      "270/270 [==============================] - 0s 139us/step - loss: 10.6260 - acc: 0.3407 - val_loss: 13.4317 - val_acc: 0.1667\n",
      "Epoch 16/100\n",
      "270/270 [==============================] - 0s 150us/step - loss: 10.6260 - acc: 0.3407 - val_loss: 13.4317 - val_acc: 0.1667\n",
      "Epoch 17/100\n",
      "270/270 [==============================] - 0s 124us/step - loss: 10.6260 - acc: 0.3407 - val_loss: 13.4317 - val_acc: 0.1667\n",
      "Epoch 18/100\n",
      "270/270 [==============================] - 0s 111us/step - loss: 10.6260 - acc: 0.3407 - val_loss: 13.4317 - val_acc: 0.1667\n",
      "Epoch 19/100\n",
      "270/270 [==============================] - 0s 122us/step - loss: 10.6260 - acc: 0.3407 - val_loss: 13.4317 - val_acc: 0.1667\n",
      "Epoch 20/100\n",
      "270/270 [==============================] - 0s 133us/step - loss: 10.6260 - acc: 0.3407 - val_loss: 13.4317 - val_acc: 0.1667\n",
      "Epoch 21/100\n",
      "270/270 [==============================] - 0s 134us/step - loss: 10.6260 - acc: 0.3407 - val_loss: 13.4317 - val_acc: 0.1667\n",
      "Epoch 22/100\n",
      "270/270 [==============================] - 0s 112us/step - loss: 10.6260 - acc: 0.3407 - val_loss: 13.4317 - val_acc: 0.1667\n",
      "Epoch 23/100\n",
      "270/270 [==============================] - 0s 115us/step - loss: 10.6260 - acc: 0.3407 - val_loss: 13.4317 - val_acc: 0.1667\n",
      "Epoch 24/100\n",
      "270/270 [==============================] - 0s 119us/step - loss: 10.6260 - acc: 0.3407 - val_loss: 13.4317 - val_acc: 0.1667\n",
      "Epoch 25/100\n",
      "270/270 [==============================] - 0s 137us/step - loss: 10.6260 - acc: 0.3407 - val_loss: 13.4317 - val_acc: 0.1667\n",
      "Epoch 26/100\n",
      "270/270 [==============================] - 0s 133us/step - loss: 10.6260 - acc: 0.3407 - val_loss: 13.4317 - val_acc: 0.1667\n",
      "Epoch 27/100\n",
      "270/270 [==============================] - 0s 124us/step - loss: 10.6260 - acc: 0.3407 - val_loss: 13.4317 - val_acc: 0.1667\n",
      "Epoch 28/100\n",
      "270/270 [==============================] - 0s 134us/step - loss: 10.6260 - acc: 0.3407 - val_loss: 13.4317 - val_acc: 0.1667\n",
      "Epoch 29/100\n",
      "270/270 [==============================] - 0s 149us/step - loss: 10.6260 - acc: 0.3407 - val_loss: 13.4317 - val_acc: 0.1667\n",
      "Epoch 30/100\n",
      "270/270 [==============================] - 0s 122us/step - loss: 10.6260 - acc: 0.3407 - val_loss: 13.4317 - val_acc: 0.1667\n",
      "Epoch 31/100\n",
      "270/270 [==============================] - 0s 136us/step - loss: 10.6260 - acc: 0.3407 - val_loss: 13.4317 - val_acc: 0.1667\n",
      "Epoch 32/100\n",
      "270/270 [==============================] - 0s 134us/step - loss: 10.6260 - acc: 0.3407 - val_loss: 13.4317 - val_acc: 0.1667\n",
      "Epoch 33/100\n",
      "270/270 [==============================] - 0s 114us/step - loss: 10.6260 - acc: 0.3407 - val_loss: 13.4317 - val_acc: 0.1667\n",
      "Epoch 34/100\n",
      "270/270 [==============================] - 0s 114us/step - loss: 10.6260 - acc: 0.3407 - val_loss: 13.4317 - val_acc: 0.1667\n",
      "Epoch 35/100\n",
      "270/270 [==============================] - 0s 141us/step - loss: 10.6260 - acc: 0.3407 - val_loss: 13.4317 - val_acc: 0.1667\n",
      "Epoch 36/100\n",
      "270/270 [==============================] - 0s 123us/step - loss: 10.6260 - acc: 0.3407 - val_loss: 13.4317 - val_acc: 0.1667\n",
      "Epoch 37/100\n",
      "270/270 [==============================] - 0s 125us/step - loss: 10.6260 - acc: 0.3407 - val_loss: 13.4317 - val_acc: 0.1667\n",
      "Epoch 38/100\n",
      "270/270 [==============================] - 0s 125us/step - loss: 10.6260 - acc: 0.3407 - val_loss: 13.4317 - val_acc: 0.1667\n",
      "Epoch 39/100\n",
      "270/270 [==============================] - 0s 156us/step - loss: 10.6260 - acc: 0.3407 - val_loss: 13.4317 - val_acc: 0.1667\n",
      "Epoch 40/100\n",
      "270/270 [==============================] - 0s 147us/step - loss: 10.6260 - acc: 0.3407 - val_loss: 13.4317 - val_acc: 0.1667\n",
      "Epoch 41/100\n",
      "270/270 [==============================] - 0s 129us/step - loss: 10.6260 - acc: 0.3407 - val_loss: 13.4317 - val_acc: 0.1667\n",
      "Epoch 42/100\n",
      "270/270 [==============================] - 0s 137us/step - loss: 10.6260 - acc: 0.3407 - val_loss: 13.4317 - val_acc: 0.1667\n",
      "Epoch 43/100\n",
      "270/270 [==============================] - 0s 226us/step - loss: 10.6260 - acc: 0.3407 - val_loss: 13.4317 - val_acc: 0.1667\n",
      "Epoch 44/100\n",
      "270/270 [==============================] - 0s 224us/step - loss: 10.6260 - acc: 0.3407 - val_loss: 13.4317 - val_acc: 0.1667\n",
      "Epoch 45/100\n",
      "270/270 [==============================] - 0s 178us/step - loss: 10.6260 - acc: 0.3407 - val_loss: 13.4317 - val_acc: 0.1667\n",
      "Epoch 46/100\n",
      "270/270 [==============================] - 0s 176us/step - loss: 10.6260 - acc: 0.3407 - val_loss: 13.4317 - val_acc: 0.1667\n",
      "Epoch 47/100\n",
      "270/270 [==============================] - 0s 176us/step - loss: 10.6260 - acc: 0.3407 - val_loss: 13.4317 - val_acc: 0.1667\n",
      "Epoch 48/100\n",
      "270/270 [==============================] - 0s 176us/step - loss: 10.6260 - acc: 0.3407 - val_loss: 13.4317 - val_acc: 0.1667\n",
      "Epoch 49/100\n",
      "270/270 [==============================] - 0s 162us/step - loss: 10.6260 - acc: 0.3407 - val_loss: 13.4317 - val_acc: 0.1667\n",
      "Epoch 50/100\n",
      "270/270 [==============================] - 0s 166us/step - loss: 10.6260 - acc: 0.3407 - val_loss: 13.4317 - val_acc: 0.1667\n",
      "Epoch 51/100\n",
      "270/270 [==============================] - 0s 132us/step - loss: 10.6260 - acc: 0.3407 - val_loss: 13.4317 - val_acc: 0.1667\n",
      "Epoch 52/100\n",
      "270/270 [==============================] - 0s 121us/step - loss: 10.6260 - acc: 0.3407 - val_loss: 13.4317 - val_acc: 0.1667\n",
      "Epoch 53/100\n",
      "270/270 [==============================] - 0s 138us/step - loss: 10.6260 - acc: 0.3407 - val_loss: 13.4317 - val_acc: 0.1667\n",
      "Epoch 54/100\n",
      "270/270 [==============================] - 0s 167us/step - loss: 10.6260 - acc: 0.3407 - val_loss: 13.4317 - val_acc: 0.1667\n",
      "Epoch 55/100\n",
      "270/270 [==============================] - 0s 148us/step - loss: 10.6260 - acc: 0.3407 - val_loss: 13.4317 - val_acc: 0.1667\n",
      "Epoch 56/100\n",
      "270/270 [==============================] - 0s 143us/step - loss: 10.6260 - acc: 0.3407 - val_loss: 13.4317 - val_acc: 0.1667\n",
      "Epoch 57/100\n",
      "270/270 [==============================] - 0s 121us/step - loss: 10.6260 - acc: 0.3407 - val_loss: 13.4317 - val_acc: 0.1667\n",
      "Epoch 58/100\n",
      "270/270 [==============================] - 0s 118us/step - loss: 10.6260 - acc: 0.3407 - val_loss: 13.4317 - val_acc: 0.1667\n",
      "Epoch 59/100\n",
      "270/270 [==============================] - 0s 204us/step - loss: 10.6260 - acc: 0.3407 - val_loss: 13.4317 - val_acc: 0.1667\n",
      "Epoch 60/100\n",
      "270/270 [==============================] - 0s 172us/step - loss: 10.6260 - acc: 0.3407 - val_loss: 13.4317 - val_acc: 0.1667\n",
      "Epoch 61/100\n",
      "270/270 [==============================] - 0s 226us/step - loss: 10.6260 - acc: 0.3407 - val_loss: 13.4317 - val_acc: 0.1667\n",
      "Epoch 62/100\n",
      "270/270 [==============================] - 0s 186us/step - loss: 10.6260 - acc: 0.3407 - val_loss: 13.4317 - val_acc: 0.1667\n",
      "Epoch 63/100\n",
      "270/270 [==============================] - 0s 166us/step - loss: 10.6260 - acc: 0.3407 - val_loss: 13.4317 - val_acc: 0.1667\n",
      "Epoch 64/100\n",
      "270/270 [==============================] - 0s 158us/step - loss: 10.6260 - acc: 0.3407 - val_loss: 13.4317 - val_acc: 0.1667\n",
      "Epoch 65/100\n",
      "270/270 [==============================] - 0s 148us/step - loss: 10.6260 - acc: 0.3407 - val_loss: 13.4317 - val_acc: 0.1667\n",
      "Epoch 66/100\n",
      "270/270 [==============================] - 0s 161us/step - loss: 10.6260 - acc: 0.3407 - val_loss: 13.4317 - val_acc: 0.1667\n",
      "Epoch 67/100\n",
      "270/270 [==============================] - 0s 219us/step - loss: 10.6260 - acc: 0.3407 - val_loss: 13.4317 - val_acc: 0.1667\n",
      "Epoch 68/100\n",
      "270/270 [==============================] - 0s 173us/step - loss: 10.6260 - acc: 0.3407 - val_loss: 13.4317 - val_acc: 0.1667\n",
      "Epoch 69/100\n",
      "270/270 [==============================] - 0s 120us/step - loss: 10.6260 - acc: 0.3407 - val_loss: 13.4317 - val_acc: 0.1667\n",
      "Epoch 70/100\n",
      "270/270 [==============================] - 0s 126us/step - loss: 10.6260 - acc: 0.3407 - val_loss: 13.4317 - val_acc: 0.1667\n",
      "Epoch 71/100\n",
      "270/270 [==============================] - 0s 135us/step - loss: 10.6260 - acc: 0.3407 - val_loss: 13.4317 - val_acc: 0.1667\n",
      "Epoch 72/100\n",
      "270/270 [==============================] - 0s 181us/step - loss: 10.6260 - acc: 0.3407 - val_loss: 13.4317 - val_acc: 0.1667\n",
      "Epoch 73/100\n",
      "270/270 [==============================] - 0s 233us/step - loss: 10.6260 - acc: 0.3407 - val_loss: 13.4317 - val_acc: 0.1667\n",
      "Epoch 74/100\n",
      "270/270 [==============================] - 0s 215us/step - loss: 10.6260 - acc: 0.3407 - val_loss: 13.4317 - val_acc: 0.1667\n",
      "Epoch 75/100\n",
      "270/270 [==============================] - 0s 144us/step - loss: 10.6260 - acc: 0.3407 - val_loss: 13.4317 - val_acc: 0.1667\n",
      "Epoch 76/100\n",
      "270/270 [==============================] - 0s 116us/step - loss: 10.6260 - acc: 0.3407 - val_loss: 13.4317 - val_acc: 0.1667\n",
      "Epoch 77/100\n",
      "270/270 [==============================] - 0s 137us/step - loss: 10.6260 - acc: 0.3407 - val_loss: 13.4317 - val_acc: 0.1667\n",
      "Epoch 78/100\n",
      "270/270 [==============================] - 0s 128us/step - loss: 10.6260 - acc: 0.3407 - val_loss: 13.4317 - val_acc: 0.1667\n",
      "Epoch 79/100\n",
      "270/270 [==============================] - 0s 120us/step - loss: 10.6260 - acc: 0.3407 - val_loss: 13.4317 - val_acc: 0.1667\n",
      "Epoch 80/100\n",
      "270/270 [==============================] - 0s 121us/step - loss: 10.6260 - acc: 0.3407 - val_loss: 13.4317 - val_acc: 0.1667\n",
      "Epoch 81/100\n",
      "270/270 [==============================] - 0s 125us/step - loss: 10.6260 - acc: 0.3407 - val_loss: 13.4317 - val_acc: 0.1667\n",
      "Epoch 82/100\n",
      "270/270 [==============================] - 0s 127us/step - loss: 10.6260 - acc: 0.3407 - val_loss: 13.4317 - val_acc: 0.1667\n",
      "Epoch 83/100\n",
      "270/270 [==============================] - 0s 132us/step - loss: 10.6260 - acc: 0.3407 - val_loss: 13.4317 - val_acc: 0.1667\n",
      "Epoch 84/100\n",
      "270/270 [==============================] - 0s 115us/step - loss: 10.6260 - acc: 0.3407 - val_loss: 13.4317 - val_acc: 0.1667\n",
      "Epoch 85/100\n",
      "270/270 [==============================] - 0s 115us/step - loss: 10.6260 - acc: 0.3407 - val_loss: 13.4317 - val_acc: 0.1667\n",
      "Epoch 86/100\n",
      "270/270 [==============================] - 0s 140us/step - loss: 10.6260 - acc: 0.3407 - val_loss: 13.4317 - val_acc: 0.1667\n",
      "Epoch 87/100\n",
      "270/270 [==============================] - 0s 134us/step - loss: 10.6260 - acc: 0.3407 - val_loss: 13.4317 - val_acc: 0.1667\n",
      "Epoch 88/100\n",
      "270/270 [==============================] - 0s 112us/step - loss: 10.6260 - acc: 0.3407 - val_loss: 13.4317 - val_acc: 0.1667\n",
      "Epoch 89/100\n",
      "270/270 [==============================] - 0s 120us/step - loss: 10.6260 - acc: 0.3407 - val_loss: 13.4317 - val_acc: 0.1667\n",
      "Epoch 90/100\n",
      "270/270 [==============================] - 0s 131us/step - loss: 10.6260 - acc: 0.3407 - val_loss: 13.4317 - val_acc: 0.1667\n",
      "Epoch 91/100\n",
      "270/270 [==============================] - 0s 136us/step - loss: 10.6260 - acc: 0.3407 - val_loss: 13.4317 - val_acc: 0.1667\n",
      "Epoch 92/100\n",
      "270/270 [==============================] - 0s 130us/step - loss: 10.6260 - acc: 0.3407 - val_loss: 13.4317 - val_acc: 0.1667\n",
      "Epoch 93/100\n",
      "270/270 [==============================] - 0s 110us/step - loss: 10.6260 - acc: 0.3407 - val_loss: 13.4317 - val_acc: 0.1667\n",
      "Epoch 94/100\n",
      "270/270 [==============================] - 0s 120us/step - loss: 10.6260 - acc: 0.3407 - val_loss: 13.4317 - val_acc: 0.1667\n",
      "Epoch 95/100\n",
      "270/270 [==============================] - 0s 114us/step - loss: 10.6260 - acc: 0.3407 - val_loss: 13.4317 - val_acc: 0.1667\n",
      "Epoch 96/100\n",
      "270/270 [==============================] - 0s 148us/step - loss: 10.6260 - acc: 0.3407 - val_loss: 13.4317 - val_acc: 0.1667\n",
      "Epoch 97/100\n",
      "270/270 [==============================] - 0s 126us/step - loss: 10.6260 - acc: 0.3407 - val_loss: 13.4317 - val_acc: 0.1667\n",
      "Epoch 98/100\n",
      "270/270 [==============================] - 0s 122us/step - loss: 10.6260 - acc: 0.3407 - val_loss: 13.4317 - val_acc: 0.1667\n",
      "Epoch 99/100\n",
      "270/270 [==============================] - 0s 115us/step - loss: 10.6260 - acc: 0.3407 - val_loss: 13.4317 - val_acc: 0.1667\n",
      "Epoch 100/100\n",
      "270/270 [==============================] - 0s 136us/step - loss: 10.6260 - acc: 0.3407 - val_loss: 13.4317 - val_acc: 0.1667\n"
     ]
    },
    {
     "data": {
      "text/plain": [
       "<keras.callbacks.History at 0xb297a1438>"
      ]
     },
     "execution_count": 40,
     "metadata": {},
     "output_type": "execute_result"
    }
   ],
   "source": [
    "#Defining the model\n",
    "modelSGD = Sequential()\n",
    "classes = 3\n",
    "\n",
    "modelSGD.add(Dense(classes, input_dim=X_train.shape[1]))\n",
    "modelSGD.add(Activation(tf.nn.softmax))\n",
    "\n",
    "#Building the model\n",
    "modelSGD.compile(optimizer='sgd',loss='categorical_crossentropy', metrics=['accuracy'])\n",
    "\n",
    "#Training the model\n",
    "modelSGD.fit(X_train, Y_train, epochs=100, batch_size=32, validation_split=0.1)"
   ]
  },
  {
   "cell_type": "code",
   "execution_count": 41,
   "metadata": {},
   "outputs": [
    {
     "name": "stdout",
     "output_type": "stream",
     "text": [
      "300/300 [==============================] - 0s 85us/step\n"
     ]
    },
    {
     "data": {
      "text/plain": [
       "'Loss : 10.637942924499512, Accuracy : 0.34000000009934106'"
      ]
     },
     "execution_count": 41,
     "metadata": {},
     "output_type": "execute_result"
    }
   ],
   "source": [
    "#Evaluating SGD on this test set\n",
    "\"Loss : {}, Accuracy : {}\".format(*modelSGD.evaluate(X_test, Y_test))"
   ]
  },
  {
   "cell_type": "markdown",
   "metadata": {},
   "source": [
    "3.2. Evaluating Adam Optimizer"
   ]
  },
  {
   "cell_type": "code",
   "execution_count": 42,
   "metadata": {},
   "outputs": [
    {
     "name": "stdout",
     "output_type": "stream",
     "text": [
      "Train on 270 samples, validate on 30 samples\n",
      "Epoch 1/100\n",
      "270/270 [==============================] - 0s 1ms/step - loss: 2.3343 - acc: 0.3444 - val_loss: 1.2683 - val_acc: 0.4667\n",
      "Epoch 2/100\n",
      "270/270 [==============================] - 0s 136us/step - loss: 1.4580 - acc: 0.3778 - val_loss: 1.6915 - val_acc: 0.2667\n",
      "Epoch 3/100\n",
      "270/270 [==============================] - 0s 158us/step - loss: 1.2355 - acc: 0.4407 - val_loss: 1.4467 - val_acc: 0.2667\n",
      "Epoch 4/100\n",
      "270/270 [==============================] - 0s 158us/step - loss: 1.1365 - acc: 0.4259 - val_loss: 0.9767 - val_acc: 0.5333\n",
      "Epoch 5/100\n",
      "270/270 [==============================] - 0s 140us/step - loss: 0.9545 - acc: 0.4593 - val_loss: 0.8097 - val_acc: 0.6333\n",
      "Epoch 6/100\n",
      "270/270 [==============================] - 0s 204us/step - loss: 0.9217 - acc: 0.5259 - val_loss: 0.8659 - val_acc: 0.5333\n",
      "Epoch 7/100\n",
      "270/270 [==============================] - 0s 154us/step - loss: 0.9560 - acc: 0.4852 - val_loss: 0.7865 - val_acc: 0.7333\n",
      "Epoch 8/100\n",
      "270/270 [==============================] - 0s 253us/step - loss: 0.8631 - acc: 0.5519 - val_loss: 0.6720 - val_acc: 0.8333\n",
      "Epoch 9/100\n",
      "270/270 [==============================] - 0s 168us/step - loss: 0.8791 - acc: 0.5889 - val_loss: 0.6661 - val_acc: 0.8000\n",
      "Epoch 10/100\n",
      "270/270 [==============================] - 0s 158us/step - loss: 0.9492 - acc: 0.5593 - val_loss: 0.7250 - val_acc: 0.6000\n",
      "Epoch 11/100\n",
      "270/270 [==============================] - 0s 142us/step - loss: 0.8555 - acc: 0.5741 - val_loss: 1.0006 - val_acc: 0.5333\n",
      "Epoch 12/100\n",
      "270/270 [==============================] - 0s 119us/step - loss: 0.8357 - acc: 0.6000 - val_loss: 0.6460 - val_acc: 0.8333\n",
      "Epoch 13/100\n",
      "270/270 [==============================] - 0s 161us/step - loss: 0.7668 - acc: 0.6444 - val_loss: 0.6935 - val_acc: 0.8000\n",
      "Epoch 14/100\n",
      "270/270 [==============================] - 0s 115us/step - loss: 0.8309 - acc: 0.5630 - val_loss: 0.7441 - val_acc: 0.7667\n",
      "Epoch 15/100\n",
      "270/270 [==============================] - 0s 132us/step - loss: 0.8417 - acc: 0.5667 - val_loss: 0.8766 - val_acc: 0.5667\n",
      "Epoch 16/100\n",
      "270/270 [==============================] - 0s 145us/step - loss: 0.7343 - acc: 0.6630 - val_loss: 0.6424 - val_acc: 0.7000\n",
      "Epoch 17/100\n",
      "270/270 [==============================] - 0s 143us/step - loss: 0.7295 - acc: 0.6556 - val_loss: 0.6519 - val_acc: 0.8000\n",
      "Epoch 18/100\n",
      "270/270 [==============================] - 0s 142us/step - loss: 0.6953 - acc: 0.6667 - val_loss: 0.5855 - val_acc: 0.8000\n",
      "Epoch 19/100\n",
      "270/270 [==============================] - 0s 170us/step - loss: 0.7781 - acc: 0.6259 - val_loss: 0.8419 - val_acc: 0.5667\n",
      "Epoch 20/100\n",
      "270/270 [==============================] - 0s 154us/step - loss: 0.7560 - acc: 0.6296 - val_loss: 0.6589 - val_acc: 0.8000\n",
      "Epoch 21/100\n",
      "270/270 [==============================] - 0s 137us/step - loss: 0.7457 - acc: 0.6481 - val_loss: 0.5991 - val_acc: 0.8333\n",
      "Epoch 22/100\n",
      "270/270 [==============================] - 0s 176us/step - loss: 0.7437 - acc: 0.6370 - val_loss: 0.6335 - val_acc: 0.8000\n",
      "Epoch 23/100\n",
      "270/270 [==============================] - 0s 231us/step - loss: 0.6648 - acc: 0.7111 - val_loss: 0.6317 - val_acc: 0.7333\n",
      "Epoch 24/100\n",
      "270/270 [==============================] - 0s 183us/step - loss: 0.7219 - acc: 0.6444 - val_loss: 0.8981 - val_acc: 0.5667\n",
      "Epoch 25/100\n",
      "270/270 [==============================] - 0s 196us/step - loss: 0.7349 - acc: 0.6222 - val_loss: 0.6364 - val_acc: 0.7667\n",
      "Epoch 26/100\n",
      "270/270 [==============================] - 0s 154us/step - loss: 0.7595 - acc: 0.6889 - val_loss: 0.6702 - val_acc: 0.8000\n",
      "Epoch 27/100\n",
      "270/270 [==============================] - 0s 164us/step - loss: 0.8122 - acc: 0.6370 - val_loss: 0.6127 - val_acc: 0.8667\n",
      "Epoch 28/100\n",
      "270/270 [==============================] - 0s 170us/step - loss: 0.8195 - acc: 0.6148 - val_loss: 1.2447 - val_acc: 0.4333\n",
      "Epoch 29/100\n",
      "270/270 [==============================] - 0s 186us/step - loss: 0.8298 - acc: 0.5852 - val_loss: 0.5760 - val_acc: 0.8000\n",
      "Epoch 30/100\n",
      "270/270 [==============================] - 0s 196us/step - loss: 0.7202 - acc: 0.6519 - val_loss: 0.5677 - val_acc: 0.8000\n",
      "Epoch 31/100\n",
      "270/270 [==============================] - 0s 181us/step - loss: 0.6268 - acc: 0.7148 - val_loss: 0.6177 - val_acc: 0.7667\n",
      "Epoch 32/100\n",
      "270/270 [==============================] - 0s 183us/step - loss: 0.6866 - acc: 0.6667 - val_loss: 0.7984 - val_acc: 0.6000\n",
      "Epoch 33/100\n",
      "270/270 [==============================] - 0s 167us/step - loss: 0.6729 - acc: 0.7148 - val_loss: 0.6050 - val_acc: 0.7333\n",
      "Epoch 34/100\n",
      "270/270 [==============================] - 0s 192us/step - loss: 0.6779 - acc: 0.7037 - val_loss: 0.6392 - val_acc: 0.6667\n",
      "Epoch 35/100\n",
      "270/270 [==============================] - 0s 191us/step - loss: 0.6129 - acc: 0.7333 - val_loss: 0.6121 - val_acc: 0.8000\n",
      "Epoch 36/100\n",
      "270/270 [==============================] - 0s 133us/step - loss: 0.6925 - acc: 0.6296 - val_loss: 1.0941 - val_acc: 0.5000\n",
      "Epoch 37/100\n",
      "270/270 [==============================] - 0s 140us/step - loss: 0.7251 - acc: 0.6556 - val_loss: 0.8131 - val_acc: 0.5667\n",
      "Epoch 38/100\n",
      "270/270 [==============================] - 0s 142us/step - loss: 0.6117 - acc: 0.7407 - val_loss: 0.6351 - val_acc: 0.6667\n",
      "Epoch 39/100\n",
      "270/270 [==============================] - 0s 165us/step - loss: 0.5840 - acc: 0.7407 - val_loss: 0.6643 - val_acc: 0.6667\n",
      "Epoch 40/100\n",
      "270/270 [==============================] - 0s 167us/step - loss: 0.6172 - acc: 0.7556 - val_loss: 0.6386 - val_acc: 0.7667\n",
      "Epoch 41/100\n",
      "270/270 [==============================] - 0s 143us/step - loss: 0.6637 - acc: 0.6926 - val_loss: 0.6833 - val_acc: 0.6667\n",
      "Epoch 42/100\n",
      "270/270 [==============================] - 0s 130us/step - loss: 0.5877 - acc: 0.7667 - val_loss: 0.6446 - val_acc: 0.7000\n",
      "Epoch 43/100\n",
      "270/270 [==============================] - 0s 132us/step - loss: 0.6486 - acc: 0.6963 - val_loss: 0.5634 - val_acc: 0.8000\n",
      "Epoch 44/100\n",
      "270/270 [==============================] - 0s 200us/step - loss: 0.6497 - acc: 0.6778 - val_loss: 0.7090 - val_acc: 0.6667\n",
      "Epoch 45/100\n",
      "270/270 [==============================] - 0s 177us/step - loss: 0.6530 - acc: 0.6519 - val_loss: 0.6302 - val_acc: 0.7000\n",
      "Epoch 46/100\n",
      "270/270 [==============================] - 0s 161us/step - loss: 0.5917 - acc: 0.7111 - val_loss: 0.6336 - val_acc: 0.7333\n",
      "Epoch 47/100\n",
      "270/270 [==============================] - 0s 190us/step - loss: 0.5564 - acc: 0.7741 - val_loss: 0.8013 - val_acc: 0.6333\n",
      "Epoch 48/100\n",
      "270/270 [==============================] - 0s 165us/step - loss: 0.5769 - acc: 0.7778 - val_loss: 0.6068 - val_acc: 0.7333\n",
      "Epoch 49/100\n",
      "270/270 [==============================] - 0s 158us/step - loss: 0.5525 - acc: 0.7556 - val_loss: 0.6598 - val_acc: 0.8000\n",
      "Epoch 50/100\n",
      "270/270 [==============================] - 0s 157us/step - loss: 0.6576 - acc: 0.7407 - val_loss: 0.6227 - val_acc: 0.8333\n",
      "Epoch 51/100\n",
      "270/270 [==============================] - 0s 162us/step - loss: 0.7050 - acc: 0.6741 - val_loss: 0.5803 - val_acc: 0.7667\n",
      "Epoch 52/100\n",
      "270/270 [==============================] - 0s 232us/step - loss: 0.5550 - acc: 0.7630 - val_loss: 0.8373 - val_acc: 0.6000\n",
      "Epoch 53/100\n",
      "270/270 [==============================] - 0s 187us/step - loss: 0.6114 - acc: 0.6963 - val_loss: 0.6053 - val_acc: 0.8000\n",
      "Epoch 54/100\n",
      "270/270 [==============================] - 0s 148us/step - loss: 0.9497 - acc: 0.5926 - val_loss: 0.6951 - val_acc: 0.8000\n",
      "Epoch 55/100\n",
      "270/270 [==============================] - 0s 149us/step - loss: 0.8898 - acc: 0.6222 - val_loss: 0.5944 - val_acc: 0.7667\n",
      "Epoch 56/100\n",
      "270/270 [==============================] - 0s 143us/step - loss: 0.6595 - acc: 0.7074 - val_loss: 0.9739 - val_acc: 0.6000\n",
      "Epoch 57/100\n",
      "270/270 [==============================] - 0s 169us/step - loss: 0.5368 - acc: 0.7667 - val_loss: 0.5637 - val_acc: 0.7667\n",
      "Epoch 58/100\n",
      "270/270 [==============================] - 0s 196us/step - loss: 0.5013 - acc: 0.7667 - val_loss: 0.6282 - val_acc: 0.8000\n",
      "Epoch 59/100\n",
      "270/270 [==============================] - 0s 166us/step - loss: 0.5344 - acc: 0.7333 - val_loss: 0.7869 - val_acc: 0.6333\n",
      "Epoch 60/100\n",
      "270/270 [==============================] - 0s 148us/step - loss: 0.5570 - acc: 0.7593 - val_loss: 0.9405 - val_acc: 0.5667\n",
      "Epoch 61/100\n",
      "270/270 [==============================] - 0s 148us/step - loss: 0.5743 - acc: 0.6963 - val_loss: 0.6085 - val_acc: 0.7667\n",
      "Epoch 62/100\n",
      "270/270 [==============================] - 0s 202us/step - loss: 0.5679 - acc: 0.7111 - val_loss: 0.7412 - val_acc: 0.6333\n",
      "Epoch 63/100\n",
      "270/270 [==============================] - 0s 264us/step - loss: 0.5170 - acc: 0.7444 - val_loss: 0.6114 - val_acc: 0.7333\n",
      "Epoch 64/100\n",
      "270/270 [==============================] - 0s 184us/step - loss: 0.4709 - acc: 0.8148 - val_loss: 0.6211 - val_acc: 0.7000\n",
      "Epoch 65/100\n",
      "270/270 [==============================] - 0s 167us/step - loss: 0.5222 - acc: 0.7519 - val_loss: 0.6550 - val_acc: 0.8000\n",
      "Epoch 66/100\n",
      "270/270 [==============================] - 0s 166us/step - loss: 0.6573 - acc: 0.6667 - val_loss: 0.7347 - val_acc: 0.6667\n",
      "Epoch 67/100\n",
      "270/270 [==============================] - 0s 150us/step - loss: 0.7587 - acc: 0.7111 - val_loss: 0.9826 - val_acc: 0.6333\n",
      "Epoch 68/100\n",
      "270/270 [==============================] - 0s 143us/step - loss: 0.5021 - acc: 0.7815 - val_loss: 0.8126 - val_acc: 0.7000\n",
      "Epoch 69/100\n",
      "270/270 [==============================] - 0s 140us/step - loss: 0.5018 - acc: 0.7926 - val_loss: 0.6070 - val_acc: 0.7333\n",
      "Epoch 70/100\n",
      "270/270 [==============================] - 0s 162us/step - loss: 0.5518 - acc: 0.7444 - val_loss: 0.6637 - val_acc: 0.8000\n",
      "Epoch 71/100\n",
      "270/270 [==============================] - 0s 145us/step - loss: 0.5235 - acc: 0.7296 - val_loss: 0.8080 - val_acc: 0.6000\n",
      "Epoch 72/100\n",
      "270/270 [==============================] - 0s 159us/step - loss: 0.5361 - acc: 0.7370 - val_loss: 0.7510 - val_acc: 0.6333\n",
      "Epoch 73/100\n",
      "270/270 [==============================] - 0s 203us/step - loss: 0.4897 - acc: 0.8148 - val_loss: 0.6099 - val_acc: 0.8333\n",
      "Epoch 74/100\n",
      "270/270 [==============================] - 0s 222us/step - loss: 0.5348 - acc: 0.7667 - val_loss: 0.6611 - val_acc: 0.7000\n",
      "Epoch 75/100\n",
      "270/270 [==============================] - 0s 231us/step - loss: 0.4756 - acc: 0.7852 - val_loss: 0.9187 - val_acc: 0.6333\n",
      "Epoch 76/100\n",
      "270/270 [==============================] - 0s 169us/step - loss: 0.7276 - acc: 0.6556 - val_loss: 1.0489 - val_acc: 0.6000\n",
      "Epoch 77/100\n",
      "270/270 [==============================] - 0s 170us/step - loss: 0.8052 - acc: 0.6593 - val_loss: 0.5762 - val_acc: 0.7667\n",
      "Epoch 78/100\n",
      "270/270 [==============================] - 0s 169us/step - loss: 0.8129 - acc: 0.6519 - val_loss: 0.6265 - val_acc: 0.8000\n",
      "Epoch 79/100\n",
      "270/270 [==============================] - 0s 169us/step - loss: 0.7633 - acc: 0.6296 - val_loss: 0.5950 - val_acc: 0.8333\n",
      "Epoch 80/100\n",
      "270/270 [==============================] - 0s 197us/step - loss: 0.5504 - acc: 0.7593 - val_loss: 0.7561 - val_acc: 0.7000\n",
      "Epoch 81/100\n",
      "270/270 [==============================] - 0s 204us/step - loss: 0.4417 - acc: 0.8185 - val_loss: 0.6560 - val_acc: 0.7333\n",
      "Epoch 82/100\n",
      "270/270 [==============================] - 0s 178us/step - loss: 0.4724 - acc: 0.7778 - val_loss: 0.6474 - val_acc: 0.7667\n",
      "Epoch 83/100\n",
      "270/270 [==============================] - 0s 168us/step - loss: 0.5650 - acc: 0.7259 - val_loss: 0.7974 - val_acc: 0.6333\n",
      "Epoch 84/100\n",
      "270/270 [==============================] - 0s 137us/step - loss: 0.4455 - acc: 0.8556 - val_loss: 0.6984 - val_acc: 0.7333\n",
      "Epoch 85/100\n",
      "270/270 [==============================] - 0s 172us/step - loss: 0.5140 - acc: 0.7481 - val_loss: 0.7444 - val_acc: 0.8000\n",
      "Epoch 86/100\n",
      "270/270 [==============================] - 0s 193us/step - loss: 0.6558 - acc: 0.7000 - val_loss: 0.8172 - val_acc: 0.8000\n",
      "Epoch 87/100\n",
      "270/270 [==============================] - 0s 137us/step - loss: 0.7390 - acc: 0.6741 - val_loss: 0.7503 - val_acc: 0.6667\n",
      "Epoch 88/100\n",
      "270/270 [==============================] - 0s 137us/step - loss: 0.4648 - acc: 0.8074 - val_loss: 0.6497 - val_acc: 0.7333\n",
      "Epoch 89/100\n",
      "270/270 [==============================] - 0s 176us/step - loss: 0.4270 - acc: 0.8370 - val_loss: 0.6172 - val_acc: 0.7333\n",
      "Epoch 90/100\n",
      "270/270 [==============================] - 0s 182us/step - loss: 0.4078 - acc: 0.8593 - val_loss: 0.6476 - val_acc: 0.7667\n",
      "Epoch 91/100\n",
      "270/270 [==============================] - 0s 154us/step - loss: 0.4133 - acc: 0.8630 - val_loss: 0.6619 - val_acc: 0.7333\n",
      "Epoch 92/100\n",
      "270/270 [==============================] - 0s 165us/step - loss: 0.4226 - acc: 0.8556 - val_loss: 0.5552 - val_acc: 0.8000\n",
      "Epoch 93/100\n",
      "270/270 [==============================] - 0s 185us/step - loss: 0.4278 - acc: 0.8222 - val_loss: 0.5690 - val_acc: 0.8000\n",
      "Epoch 94/100\n",
      "270/270 [==============================] - 0s 153us/step - loss: 0.4174 - acc: 0.8259 - val_loss: 0.5606 - val_acc: 0.8667\n",
      "Epoch 95/100\n",
      "270/270 [==============================] - 0s 143us/step - loss: 0.4150 - acc: 0.8296 - val_loss: 0.6006 - val_acc: 0.7667\n",
      "Epoch 96/100\n",
      "270/270 [==============================] - 0s 194us/step - loss: 0.4166 - acc: 0.8333 - val_loss: 0.6863 - val_acc: 0.7000\n",
      "Epoch 97/100\n",
      "270/270 [==============================] - 0s 168us/step - loss: 0.3836 - acc: 0.8815 - val_loss: 0.6069 - val_acc: 0.7333\n",
      "Epoch 98/100\n",
      "270/270 [==============================] - 0s 212us/step - loss: 0.3925 - acc: 0.8667 - val_loss: 0.5604 - val_acc: 0.8000\n",
      "Epoch 99/100\n",
      "270/270 [==============================] - 0s 253us/step - loss: 0.4098 - acc: 0.8407 - val_loss: 0.8509 - val_acc: 0.6667\n",
      "Epoch 100/100\n",
      "270/270 [==============================] - 0s 250us/step - loss: 0.4790 - acc: 0.7852 - val_loss: 0.6312 - val_acc: 0.7667\n"
     ]
    },
    {
     "data": {
      "text/plain": [
       "<keras.callbacks.History at 0xb29b64898>"
      ]
     },
     "execution_count": 42,
     "metadata": {},
     "output_type": "execute_result"
    }
   ],
   "source": [
    "#Defining the model\n",
    "modelAdam = Sequential()\n",
    "classes = 3\n",
    "\n",
    "modelAdam.add(Dense(classes, input_dim=X_train.shape[1]))\n",
    "modelAdam.add(Activation(tf.nn.softmax))\n",
    "\n",
    "#Building the model\n",
    "modelAdam.compile(optimizer='adam',loss='categorical_crossentropy', metrics=['accuracy'])\n",
    "\n",
    "#Training the model\n",
    "modelAdam.fit(X_train, Y_train, epochs=100, batch_size=32, validation_split=0.1)"
   ]
  },
  {
   "cell_type": "code",
   "execution_count": 43,
   "metadata": {},
   "outputs": [
    {
     "name": "stdout",
     "output_type": "stream",
     "text": [
      "300/300 [==============================] - 0s 87us/step\n"
     ]
    },
    {
     "data": {
      "text/plain": [
       "'Loss : 0.9157685931523641, Accuracy : 0.5433333333333333'"
      ]
     },
     "execution_count": 43,
     "metadata": {},
     "output_type": "execute_result"
    }
   ],
   "source": [
    "#Evaluating Adam Optimizer on this test set\n",
    "\"Loss : {}, Accuracy : {}\".format(*modelAdam.evaluate(X_test, Y_test))"
   ]
  },
  {
   "cell_type": "markdown",
   "metadata": {},
   "source": [
    "Comments\n",
    "\n",
    "The accuracy is lower than section 1 for both optimizers - 0.34 with SGD and 0.543 with Adam Optimizer, for the training data shapes are allowed to move within the image and change dimensions, thus calling for a more advanced classifier as we attempt below."
   ]
  },
  {
   "cell_type": "markdown",
   "metadata": {},
   "source": [
    "3.3. Training a Convolutional Deep Network"
   ]
  },
  {
   "cell_type": "markdown",
   "metadata": {},
   "source": [
    "We here build a Convolutional Deep Network on the new dataset, using three pooling layers size options: (1,1); (2,2) and (3,3). Training size was also increased incremently, since I realized the more the better as much for accuracy increase as for overfitting reduction. "
   ]
  },
  {
   "cell_type": "code",
   "execution_count": 52,
   "metadata": {},
   "outputs": [],
   "source": [
    "#Importing packages\n",
    "from keras.layers import Conv2D, MaxPooling2D, Flatten, Dropout"
   ]
  },
  {
   "cell_type": "code",
   "execution_count": 60,
   "metadata": {},
   "outputs": [
    {
     "name": "stdout",
     "output_type": "stream",
     "text": [
      "Creating data:\n",
      "0\n",
      "10\n",
      "20\n",
      "30\n",
      "40\n",
      "50\n",
      "60\n",
      "70\n",
      "80\n",
      "90\n",
      "100\n",
      "110\n",
      "120\n",
      "130\n",
      "140\n",
      "150\n",
      "160\n",
      "170\n",
      "180\n",
      "190\n",
      "200\n",
      "210\n",
      "220\n",
      "230\n",
      "240\n",
      "250\n",
      "260\n",
      "270\n",
      "280\n",
      "290\n",
      "300\n",
      "310\n",
      "320\n",
      "330\n",
      "340\n",
      "350\n",
      "360\n",
      "370\n",
      "380\n",
      "390\n",
      "400\n",
      "410\n",
      "420\n",
      "430\n",
      "440\n",
      "450\n",
      "460\n",
      "470\n",
      "480\n",
      "490\n",
      "500\n",
      "510\n",
      "520\n",
      "530\n",
      "540\n",
      "550\n",
      "560\n",
      "570\n",
      "580\n",
      "590\n",
      "600\n",
      "610\n",
      "620\n",
      "630\n",
      "640\n",
      "650\n",
      "660\n",
      "670\n",
      "680\n",
      "690\n",
      "700\n",
      "710\n",
      "720\n",
      "730\n",
      "740\n",
      "750\n",
      "760\n",
      "770\n",
      "780\n",
      "790\n",
      "Creating data:\n",
      "0\n",
      "10\n",
      "20\n",
      "30\n",
      "40\n",
      "50\n",
      "60\n",
      "70\n",
      "80\n",
      "90\n",
      "100\n",
      "110\n",
      "120\n",
      "130\n",
      "140\n",
      "150\n",
      "160\n",
      "170\n",
      "180\n",
      "190\n",
      "200\n",
      "210\n",
      "220\n",
      "230\n",
      "240\n",
      "250\n",
      "260\n",
      "270\n",
      "280\n",
      "290\n"
     ]
    }
   ],
   "source": [
    "#Generating dataset\n",
    "[X_train, Y_train] = generate_dataset_classification(800, 20, True)\n",
    "Y_train = np_utils.to_categorical(Y_train)\n",
    "X_train = X_train.reshape((-1,72,72,1))\n",
    "classes=3\n",
    "#Generating tests set\n",
    "[X_test, Y_test] = generate_test_set_classification()\n",
    "X_test = X_test.reshape((-1,72,72,1))"
   ]
  },
  {
   "cell_type": "markdown",
   "metadata": {},
   "source": [
    "3.3.1. 1 Pooling Layer"
   ]
  },
  {
   "cell_type": "code",
   "execution_count": 53,
   "metadata": {},
   "outputs": [],
   "source": [
    "#Defining the model\n",
    "modelCDN=Sequential()\n",
    "modelCDN.add(Conv2D(16, kernel_size=(5,5), input_shape=(72,72,1,), activation='relu'))\n",
    "modelCDN.add(MaxPooling2D(pool_size=(1,1)))\n",
    "modelCDN.add(Flatten())\n",
    "modelCDN.add(Dropout(0.3))\n",
    "modelCDN.add(Dense(classes, activation= tf.nn.softmax))"
   ]
  },
  {
   "cell_type": "code",
   "execution_count": 55,
   "metadata": {},
   "outputs": [
    {
     "name": "stdout",
     "output_type": "stream",
     "text": [
      "Epoch 1/10\n",
      "800/800 [==============================] - 5s 6ms/step - loss: 6.4951 - acc: 0.3650\n",
      "Epoch 2/10\n",
      "800/800 [==============================] - 4s 5ms/step - loss: 1.7383 - acc: 0.6013\n",
      "Epoch 3/10\n",
      "800/800 [==============================] - 4s 5ms/step - loss: 0.6909 - acc: 0.7413\n",
      "Epoch 4/10\n",
      "800/800 [==============================] - 4s 5ms/step - loss: 0.5943 - acc: 0.7863\n",
      "Epoch 5/10\n",
      "800/800 [==============================] - 4s 6ms/step - loss: 0.5052 - acc: 0.8387\n",
      "Epoch 6/10\n",
      "800/800 [==============================] - 4s 6ms/step - loss: 0.4287 - acc: 0.8562\n",
      "Epoch 7/10\n",
      "800/800 [==============================] - 4s 6ms/step - loss: 0.3735 - acc: 0.8912\n",
      "Epoch 8/10\n",
      "800/800 [==============================] - 5s 6ms/step - loss: 0.3367 - acc: 0.9062\n",
      "Epoch 9/10\n",
      "800/800 [==============================] - 5s 6ms/step - loss: 0.3089 - acc: 0.9200\n",
      "Epoch 10/10\n",
      "800/800 [==============================] - 5s 7ms/step - loss: 0.2589 - acc: 0.9475\n"
     ]
    },
    {
     "data": {
      "text/plain": [
       "<keras.callbacks.History at 0xb34da62b0>"
      ]
     },
     "execution_count": 55,
     "metadata": {},
     "output_type": "execute_result"
    }
   ],
   "source": [
    "#Building the model - We use the Adam Optimizer since it performs better than the SGD as shown above\n",
    "modelCDN.compile(loss='categorical_crossentropy', optimizer='adam', metrics=['accuracy']) \n",
    "modelCDN.fit(X_train,Y_train,epochs=10, batch_size=32)"
   ]
  },
  {
   "cell_type": "code",
   "execution_count": 61,
   "metadata": {},
   "outputs": [
    {
     "name": "stdout",
     "output_type": "stream",
     "text": [
      "300/300 [==============================] - 1s 3ms/step\n"
     ]
    },
    {
     "data": {
      "text/plain": [
       "'Loss : 0.7442662445704142, Accuracy : 0.7199999992052714'"
      ]
     },
     "execution_count": 61,
     "metadata": {},
     "output_type": "execute_result"
    }
   ],
   "source": [
    "#Evaluating the model\n",
    "evaluation = modelCDN.evaluate(X_test, Y_test)\n",
    "\"Loss : {}, Accuracy : {}\".format(*evaluation)"
   ]
  },
  {
   "cell_type": "markdown",
   "metadata": {},
   "source": [
    "3.3.2. 2 Pooling Layers"
   ]
  },
  {
   "cell_type": "code",
   "execution_count": 64,
   "metadata": {},
   "outputs": [],
   "source": [
    "#Defining the model\n",
    "modelCDN2 = Sequential()\n",
    "modelCDN2.add(Conv2D(16, kernel_size=(5,5), input_shape=(72,72,1), activation='relu'))\n",
    "modelCDN2.add(MaxPooling2D(pool_size=(2,2)))\n",
    "modelCDN2.add(Flatten())\n",
    "modelCDN2.add(Dropout(0.3))\n",
    "modelCDN2.add(Dense(classes, activation= tf.nn.softmax))"
   ]
  },
  {
   "cell_type": "code",
   "execution_count": 67,
   "metadata": {},
   "outputs": [
    {
     "name": "stdout",
     "output_type": "stream",
     "text": [
      "Epoch 1/10\n",
      "800/800 [==============================] - 4s 5ms/step - loss: 0.0116 - acc: 1.0000\n",
      "Epoch 2/10\n",
      "800/800 [==============================] - 3s 4ms/step - loss: 0.0065 - acc: 1.0000\n",
      "Epoch 3/10\n",
      "800/800 [==============================] - 4s 5ms/step - loss: 0.0078 - acc: 1.0000\n",
      "Epoch 4/10\n",
      "800/800 [==============================] - 3s 4ms/step - loss: 0.0051 - acc: 1.0000\n",
      "Epoch 5/10\n",
      "800/800 [==============================] - 4s 5ms/step - loss: 0.0058 - acc: 0.9988\n",
      "Epoch 6/10\n",
      "800/800 [==============================] - 4s 5ms/step - loss: 0.0050 - acc: 1.0000\n",
      "Epoch 7/10\n",
      "800/800 [==============================] - 4s 4ms/step - loss: 0.0035 - acc: 1.0000\n",
      "Epoch 8/10\n",
      "800/800 [==============================] - 4s 5ms/step - loss: 0.0030 - acc: 1.0000\n",
      "Epoch 9/10\n",
      "800/800 [==============================] - 4s 5ms/step - loss: 0.0027 - acc: 1.0000\n",
      "Epoch 10/10\n",
      "800/800 [==============================] - 4s 5ms/step - loss: 0.0040 - acc: 1.0000\n"
     ]
    },
    {
     "data": {
      "text/plain": [
       "<keras.callbacks.History at 0xb33af89b0>"
      ]
     },
     "execution_count": 67,
     "metadata": {},
     "output_type": "execute_result"
    }
   ],
   "source": [
    "#Building the model\n",
    "modelCDN2.compile(loss='categorical_crossentropy', optimizer='adam', metrics=['accuracy']) \n",
    "modelCDN2.fit(X_train,Y_train,epochs=10, batch_size=32)"
   ]
  },
  {
   "cell_type": "code",
   "execution_count": 68,
   "metadata": {},
   "outputs": [
    {
     "name": "stdout",
     "output_type": "stream",
     "text": [
      "300/300 [==============================] - 1s 3ms/step\n"
     ]
    },
    {
     "data": {
      "text/plain": [
       "'Loss : 0.31294408003489177, Accuracy : 0.8999999992052714'"
      ]
     },
     "execution_count": 68,
     "metadata": {},
     "output_type": "execute_result"
    }
   ],
   "source": [
    "#Evaluating the model\n",
    "evaluation = modelCDN2.evaluate(X_test, Y_test)\n",
    "\"Loss : {}, Accuracy : {}\".format(*evaluation)"
   ]
  },
  {
   "cell_type": "markdown",
   "metadata": {},
   "source": [
    "3.3.3. 3 Pooling Layers"
   ]
  },
  {
   "cell_type": "code",
   "execution_count": 69,
   "metadata": {},
   "outputs": [],
   "source": [
    "#Defining the model\n",
    "modelCDN3 = Sequential()\n",
    "modelCDN3.add(Conv2D(16, kernel_size=(5,5), input_shape=(72,72,1), activation='relu'))\n",
    "modelCDN3.add(MaxPooling2D(pool_size=(3,3)))\n",
    "modelCDN3.add(Flatten())\n",
    "modelCDN3.add(Dropout(0.3))\n",
    "modelCDN3.add(Dense(classes, activation= tf.nn.softmax))"
   ]
  },
  {
   "cell_type": "code",
   "execution_count": 70,
   "metadata": {},
   "outputs": [
    {
     "name": "stdout",
     "output_type": "stream",
     "text": [
      "Epoch 1/10\n",
      "800/800 [==============================] - 4s 5ms/step - loss: 1.0695 - acc: 0.4450\n",
      "Epoch 2/10\n",
      "800/800 [==============================] - 3s 4ms/step - loss: 0.8739 - acc: 0.6663\n",
      "Epoch 3/10\n",
      "800/800 [==============================] - 3s 4ms/step - loss: 0.7865 - acc: 0.6750\n",
      "Epoch 4/10\n",
      "800/800 [==============================] - 3s 4ms/step - loss: 0.6949 - acc: 0.7600\n",
      "Epoch 5/10\n",
      "800/800 [==============================] - 3s 4ms/step - loss: 0.6569 - acc: 0.7475\n",
      "Epoch 6/10\n",
      "800/800 [==============================] - 3s 4ms/step - loss: 0.5964 - acc: 0.7937\n",
      "Epoch 7/10\n",
      "800/800 [==============================] - 3s 4ms/step - loss: 0.5791 - acc: 0.7900\n",
      "Epoch 8/10\n",
      "800/800 [==============================] - 3s 4ms/step - loss: 0.5545 - acc: 0.8050\n",
      "Epoch 9/10\n",
      "800/800 [==============================] - 3s 4ms/step - loss: 0.5250 - acc: 0.8250\n",
      "Epoch 10/10\n",
      "800/800 [==============================] - 3s 4ms/step - loss: 0.5061 - acc: 0.8212\n"
     ]
    },
    {
     "data": {
      "text/plain": [
       "<keras.callbacks.History at 0xb2468f7f0>"
      ]
     },
     "execution_count": 70,
     "metadata": {},
     "output_type": "execute_result"
    }
   ],
   "source": [
    "#Building the model\n",
    "modelCDN3.compile(loss='categorical_crossentropy', optimizer='adam', metrics=['accuracy']) \n",
    "modelCDN3.fit(X_train,Y_train,epochs=10, batch_size=32)"
   ]
  },
  {
   "cell_type": "code",
   "execution_count": 71,
   "metadata": {},
   "outputs": [
    {
     "name": "stdout",
     "output_type": "stream",
     "text": [
      "300/300 [==============================] - 1s 3ms/step\n"
     ]
    },
    {
     "data": {
      "text/plain": [
       "'Loss : 0.6102469436327617, Accuracy : 0.7399999992052714'"
      ]
     },
     "execution_count": 71,
     "metadata": {},
     "output_type": "execute_result"
    }
   ],
   "source": [
    "#Evaluating the model\n",
    "evaluation = modelCDN3.evaluate(X_test, Y_test)\n",
    "\"Loss : {}, Accuracy : {}\".format(*evaluation)"
   ]
  },
  {
   "cell_type": "markdown",
   "metadata": {},
   "source": [
    "We can clearly see how this model not only fits the data much better, but also how increasing the pool size has lead to a much faster and much more accurate prediciton for pool size (2,2) - from 0.71 accuracy to 0.89; yet too much increase has a downfall e.g. pool size (3,3) made the accuracy drop back to 0.73."
   ]
  },
  {
   "cell_type": "markdown",
   "metadata": {},
   "source": [
    "IV. Regression Problem"
   ]
  },
  {
   "cell_type": "markdown",
   "metadata": {},
   "source": [
    "Let us now run a regression to predict the image locations of the vertices of a triangle, given an image of this triangle."
   ]
  },
  {
   "cell_type": "markdown",
   "metadata": {},
   "source": [
    "4.1. Generating and visualising the data"
   ]
  },
  {
   "cell_type": "code",
   "execution_count": 76,
   "metadata": {},
   "outputs": [
    {
     "name": "stdout",
     "output_type": "stream",
     "text": [
      "Creating data:\n",
      "0\n",
      "10\n",
      "20\n",
      "30\n",
      "40\n",
      "50\n",
      "60\n",
      "70\n",
      "80\n",
      "90\n",
      "100\n",
      "110\n",
      "120\n",
      "130\n",
      "140\n",
      "150\n",
      "160\n",
      "170\n",
      "180\n",
      "190\n",
      "200\n",
      "210\n",
      "220\n",
      "230\n",
      "240\n",
      "250\n",
      "260\n",
      "270\n",
      "280\n",
      "290\n",
      "300\n",
      "310\n",
      "320\n",
      "330\n",
      "340\n",
      "350\n",
      "360\n",
      "370\n",
      "380\n",
      "390\n",
      "400\n",
      "410\n",
      "420\n",
      "430\n",
      "440\n",
      "450\n",
      "460\n",
      "470\n",
      "480\n",
      "490\n",
      "500\n",
      "510\n",
      "520\n",
      "530\n",
      "540\n",
      "550\n",
      "560\n",
      "570\n",
      "580\n",
      "590\n",
      "600\n",
      "610\n",
      "620\n",
      "630\n",
      "640\n",
      "650\n",
      "660\n",
      "670\n",
      "680\n",
      "690\n",
      "700\n",
      "710\n",
      "720\n",
      "730\n",
      "740\n",
      "750\n",
      "760\n",
      "770\n",
      "780\n",
      "790\n",
      "Creating data:\n",
      "0\n",
      "10\n",
      "20\n",
      "30\n",
      "40\n",
      "50\n",
      "60\n",
      "70\n",
      "80\n",
      "90\n",
      "100\n",
      "110\n",
      "120\n",
      "130\n",
      "140\n",
      "150\n",
      "160\n",
      "170\n",
      "180\n",
      "190\n",
      "200\n",
      "210\n",
      "220\n",
      "230\n",
      "240\n",
      "250\n",
      "260\n",
      "270\n",
      "280\n",
      "290\n"
     ]
    }
   ],
   "source": [
    "#Generating training set\n",
    "[X_train, Y_train] = generate_dataset_regression(800, 20)\n",
    "\n",
    "#Generating test set\n",
    "[X_test, Y_test] = generate_test_set_regression()"
   ]
  },
  {
   "cell_type": "code",
   "execution_count": 77,
   "metadata": {},
   "outputs": [
    {
     "data": {
      "image/png": "[encoded data removed]",
      "text/plain": [
       "<Figure size 360x360 with 1 Axes>"
      ]
     },
     "metadata": {},
     "output_type": "display_data"
    }
   ],
   "source": [
    "visualize_prediction(X_train[0], Y_train[0])"
   ]
  },
  {
   "cell_type": "markdown",
   "metadata": {},
   "source": [
    "4.2. Regression"
   ]
  },
  {
   "cell_type": "code",
   "execution_count": 78,
   "metadata": {},
   "outputs": [],
   "source": [
    "#Normalising Y_train and Y_test, using the Sklearn library\n",
    "from sklearn import preprocessing\n",
    "y_train= preprocessing.normalize(Y_train)\n",
    "y_test = preprocessing.normalize(Y_test)"
   ]
  },
  {
   "cell_type": "code",
   "execution_count": 79,
   "metadata": {},
   "outputs": [],
   "source": [
    "#Building Simple Linear Regression Model\n",
    "modelreg = Sequential()\n",
    "modelreg.add(Dense(6,input_shape=(X_train.shape[1],)))"
   ]
  },
  {
   "cell_type": "code",
   "execution_count": 80,
   "metadata": {},
   "outputs": [
    {
     "name": "stdout",
     "output_type": "stream",
     "text": [
      "Train on 800 samples, validate on 300 samples\n",
      "Epoch 1/50\n",
      "800/800 [==============================] - 1s 1ms/step - loss: 2.4461 - acc: 0.1975 - val_loss: 0.7293 - val_acc: 0.1867\n",
      "Epoch 2/50\n",
      "800/800 [==============================] - 0s 193us/step - loss: 0.2527 - acc: 0.1675 - val_loss: 0.1130 - val_acc: 0.1833\n",
      "Epoch 3/50\n",
      "800/800 [==============================] - 0s 182us/step - loss: 0.1039 - acc: 0.1988 - val_loss: 0.0774 - val_acc: 0.2033\n",
      "Epoch 4/50\n",
      "800/800 [==============================] - 0s 186us/step - loss: 0.0864 - acc: 0.1875 - val_loss: 0.0855 - val_acc: 0.2100\n",
      "Epoch 5/50\n",
      "800/800 [==============================] - 0s 178us/step - loss: 0.0743 - acc: 0.1875 - val_loss: 0.0745 - val_acc: 0.1533\n",
      "Epoch 6/50\n",
      "800/800 [==============================] - 0s 175us/step - loss: 0.0692 - acc: 0.2025 - val_loss: 0.0732 - val_acc: 0.2067\n",
      "Epoch 7/50\n",
      "800/800 [==============================] - 0s 174us/step - loss: 0.0706 - acc: 0.2025 - val_loss: 0.0644 - val_acc: 0.2133\n",
      "Epoch 8/50\n",
      "800/800 [==============================] - 0s 172us/step - loss: 0.0661 - acc: 0.2075 - val_loss: 0.0740 - val_acc: 0.2133\n",
      "Epoch 9/50\n",
      "800/800 [==============================] - 0s 178us/step - loss: 0.0653 - acc: 0.2075 - val_loss: 0.0690 - val_acc: 0.1733\n",
      "Epoch 10/50\n",
      "800/800 [==============================] - 0s 172us/step - loss: 0.0638 - acc: 0.2062 - val_loss: 0.0662 - val_acc: 0.2033\n",
      "Epoch 11/50\n",
      "800/800 [==============================] - 0s 179us/step - loss: 0.0673 - acc: 0.1937 - val_loss: 0.0705 - val_acc: 0.1933\n",
      "Epoch 12/50\n",
      "800/800 [==============================] - 0s 176us/step - loss: 0.0625 - acc: 0.2088 - val_loss: 0.0614 - val_acc: 0.2133\n",
      "Epoch 13/50\n",
      "800/800 [==============================] - 0s 185us/step - loss: 0.0586 - acc: 0.2112 - val_loss: 0.0602 - val_acc: 0.2000\n",
      "Epoch 14/50\n",
      "800/800 [==============================] - 0s 198us/step - loss: 0.0576 - acc: 0.2112 - val_loss: 0.0562 - val_acc: 0.2133\n",
      "Epoch 15/50\n",
      "800/800 [==============================] - 0s 291us/step - loss: 0.0537 - acc: 0.2500 - val_loss: 0.0633 - val_acc: 0.1833\n",
      "Epoch 16/50\n",
      "800/800 [==============================] - 0s 186us/step - loss: 0.0616 - acc: 0.2188 - val_loss: 0.0569 - val_acc: 0.2267\n",
      "Epoch 17/50\n",
      "800/800 [==============================] - 0s 182us/step - loss: 0.0557 - acc: 0.2050 - val_loss: 0.0669 - val_acc: 0.2300\n",
      "Epoch 18/50\n",
      "800/800 [==============================] - 0s 176us/step - loss: 0.0587 - acc: 0.2375 - val_loss: 0.0659 - val_acc: 0.2067\n",
      "Epoch 19/50\n",
      "800/800 [==============================] - 0s 181us/step - loss: 0.0675 - acc: 0.2162 - val_loss: 0.0703 - val_acc: 0.1900\n",
      "Epoch 20/50\n",
      "800/800 [==============================] - 0s 185us/step - loss: 0.0596 - acc: 0.2150 - val_loss: 0.0576 - val_acc: 0.2133\n",
      "Epoch 21/50\n",
      "800/800 [==============================] - 0s 170us/step - loss: 0.0513 - acc: 0.2350 - val_loss: 0.0563 - val_acc: 0.2333\n",
      "Epoch 22/50\n",
      "800/800 [==============================] - 0s 193us/step - loss: 0.0540 - acc: 0.2450 - val_loss: 0.0661 - val_acc: 0.2133\n",
      "Epoch 23/50\n",
      "800/800 [==============================] - 0s 196us/step - loss: 0.0616 - acc: 0.2487 - val_loss: 0.0812 - val_acc: 0.2333\n",
      "Epoch 24/50\n",
      "800/800 [==============================] - 0s 242us/step - loss: 0.0551 - acc: 0.2512 - val_loss: 0.0682 - val_acc: 0.2033\n",
      "Epoch 25/50\n",
      "800/800 [==============================] - 0s 257us/step - loss: 0.0602 - acc: 0.2088 - val_loss: 0.0794 - val_acc: 0.1967\n",
      "Epoch 26/50\n",
      "800/800 [==============================] - 0s 234us/step - loss: 0.0555 - acc: 0.2863 - val_loss: 0.0659 - val_acc: 0.1733\n",
      "Epoch 27/50\n",
      "800/800 [==============================] - 0s 243us/step - loss: 0.0514 - acc: 0.2400 - val_loss: 0.0676 - val_acc: 0.1833\n",
      "Epoch 28/50\n",
      "800/800 [==============================] - 0s 251us/step - loss: 0.0549 - acc: 0.2625 - val_loss: 0.0576 - val_acc: 0.2000\n",
      "Epoch 29/50\n",
      "800/800 [==============================] - 0s 245us/step - loss: 0.0519 - acc: 0.2500 - val_loss: 0.0535 - val_acc: 0.2300\n",
      "Epoch 30/50\n",
      "800/800 [==============================] - 0s 208us/step - loss: 0.0549 - acc: 0.2575 - val_loss: 0.0818 - val_acc: 0.1467\n",
      "Epoch 31/50\n",
      "800/800 [==============================] - 0s 177us/step - loss: 0.0549 - acc: 0.2650 - val_loss: 0.0630 - val_acc: 0.2033\n",
      "Epoch 32/50\n",
      "800/800 [==============================] - 0s 217us/step - loss: 0.0503 - acc: 0.2387 - val_loss: 0.0529 - val_acc: 0.2200\n",
      "Epoch 33/50\n",
      "800/800 [==============================] - 0s 203us/step - loss: 0.0541 - acc: 0.2650 - val_loss: 0.0826 - val_acc: 0.2300\n",
      "Epoch 34/50\n",
      "800/800 [==============================] - 0s 235us/step - loss: 0.0635 - acc: 0.2575 - val_loss: 0.1028 - val_acc: 0.2067\n",
      "Epoch 35/50\n",
      "800/800 [==============================] - 0s 209us/step - loss: 0.0574 - acc: 0.2625 - val_loss: 0.0850 - val_acc: 0.2300\n",
      "Epoch 36/50\n",
      "800/800 [==============================] - 0s 207us/step - loss: 0.0484 - acc: 0.2675 - val_loss: 0.0820 - val_acc: 0.1833\n",
      "Epoch 37/50\n",
      "800/800 [==============================] - 0s 204us/step - loss: 0.0552 - acc: 0.2600 - val_loss: 0.0723 - val_acc: 0.1800\n",
      "Epoch 38/50\n",
      "800/800 [==============================] - 0s 198us/step - loss: 0.0554 - acc: 0.2375 - val_loss: 0.0649 - val_acc: 0.2033\n",
      "Epoch 39/50\n",
      "800/800 [==============================] - 0s 207us/step - loss: 0.0537 - acc: 0.2800 - val_loss: 0.0886 - val_acc: 0.1667\n",
      "Epoch 40/50\n",
      "800/800 [==============================] - 0s 205us/step - loss: 0.0448 - acc: 0.2800 - val_loss: 0.0801 - val_acc: 0.1567\n",
      "Epoch 41/50\n",
      "800/800 [==============================] - 0s 216us/step - loss: 0.0462 - acc: 0.3112 - val_loss: 0.0813 - val_acc: 0.1933\n",
      "Epoch 42/50\n",
      "800/800 [==============================] - 0s 194us/step - loss: 0.0575 - acc: 0.2662 - val_loss: 0.0669 - val_acc: 0.2067\n",
      "Epoch 43/50\n",
      "800/800 [==============================] - 0s 186us/step - loss: 0.0618 - acc: 0.2625 - val_loss: 0.0744 - val_acc: 0.1833\n",
      "Epoch 44/50\n",
      "800/800 [==============================] - 0s 201us/step - loss: 0.0549 - acc: 0.2425 - val_loss: 0.0540 - val_acc: 0.2100\n",
      "Epoch 45/50\n",
      "800/800 [==============================] - 0s 216us/step - loss: 0.0472 - acc: 0.3025 - val_loss: 0.0753 - val_acc: 0.2267\n",
      "Epoch 46/50\n",
      "800/800 [==============================] - 0s 263us/step - loss: 0.0564 - acc: 0.2462 - val_loss: 0.1031 - val_acc: 0.2333\n",
      "Epoch 47/50\n",
      "800/800 [==============================] - 0s 207us/step - loss: 0.0481 - acc: 0.3275 - val_loss: 0.0634 - val_acc: 0.2467\n",
      "Epoch 48/50\n",
      "800/800 [==============================] - 0s 188us/step - loss: 0.0673 - acc: 0.2675 - val_loss: 0.0712 - val_acc: 0.2167\n",
      "Epoch 49/50\n",
      "800/800 [==============================] - 0s 224us/step - loss: 0.0614 - acc: 0.2550 - val_loss: 0.0874 - val_acc: 0.2100\n",
      "Epoch 50/50\n",
      "800/800 [==============================] - 0s 283us/step - loss: 0.0543 - acc: 0.2850 - val_loss: 0.0767 - val_acc: 0.2067\n"
     ]
    },
    {
     "data": {
      "text/plain": [
       "<keras.callbacks.History at 0xb352424a8>"
      ]
     },
     "execution_count": 80,
     "metadata": {},
     "output_type": "execute_result"
    }
   ],
   "source": [
    "#Running the model\n",
    "modelreg.compile(loss='mean_squared_error', optimizer='adam', metrics=['accuracy'])\n",
    "modelreg.fit(X_train, y_train, validation_data=(X_test, y_test), epochs=50, batch_size=32)"
   ]
  },
  {
   "cell_type": "code",
   "execution_count": 81,
   "metadata": {},
   "outputs": [
    {
     "name": "stdout",
     "output_type": "stream",
     "text": [
      "300/300 [==============================] - 0s 99us/step\n"
     ]
    },
    {
     "data": {
      "text/plain": [
       "[0.07669607510169348, 0.20666666686534882]"
      ]
     },
     "execution_count": 81,
     "metadata": {},
     "output_type": "execute_result"
    }
   ],
   "source": [
    "#Evaluating the model\n",
    "modelreg.evaluate(X_test, y_test)"
   ]
  },
  {
   "cell_type": "code",
   "execution_count": 82,
   "metadata": {},
   "outputs": [
    {
     "data": {
      "image/png": "[encoded data removed]",
      "text/plain": [
       "<Figure size 360x360 with 1 Axes>"
      ]
     },
     "metadata": {},
     "output_type": "display_data"
    }
   ],
   "source": [
    "#Visualising results\n",
    "y_predreg = modelreg.predict(X_test)\n",
    "visualize_prediction(X_test[100], y_predreg[100])"
   ]
  },
  {
   "cell_type": "markdown",
   "metadata": {},
   "source": [
    "As one can see, this simple linear regression model performs poorly on our dataset with only 20% accuracy and a visualy wrong pattern."
   ]
  },
  {
   "cell_type": "markdown",
   "metadata": {},
   "source": [
    "4.3. Trying out a more advanced regression model"
   ]
  },
  {
   "cell_type": "code",
   "execution_count": 83,
   "metadata": {},
   "outputs": [],
   "source": [
    "#Reshaping data\n",
    "X_train = X_train.reshape((-1, 72, 72, 1))\n",
    "X_test = X_test.reshape((-1, 72, 72, 1))"
   ]
  },
  {
   "cell_type": "code",
   "execution_count": 124,
   "metadata": {},
   "outputs": [],
   "source": [
    "from keras.layers import Conv2D, Dropout, MaxPooling2D, Reshape, BatchNormalization\n",
    "\n",
    "#Building the model\n",
    "modelreg1 =Sequential()\n",
    "\n",
    "modelreg1.add(Conv2D(16, (3, 3), activation='relu'))\n",
    "modelreg1.add(MaxPooling2D(pool_size=(2, 2)))\n",
    "modelreg1.add(Conv2D(32, (5, 5), activation='relu'))\n",
    "modelreg1.add(MaxPooling2D(pool_size=(2, 2)))\n",
    "modelreg1.add(Conv2D(100, (5, 5), activation='relu'))\n",
    "modelreg1.add(MaxPooling2D(pool_size=(2, 2)))\n",
    "modelreg1.add(Flatten())\n",
    "modelreg1.add(Dense(100, activation='relu'))\n",
    "modelreg1.add(Dense(100, activation='relu'))\n",
    "modelreg1.add(Dense(100, activation='relu')) \n",
    "\n",
    "modelreg1.add(Dense(6, activation='linear'))"
   ]
  },
  {
   "cell_type": "code",
   "execution_count": 126,
   "metadata": {},
   "outputs": [
    {
     "name": "stdout",
     "output_type": "stream",
     "text": [
      "Train on 640 samples, validate on 160 samples\n",
      "Epoch 1/50\n",
      "640/640 [==============================] - 12s 18ms/step - loss: 0.0499 - acc: 0.1719 - val_loss: 0.0390 - val_acc: 0.1938\n",
      "Epoch 2/50\n",
      "640/640 [==============================] - 11s 17ms/step - loss: 0.0371 - acc: 0.2203 - val_loss: 0.0360 - val_acc: 0.2313\n",
      "Epoch 3/50\n",
      "640/640 [==============================] - 11s 17ms/step - loss: 0.0341 - acc: 0.2641 - val_loss: 0.0350 - val_acc: 0.2500\n",
      "Epoch 4/50\n",
      "640/640 [==============================] - 11s 17ms/step - loss: 0.0333 - acc: 0.2422 - val_loss: 0.0328 - val_acc: 0.3000\n",
      "Epoch 5/50\n",
      "640/640 [==============================] - 11s 17ms/step - loss: 0.0318 - acc: 0.2625 - val_loss: 0.0330 - val_acc: 0.2562\n",
      "Epoch 6/50\n",
      "640/640 [==============================] - 11s 17ms/step - loss: 0.0311 - acc: 0.2703 - val_loss: 0.0331 - val_acc: 0.2938\n",
      "Epoch 7/50\n",
      "640/640 [==============================] - 12s 18ms/step - loss: 0.0305 - acc: 0.2984 - val_loss: 0.0326 - val_acc: 0.3187\n",
      "Epoch 8/50\n",
      "640/640 [==============================] - 12s 19ms/step - loss: 0.0301 - acc: 0.2766 - val_loss: 0.0326 - val_acc: 0.3000\n",
      "Epoch 9/50\n",
      "640/640 [==============================] - 13s 20ms/step - loss: 0.0292 - acc: 0.3063 - val_loss: 0.0336 - val_acc: 0.2562\n",
      "Epoch 10/50\n",
      "640/640 [==============================] - 12s 19ms/step - loss: 0.0286 - acc: 0.3094 - val_loss: 0.0339 - val_acc: 0.2500\n",
      "Epoch 11/50\n",
      "640/640 [==============================] - 12s 19ms/step - loss: 0.0275 - acc: 0.3234 - val_loss: 0.0352 - val_acc: 0.2687\n",
      "Epoch 12/50\n",
      "640/640 [==============================] - 13s 20ms/step - loss: 0.0267 - acc: 0.3531 - val_loss: 0.0346 - val_acc: 0.2750\n",
      "Epoch 13/50\n",
      "640/640 [==============================] - 13s 20ms/step - loss: 0.0256 - acc: 0.3453 - val_loss: 0.0358 - val_acc: 0.2875\n",
      "Epoch 14/50\n",
      "640/640 [==============================] - 12s 19ms/step - loss: 0.0239 - acc: 0.4187 - val_loss: 0.0372 - val_acc: 0.2750\n",
      "Epoch 15/50\n",
      "640/640 [==============================] - 13s 20ms/step - loss: 0.0228 - acc: 0.4531 - val_loss: 0.0396 - val_acc: 0.2250\n",
      "Epoch 16/50\n",
      "640/640 [==============================] - 13s 20ms/step - loss: 0.0215 - acc: 0.4219 - val_loss: 0.0402 - val_acc: 0.2687\n",
      "Epoch 17/50\n",
      "640/640 [==============================] - 12s 19ms/step - loss: 0.0201 - acc: 0.4688 - val_loss: 0.0418 - val_acc: 0.2562\n",
      "Epoch 18/50\n",
      "640/640 [==============================] - 14s 21ms/step - loss: 0.0178 - acc: 0.4969 - val_loss: 0.0444 - val_acc: 0.3000\n",
      "Epoch 19/50\n",
      "640/640 [==============================] - 13s 20ms/step - loss: 0.0161 - acc: 0.5172 - val_loss: 0.0454 - val_acc: 0.2188\n",
      "Epoch 20/50\n",
      "640/640 [==============================] - 13s 20ms/step - loss: 0.0141 - acc: 0.5563 - val_loss: 0.0447 - val_acc: 0.2313\n",
      "Epoch 21/50\n",
      "640/640 [==============================] - 13s 20ms/step - loss: 0.0131 - acc: 0.5609 - val_loss: 0.0473 - val_acc: 0.2188\n",
      "Epoch 22/50\n",
      "640/640 [==============================] - 13s 20ms/step - loss: 0.0116 - acc: 0.5953 - val_loss: 0.0486 - val_acc: 0.2250\n",
      "Epoch 23/50\n",
      "640/640 [==============================] - 14s 21ms/step - loss: 0.0101 - acc: 0.6047 - val_loss: 0.0488 - val_acc: 0.2562\n",
      "Epoch 24/50\n",
      "640/640 [==============================] - 14s 23ms/step - loss: 0.0086 - acc: 0.6438 - val_loss: 0.0514 - val_acc: 0.2625\n",
      "Epoch 25/50\n",
      "640/640 [==============================] - 11s 18ms/step - loss: 0.0076 - acc: 0.6594 - val_loss: 0.0519 - val_acc: 0.1938\n",
      "Epoch 26/50\n",
      "640/640 [==============================] - 11s 17ms/step - loss: 0.0071 - acc: 0.6781 - val_loss: 0.0500 - val_acc: 0.2188\n",
      "Epoch 27/50\n",
      "640/640 [==============================] - 11s 17ms/step - loss: 0.0059 - acc: 0.7016 - val_loss: 0.0546 - val_acc: 0.2250\n",
      "Epoch 28/50\n",
      "640/640 [==============================] - 10s 16ms/step - loss: 0.0058 - acc: 0.7281 - val_loss: 0.0520 - val_acc: 0.2437\n",
      "Epoch 29/50\n",
      "640/640 [==============================] - 10s 16ms/step - loss: 0.0053 - acc: 0.7141 - val_loss: 0.0541 - val_acc: 0.1938\n",
      "Epoch 30/50\n",
      "640/640 [==============================] - 10s 16ms/step - loss: 0.0046 - acc: 0.7516 - val_loss: 0.0518 - val_acc: 0.2437\n",
      "Epoch 31/50\n",
      "640/640 [==============================] - 10s 16ms/step - loss: 0.0038 - acc: 0.7562 - val_loss: 0.0528 - val_acc: 0.2250\n",
      "Epoch 32/50\n",
      "640/640 [==============================] - 10s 16ms/step - loss: 0.0029 - acc: 0.7859 - val_loss: 0.0544 - val_acc: 0.2188\n",
      "Epoch 33/50\n",
      "640/640 [==============================] - 11s 17ms/step - loss: 0.0028 - acc: 0.7828 - val_loss: 0.0528 - val_acc: 0.2188\n",
      "Epoch 34/50\n",
      "640/640 [==============================] - 10s 16ms/step - loss: 0.0026 - acc: 0.7812 - val_loss: 0.0543 - val_acc: 0.2125\n",
      "Epoch 35/50\n",
      "640/640 [==============================] - 10s 16ms/step - loss: 0.0021 - acc: 0.8078 - val_loss: 0.0539 - val_acc: 0.2250\n",
      "Epoch 36/50\n",
      "640/640 [==============================] - 11s 17ms/step - loss: 0.0019 - acc: 0.8078 - val_loss: 0.0526 - val_acc: 0.2125\n",
      "Epoch 37/50\n",
      "640/640 [==============================] - 11s 17ms/step - loss: 0.0017 - acc: 0.8484 - val_loss: 0.0556 - val_acc: 0.2250\n",
      "Epoch 38/50\n",
      "640/640 [==============================] - 11s 18ms/step - loss: 0.0016 - acc: 0.8172 - val_loss: 0.0531 - val_acc: 0.2188\n",
      "Epoch 39/50\n",
      "640/640 [==============================] - 13s 21ms/step - loss: 0.0015 - acc: 0.8500 - val_loss: 0.0544 - val_acc: 0.2188\n",
      "Epoch 40/50\n",
      "640/640 [==============================] - 11s 17ms/step - loss: 0.0014 - acc: 0.8516 - val_loss: 0.0521 - val_acc: 0.2125\n",
      "Epoch 41/50\n",
      "640/640 [==============================] - 11s 17ms/step - loss: 0.0012 - acc: 0.8500 - val_loss: 0.0533 - val_acc: 0.2250\n",
      "Epoch 42/50\n",
      "640/640 [==============================] - 11s 17ms/step - loss: 0.0010 - acc: 0.8641 - val_loss: 0.0542 - val_acc: 0.2188\n",
      "Epoch 43/50\n",
      "640/640 [==============================] - 10s 16ms/step - loss: 8.7143e-04 - acc: 0.8609 - val_loss: 0.0532 - val_acc: 0.2188\n",
      "Epoch 44/50\n",
      "640/640 [==============================] - 11s 17ms/step - loss: 7.4574e-04 - acc: 0.8859 - val_loss: 0.0531 - val_acc: 0.2313\n",
      "Epoch 45/50\n",
      "640/640 [==============================] - 11s 18ms/step - loss: 6.6831e-04 - acc: 0.8687 - val_loss: 0.0531 - val_acc: 0.2188\n",
      "Epoch 46/50\n",
      "640/640 [==============================] - 10s 16ms/step - loss: 6.8048e-04 - acc: 0.9000 - val_loss: 0.0533 - val_acc: 0.2313\n",
      "Epoch 47/50\n",
      "640/640 [==============================] - 11s 17ms/step - loss: 6.7601e-04 - acc: 0.8984 - val_loss: 0.0535 - val_acc: 0.2125\n",
      "Epoch 48/50\n",
      "640/640 [==============================] - 10s 16ms/step - loss: 5.7189e-04 - acc: 0.9094 - val_loss: 0.0534 - val_acc: 0.2250\n",
      "Epoch 49/50\n",
      "640/640 [==============================] - 11s 17ms/step - loss: 5.2484e-04 - acc: 0.8953 - val_loss: 0.0536 - val_acc: 0.2062\n",
      "Epoch 50/50\n",
      "640/640 [==============================] - 10s 16ms/step - loss: 4.6207e-04 - acc: 0.8938 - val_loss: 0.0526 - val_acc: 0.2313\n"
     ]
    },
    {
     "data": {
      "text/plain": [
       "<keras.callbacks.History at 0xb32d139e8>"
      ]
     },
     "execution_count": 126,
     "metadata": {},
     "output_type": "execute_result"
    }
   ],
   "source": [
    "#Running the model\n",
    "modelreg1.compile(loss='mse', optimizer='adam',metrics=['accuracy'])\n",
    "modelreg1.fit((X_train),y_train,validation_split=0.2, epochs=50, batch_size=32)"
   ]
  },
  {
   "cell_type": "code",
   "execution_count": 127,
   "metadata": {},
   "outputs": [
    {
     "name": "stdout",
     "output_type": "stream",
     "text": [
      "300/300 [==============================] - 1s 4ms/step\n"
     ]
    },
    {
     "data": {
      "text/plain": [
       "[0.04973345731695493, 0.2733333337306976]"
      ]
     },
     "execution_count": 127,
     "metadata": {},
     "output_type": "execute_result"
    }
   ],
   "source": [
    "#Evaluating the model\n",
    "modelreg1.evaluate(X_test, y_test)"
   ]
  },
  {
   "cell_type": "code",
   "execution_count": 128,
   "metadata": {},
   "outputs": [
    {
     "data": {
      "image/png": "[encoded data removed]",
      "text/plain": [
       "<Figure size 360x360 with 1 Axes>"
      ]
     },
     "metadata": {},
     "output_type": "display_data"
    }
   ],
   "source": [
    "#Visualising results\n",
    "y_pred_reg1 = modelreg1.predict(X_test)\n",
    "visualize_prediction(X_test[100], y_pred_reg1[100])"
   ]
  },
  {
   "cell_type": "markdown",
   "metadata": {},
   "source": [
    "Our model accuracy is slightly better (up 7%) but not enough to have the predictions lie close to the original shape."
   ]
  },
  {
   "cell_type": "markdown",
   "metadata": {},
   "source": [
    "V. Image Denoising"
   ]
  },
  {
   "cell_type": "markdown",
   "metadata": {},
   "source": [
    "Implement an hourglass network for denoising: training the network to predict a noise-free image given a noisy\n",
    "image as input."
   ]
  },
  {
   "cell_type": "markdown",
   "metadata": {},
   "source": [
    "First we alter the initial functions above to generate noisy drawings (noise generated randomly"
   ]
  },
  {
   "cell_type": "code",
   "execution_count": 17,
   "metadata": {},
   "outputs": [],
   "source": [
    "#New functions to generate noisy and denoised data\n",
    "def generate_a_drawing_noise(figsize, U, V, noise=0.0):\n",
    "    fig = plt.figure(figsize=(figsize,figsize))\n",
    "    ax = plt.subplot(111)\n",
    "    plt.axis('Off')\n",
    "    ax.set_xlim(0,figsize)\n",
    "    ax.set_ylim(0,figsize)\n",
    "    ax.fill(U, V, \"k\")\n",
    "    fig.canvas.draw()\n",
    "    imdata = np.frombuffer(fig.canvas.tostring_rgb(), dtype=np.uint8)[::3].astype(np.float32)\n",
    "    imdata_noise = imdata + noise * np.random.random(imdata.size)\n",
    "    plt.close(fig)\n",
    "    return imdata_noise, imdata\n",
    "\n",
    "def generate_dataset_noise(nb_samples, free_location=False):\n",
    "    # Getting im_size:\n",
    "    noise = np.random.randint(0,100)  \n",
    "    im_size = generate_a_rectangle().shape[0]\n",
    "    X = np.zeros([nb_samples,2,im_size])\n",
    "    Y = np.zeros(nb_samples)\n",
    "    print('Creating data:')\n",
    "    for i in range(nb_samples):\n",
    "        if i % 10 == 0:\n",
    "            print(i)\n",
    "        category = np.random.randint(3)\n",
    "        if category == 0:\n",
    "            X[i] = generate_a_rectangle_noise(free_location)\n",
    "        elif category == 1: \n",
    "            X[i] = generate_a_disk_noise(free_location)\n",
    "        else:\n",
    "            [X[i], V] = generate_a_triangle_noise(free_location)\n",
    "        Y[i] = category\n",
    "    X = (X + noise) / (255 + 2 * noise)\n",
    "    return [X, Y]\n",
    "\n",
    "def generate_a_triangle_noise(free_location=False):\n",
    "    noise = np.random.randint(0,100) #generate noise value randomly\n",
    "    figsize = 1.0\n",
    "    if free_location:\n",
    "        U = np.random.random(3)\n",
    "        V = np.random.random(3)\n",
    "    else:\n",
    "        size = (0.3 + 0.7 * np.random.random())*figsize/2\n",
    "        middle = figsize/2\n",
    "        U = (middle, middle+size, middle-size)\n",
    "        V = (middle+size, middle-size, middle-size)\n",
    "    imdata = generate_a_drawing_noise(figsize, U, V, noise)\n",
    "    return [imdata, [U[0], V[0], U[1], V[1], U[2], V[2]]]\n",
    "\n",
    "\n",
    "def generate_a_rectangle_noise(free_location=False):\n",
    "    noise = np.random.randint(0,100) #generate noise value randomly\n",
    "    figsize = 1.0    \n",
    "    U = np.zeros(4)\n",
    "    V = np.zeros(4)\n",
    "    if free_location:\n",
    "        corners = np.random.random(4)\n",
    "        top = max(corners[0], corners[1])\n",
    "        bottom = min(corners[0], corners[1])\n",
    "        left = min(corners[2], corners[3])\n",
    "        right = max(corners[2], corners[3])\n",
    "    else:\n",
    "        side = (0.3 + 0.7 * np.random.random()) * figsize\n",
    "        top = figsize/2 + side/2\n",
    "        bottom = figsize/2 - side/2\n",
    "        left = bottom\n",
    "        right = top\n",
    "    U[0] = U[1] = top\n",
    "    U[2] = U[3] = bottom\n",
    "    V[0] = V[3] = left\n",
    "    V[1] = V[2] = right\n",
    "    return generate_a_drawing_noise(figsize, U, V, noise)\n",
    "\n",
    "  \n",
    "\n",
    "def generate_a_disk_noise(free_location=False):\n",
    "    noise = np.random.randint(0,100)  #generate noise value randomly\n",
    "    figsize = 1.0\n",
    "    if free_location:\n",
    "        center = np.random.random(2)\n",
    "    else:\n",
    "        center = (figsize/2, figsize/2)\n",
    "    radius = (0.3 + 0.7 * np.random.random()) * figsize/2\n",
    "    N = 50\n",
    "    U = np.zeros(N)\n",
    "    V = np.zeros(N)\n",
    "    i = 0\n",
    "    for t in np.linspace(0, 2*np.pi, N):\n",
    "        U[i] = center[0] + np.cos(t) * radius\n",
    "        V[i] = center[1] + np.sin(t) * radius\n",
    "        i = i + 1\n",
    "    return generate_a_drawing_noise(figsize, U, V, noise)"
   ]
  },
  {
   "cell_type": "code",
   "execution_count": 18,
   "metadata": {},
   "outputs": [],
   "source": [
    "#New function to generate test set\n",
    "def generate_test_set_noise():\n",
    "    np.random.seed(42)\n",
    "    [X_test, Y_test] = generate_dataset_noise(300)\n",
    "    return [X_test, Y_test]"
   ]
  },
  {
   "cell_type": "code",
   "execution_count": 19,
   "metadata": {},
   "outputs": [
    {
     "name": "stdout",
     "output_type": "stream",
     "text": [
      "Creating data:\n",
      "0\n",
      "10\n",
      "20\n",
      "30\n",
      "40\n",
      "50\n",
      "60\n",
      "70\n",
      "80\n",
      "90\n",
      "100\n",
      "110\n",
      "120\n",
      "130\n",
      "140\n",
      "150\n",
      "160\n",
      "170\n",
      "180\n",
      "190\n",
      "200\n",
      "210\n",
      "220\n",
      "230\n",
      "240\n",
      "250\n",
      "260\n",
      "270\n",
      "280\n",
      "290\n",
      "300\n",
      "310\n",
      "320\n",
      "330\n",
      "340\n",
      "350\n",
      "360\n",
      "370\n",
      "380\n",
      "390\n",
      "400\n",
      "410\n",
      "420\n",
      "430\n",
      "440\n",
      "450\n",
      "460\n",
      "470\n",
      "480\n",
      "490\n",
      "500\n",
      "510\n",
      "520\n",
      "530\n",
      "540\n",
      "550\n",
      "560\n",
      "570\n",
      "580\n",
      "590\n",
      "600\n",
      "610\n",
      "620\n",
      "630\n",
      "640\n",
      "650\n",
      "660\n",
      "670\n",
      "680\n",
      "690\n",
      "700\n",
      "710\n",
      "720\n",
      "730\n",
      "740\n",
      "750\n",
      "760\n",
      "770\n",
      "780\n",
      "790\n"
     ]
    }
   ],
   "source": [
    "#Generate Training data\n",
    "dataset,cat = generate_dataset_noise(800)\n",
    "X_train = dataset[:,0]\n",
    "Y_train = dataset[:,1]"
   ]
  },
  {
   "cell_type": "code",
   "execution_count": 20,
   "metadata": {},
   "outputs": [
    {
     "data": {
      "text/plain": [
       "<matplotlib.image.AxesImage at 0xb383ed390>"
      ]
     },
     "execution_count": 20,
     "metadata": {},
     "output_type": "execute_result"
    },
    {
     "data": {
      "image/png": "[encoded data removed]",
      "text/plain": [
       "<Figure size 432x288 with 1 Axes>"
      ]
     },
     "metadata": {},
     "output_type": "display_data"
    }
   ],
   "source": [
    "#Plot input noisy rectangle as an example\n",
    "im = generate_a_rectangle_noise(True)\n",
    "plt.subplot(1,2,2)\n",
    "plt.imshow(im[0].reshape(IMAGE_SIZE,IMAGE_SIZE), cmap='ocean')"
   ]
  },
  {
   "cell_type": "code",
   "execution_count": 21,
   "metadata": {},
   "outputs": [
    {
     "name": "stdout",
     "output_type": "stream",
     "text": [
      "Creating data:\n",
      "0\n",
      "10\n",
      "20\n",
      "30\n",
      "40\n",
      "50\n",
      "60\n",
      "70\n",
      "80\n",
      "90\n",
      "100\n",
      "110\n",
      "120\n",
      "130\n",
      "140\n",
      "150\n",
      "160\n",
      "170\n",
      "180\n",
      "190\n",
      "200\n",
      "210\n",
      "220\n",
      "230\n",
      "240\n",
      "250\n",
      "260\n",
      "270\n",
      "280\n",
      "290\n"
     ]
    }
   ],
   "source": [
    "#Generate Test data\n",
    "X_test_n, Y_test_n = generate_test_set_noise()"
   ]
  },
  {
   "cell_type": "markdown",
   "metadata": {},
   "source": [
    "We build a Convolutional Deep Network"
   ]
  },
  {
   "cell_type": "code",
   "execution_count": 22,
   "metadata": {},
   "outputs": [],
   "source": [
    "from keras.layers import Convolution2D, MaxPooling2D, UpSampling2D"
   ]
  },
  {
   "cell_type": "code",
   "execution_count": 23,
   "metadata": {},
   "outputs": [],
   "source": [
    "#Reshape data set\n",
    "X_train_n = X_train.reshape(800,IMAGE_SIZE,IMAGE_SIZE,1)\n",
    "Y_train_n= Y_train.reshape(800,IMAGE_SIZE,IMAGE_SIZE,1)"
   ]
  },
  {
   "cell_type": "code",
   "execution_count": 24,
   "metadata": {},
   "outputs": [],
   "source": [
    "#Defining Model\n",
    "modeln = Sequential()\n",
    "\n",
    "#Input layers\n",
    "modeln.add(Convolution2D(32,(3,3), activation='relu',padding = 'same'))\n",
    "modeln.add(MaxPooling2D(pool_size=(2, 2)))\n",
    "modeln.add(Convolution2D(32,(3,3), activation = 'relu', padding = 'same'))\n",
    "modeln.add(MaxPooling2D(pool_size=(2,2)))\n",
    "\n",
    "modeln.add(Convolution2D(32, kernel_size=(3, 3), activation='relu', padding = 'same'))\n",
    "modeln.add(UpSampling2D(size=(2, 2)))\n",
    "modeln.add(Convolution2D(32, kernel_size=(3, 3), activation='relu', padding = 'same'))\n",
    "modeln.add(UpSampling2D(size=(2, 2)))\n",
    "#Output layer\n",
    "modeln.add(Convolution2D(1, kernel_size=(3, 3), activation='sigmoid', padding = 'same',input_shape=(72,72,1)))"
   ]
  },
  {
   "cell_type": "code",
   "execution_count": 25,
   "metadata": {},
   "outputs": [
    {
     "name": "stdout",
     "output_type": "stream",
     "text": [
      "Train on 720 samples, validate on 80 samples\n",
      "Epoch 1/25\n",
      "720/720 [==============================] - 19s 27ms/step - loss: 0.6420 - val_loss: 0.5656\n",
      "Epoch 2/25\n",
      "720/720 [==============================] - 24s 34ms/step - loss: 0.5173 - val_loss: 0.4886\n",
      "Epoch 3/25\n",
      "720/720 [==============================] - 30s 41ms/step - loss: 0.4829 - val_loss: 0.4796\n",
      "Epoch 4/25\n",
      "720/720 [==============================] - 28s 39ms/step - loss: 0.4789 - val_loss: 0.4772\n",
      "Epoch 5/25\n",
      "720/720 [==============================] - 27s 38ms/step - loss: 0.4770 - val_loss: 0.4763\n",
      "Epoch 6/25\n",
      "720/720 [==============================] - 28s 39ms/step - loss: 0.4767 - val_loss: 0.4755\n",
      "Epoch 7/25\n",
      "720/720 [==============================] - 39s 54ms/step - loss: 0.4756 - val_loss: 0.4750\n",
      "Epoch 8/25\n",
      "720/720 [==============================] - 41s 57ms/step - loss: 0.4750 - val_loss: 0.4748\n",
      "Epoch 9/25\n",
      "720/720 [==============================] - 30s 42ms/step - loss: 0.4749 - val_loss: 0.4739\n",
      "Epoch 10/25\n",
      "720/720 [==============================] - 25s 35ms/step - loss: 0.4742 - val_loss: 0.4740\n",
      "Epoch 11/25\n",
      "720/720 [==============================] - 26s 37ms/step - loss: 0.4739 - val_loss: 0.4739\n",
      "Epoch 12/25\n",
      "720/720 [==============================] - 31s 43ms/step - loss: 0.4735 - val_loss: 0.4730\n",
      "Epoch 13/25\n",
      "720/720 [==============================] - 36s 50ms/step - loss: 0.4738 - val_loss: 0.4728\n",
      "Epoch 14/25\n",
      "720/720 [==============================] - 29s 40ms/step - loss: 0.4730 - val_loss: 0.4725\n",
      "Epoch 15/25\n",
      "720/720 [==============================] - 38s 52ms/step - loss: 0.4727 - val_loss: 0.4723\n",
      "Epoch 16/25\n",
      "720/720 [==============================] - 31s 43ms/step - loss: 0.4727 - val_loss: 0.4722\n",
      "Epoch 17/25\n",
      "720/720 [==============================] - 30s 42ms/step - loss: 0.4724 - val_loss: 0.4722\n",
      "Epoch 18/25\n",
      "720/720 [==============================] - 40s 56ms/step - loss: 0.4722 - val_loss: 0.4720\n",
      "Epoch 19/25\n",
      "720/720 [==============================] - 32s 45ms/step - loss: 0.4720 - val_loss: 0.4717\n",
      "Epoch 20/25\n",
      "720/720 [==============================] - 26s 36ms/step - loss: 0.4719 - val_loss: 0.4716\n",
      "Epoch 21/25\n",
      "720/720 [==============================] - 29s 40ms/step - loss: 0.4718 - val_loss: 0.4715\n",
      "Epoch 22/25\n",
      "720/720 [==============================] - 37s 51ms/step - loss: 0.4716 - val_loss: 0.4721\n",
      "Epoch 23/25\n",
      "720/720 [==============================] - 30s 42ms/step - loss: 0.4718 - val_loss: 0.4714\n",
      "Epoch 24/25\n",
      "720/720 [==============================] - 28s 39ms/step - loss: 0.4714 - val_loss: 0.4713\n",
      "Epoch 25/25\n",
      "720/720 [==============================] - 26s 37ms/step - loss: 0.4713 - val_loss: 0.4724\n"
     ]
    },
    {
     "data": {
      "text/plain": [
       "<keras.callbacks.History at 0xb26a96748>"
      ]
     },
     "execution_count": 25,
     "metadata": {},
     "output_type": "execute_result"
    }
   ],
   "source": [
    "#Buidling and training the model\n",
    "modeln.compile(optimizer=\"adam\", loss='binary_crossentropy')\n",
    "modeln.fit(X_train_n, Y_train_n, epochs=25, batch_size=32, validation_split=0.1, shuffle=True, verbose=1)"
   ]
  },
  {
   "cell_type": "code",
   "execution_count": null,
   "metadata": {},
   "outputs": [],
   "source": [
    "#Making our prediction on test set\n",
    "prediction_n = modeln.predict(X_test_n)"
   ]
  },
  {
   "cell_type": "markdown",
   "metadata": {},
   "source": [
    "Plotting results"
   ]
  },
  {
   "cell_type": "code",
   "execution_count": 163,
   "metadata": {},
   "outputs": [
    {
     "data": {
      "text/plain": [
       "Text(0.5,1,'Original Test Noisy Image')"
      ]
     },
     "execution_count": 163,
     "metadata": {},
     "output_type": "execute_result"
    },
    {
     "data": {
      "image/png": "[encoded data removed]",
      "text/plain": [
       "<Figure size 432x288 with 1 Axes>"
      ]
     },
     "metadata": {},
     "output_type": "display_data"
    }
   ],
   "source": [
    "plt.imshow(X_test_n[150].reshape(72,72), cmap='ocean')\n",
    "plt.title('Original Test Noisy Image')"
   ]
  },
  {
   "cell_type": "code",
   "execution_count": 164,
   "metadata": {},
   "outputs": [
    {
     "data": {
      "text/plain": [
       "Text(0.5,1,'Resulting Denoised Image')"
      ]
     },
     "execution_count": 164,
     "metadata": {},
     "output_type": "execute_result"
    },
    {
     "data": {
      "image/png": "[encoded data removed]",
      "text/plain": [
       "<Figure size 432x288 with 1 Axes>"
      ]
     },
     "metadata": {},
     "output_type": "display_data"
    }
   ],
   "source": [
    "plt.imshow(prediction_n[150].reshape(72,72), cmap='ocean')\n",
    "plt.title('Resulting Denoised Image')"
   ]
  }
 ],
 "metadata": {
  "kernelspec": {
   "display_name": "Python 3",
   "language": "python",
   "name": "python3"
  },
  "language_info": {
   "codemirror_mode": {
    "name": "ipython",
    "version": 3
   },
   "file_extension": ".py",
   "mimetype": "text/x-python",
   "name": "python",
   "nbconvert_exporter": "python",
   "pygments_lexer": "ipython3",
   "version": "3.6.5"
  }
 },
 "nbformat": 4,
 "nbformat_minor": 2
}
